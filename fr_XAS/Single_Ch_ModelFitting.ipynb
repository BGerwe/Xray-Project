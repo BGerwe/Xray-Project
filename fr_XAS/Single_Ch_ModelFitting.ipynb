{
 "cells": [
  {
   "cell_type": "code",
   "execution_count": 40,
   "metadata": {},
   "outputs": [],
   "source": [
    "import numpy as np\n",
    "import frXAS_Analysis as frXAS\n",
    "import h5py\n",
    "\n",
    "%reload_ext autoreload\n",
    "%autoreload 2"
   ]
  },
  {
   "cell_type": "code",
   "execution_count": 70,
   "metadata": {},
   "outputs": [],
   "source": [
    "# Some data from July 2018 \"Ir avg normalized\" fits from fr-XAS_View LabVIEW program\n",
    "Po2 = ('1', '10', '100')\n",
    "direc = 'July2018 Data Fits\\Ir avg normalized'\n",
    "\n",
    "#1% O2 0.25 Hz Data\n",
    "Pos1_0_25Hz = np.genfromtxt(direc + '\\Pos1_0_25Hz.txt', delimiter=', ')\n",
    "Re1_0_25Hz = np.genfromtxt(direc + '\\Re1_0_25Hz.txt', delimiter=', ')\n",
    "Im1_0_25Hz = np.genfromtxt(direc + '\\Im1_0_25Hz.txt', delimiter=', ')\n",
    "\n",
    "#1% O2 1 Hz Data\n",
    "Pos1_1Hz = np.genfromtxt(direc + '\\Pos1_1Hz.txt', delimiter=', ')\n",
    "Re1_1Hz = np.genfromtxt(direc + '\\Re1_1Hz.txt', delimiter=', ')\n",
    "Im1_1Hz = np.genfromtxt(direc + '\\Im1_1Hz.txt', delimiter=', ')\n",
    "\n",
    "#1% O2 4 Hz Data\n",
    "Pos1_4Hz = np.genfromtxt(direc + '\\Pos1_4Hz.txt', delimiter=', ')\n",
    "Re1_4Hz = np.genfromtxt(direc + '\\Re1_4Hz.txt', delimiter=', ')\n",
    "Im1_4Hz = np.genfromtxt(direc + '\\Im1_4Hz.txt', delimiter=', ')\n",
    "\n",
    "#10% O2 0.25 Hz Data\n",
    "Pos10_0_25Hz = np.genfromtxt(direc + '\\Pos10_0_25Hz.txt', delimiter=', ')\n",
    "Re10_0_25Hz = np.genfromtxt(direc + '\\Re10_0_25Hz.txt', delimiter=', ')\n",
    "Im10_0_25Hz = np.genfromtxt(direc + '\\Im10_0_25Hz.txt', delimiter=', ')\n",
    "\n",
    "#10% O2 1 Hz Data\n",
    "Pos10_1Hz = np.genfromtxt(direc + '\\Pos10_1Hz.txt', delimiter=', ')\n",
    "Re10_1Hz = np.genfromtxt(direc + '\\Re10_1Hz.txt', delimiter=', ')\n",
    "Im10_1Hz = np.genfromtxt(direc + '\\Im10_1Hz.txt', delimiter=', ')\n",
    "\n",
    "#10% O2 5 Hz Data\n",
    "Pos10_5Hz = np.genfromtxt(direc + '\\Pos10_5Hz.txt', delimiter=', ')\n",
    "Re10_5Hz = np.genfromtxt(direc + '\\Re10_5Hz.txt', delimiter=', ')\n",
    "Im10_5Hz = np.genfromtxt(direc + '\\Im10_5Hz.txt', delimiter=', ')\n",
    "\n",
    "#100% O2 0.5 Hz Data\n",
    "Pos100_0_5Hz = np.genfromtxt(direc + '\\Pos100_0_5Hz.txt', delimiter=', ')\n",
    "Re100_0_5Hz = np.genfromtxt(direc + '\\Re100_0_5Hz.txt', delimiter=', ')\n",
    "Im100_0_5Hz = np.genfromtxt(direc + '\\Im100_0_5Hz.txt', delimiter=', ')\n",
    "\n",
    "#100% O2 8 Hz Data\n",
    "Pos100_8Hz = np.genfromtxt(direc + '\\Pos100_8Hz.txt', delimiter=', ')\n",
    "Re100_8Hz = np.genfromtxt(direc + '\\Re100_8Hz.txt', delimiter=', ')\n",
    "Im100_8Hz = np.genfromtxt(direc + '\\Im100_8Hz.txt', delimiter=', ')"
   ]
  },
  {
   "cell_type": "code",
   "execution_count": 3,
   "metadata": {},
   "outputs": [],
   "source": [
    "frXAS.create_Exp_File(\"July18_frXAS\", Po2, Temp=700)"
   ]
  },
  {
   "cell_type": "code",
   "execution_count": 2,
   "metadata": {},
   "outputs": [
    {
     "data": {
      "text/plain": [
       "<KeysViewHDF5 ['1%_O2', '10%_O2', '100%_O2']>"
      ]
     },
     "execution_count": 2,
     "metadata": {},
     "output_type": "execute_result"
    }
   ],
   "source": [
    "f1 = frXAS.open_Exp_File('July18_frXAS')\n",
    "f1.keys()"
   ]
  },
  {
   "cell_type": "code",
   "execution_count": 97,
   "metadata": {},
   "outputs": [
    {
     "name": "stdout",
     "output_type": "stream",
     "text": [
      "/1%_O2/0.25_Hz (3, 21)\n",
      "/1%_O2/1_Hz (3, 18)\n",
      "/1%_O2/4_Hz (3, 20)\n",
      "/10%_O2/0.25_Hz (3, 31)\n",
      "/10%_O2/1_Hz (3, 24)\n",
      "/10%_O2/5_Hz (3, 13)\n",
      "/100%_O2/0.5_Hz (3, 9)\n",
      "/100%_O2/8_Hz (3, 18)\n"
     ]
    }
   ],
   "source": [
    "frXAS.add_frXAS_Profile(f1, Po2[0], 0.25, np.array([Pos1_0_25Hz,Re1_0_25Hz,Im1_0_25Hz]))\n",
    "frXAS.add_frXAS_Profile(f1, Po2[0], 1, np.array([Pos1_1Hz,Re1_1Hz,Im1_1Hz]))\n",
    "frXAS.add_frXAS_Profile(f1, Po2[0], 4, np.array([Pos1_4Hz,Re1_4Hz,Im1_4Hz]))\n",
    "\n",
    "frXAS.add_frXAS_Profile(f1, Po2[1], 0.25, np.array([Pos10_0_25Hz,Re10_0_25Hz,Im10_0_25Hz]))\n",
    "frXAS.add_frXAS_Profile(f1, Po2[1], 1, np.array([Pos10_1Hz,Re10_1Hz,Im10_1Hz]))\n",
    "frXAS.add_frXAS_Profile(f1, Po2[1], 5, np.array([Pos10_5Hz,Re10_5Hz,Im10_5Hz]))\n",
    "\n",
    "frXAS.add_frXAS_Profile(f1, Po2[2], 0.5, np.array([Pos100_0_5Hz,Re100_0_5Hz,Im100_0_5Hz]))\n",
    "frXAS.add_frXAS_Profile(f1, Po2[2], 8, np.array([Pos100_8Hz,Re100_8Hz,Im100_8Hz]))\n",
    "\n",
    "frXAS.print_data_shapes(f1)\n",
    "\n",
    "#Adding some exp conditions\n",
    "f1['1%_O2'].attrs['Gas'] = 0.01\n",
    "f1['1%_O2/0.25_Hz'].attrs['start'] = 5\n",
    "f1['1%_O2/1_Hz'].attrs['start'] = 3\n",
    "f1['1%_O2/4_Hz'].attrs['start'] = 5\n",
    "\n",
    "f1['10%_O2'].attrs['Gas'] = 0.10\n",
    "f1['10%_O2/0.25_Hz'].attrs['start'] = 5\n",
    "f1['10%_O2/1_Hz'].attrs['start'] = 7\n",
    "f1['10%_O2/5_Hz'].attrs['start'] = 2\n",
    "\n",
    "f1['100%_O2'].attrs['Gas'] = 1\n",
    "f1['100%_O2/0.5_Hz'].attrs['start'] = 2\n",
    "f1['100%_O2/8_Hz'].attrs['start'] = 5\n",
    "\n",
    "f1.close()"
   ]
  },
  {
   "cell_type": "code",
   "execution_count": 2,
   "metadata": {},
   "outputs": [
    {
     "name": "stdout",
     "output_type": "stream",
     "text": [
      "<KeysViewHDF5 ['1%_O2', '10%_O2', '100%_O2']>\n"
     ]
    }
   ],
   "source": [
    "f1 = frXAS.open_Exp_File('July18_frXAS')\n",
    "print(f1.keys())\n",
    "# f1['1%_O2'].attrs.keys(), f1['1%_O2']['0.25_Hz'].attrs.keys())"
   ]
  },
  {
   "cell_type": "code",
   "execution_count": 46,
   "metadata": {},
   "outputs": [],
   "source": [
    "f1.close()"
   ]
  },
  {
   "cell_type": "code",
   "execution_count": 42,
   "metadata": {},
   "outputs": [
    {
     "data": {
      "text/plain": [
       "[array([[ 0.00000000e+00,  1.00000000e+00,  2.00000000e+00,\n",
       "          3.00000000e+00,  7.00000000e+00,  1.60000000e+01,\n",
       "          2.10000000e+01,  2.60000000e+01,  3.10000000e+01,\n",
       "          3.80000000e+01,  4.10000000e+01,  4.40000000e+01,\n",
       "          4.90000000e+01,  5.20000000e+01,  5.40000000e+01,\n",
       "          6.60000000e+01,  1.54000000e+02],\n",
       "        [-1.22098950e-02, -1.15910350e-02, -1.09204320e-02,\n",
       "         -1.03464250e-02, -7.88170100e-03, -3.77963800e-03,\n",
       "         -2.28086800e-03, -1.39130500e-03, -6.69541000e-04,\n",
       "         -2.01563000e-04, -4.83590000e-05,  1.58951000e-04,\n",
       "          2.49848000e-04,  3.09537000e-04,  3.49454000e-04,\n",
       "          1.72532000e-04,  3.86325000e-05],\n",
       "        [ 7.79254000e-04,  7.96089000e-04,  8.72947000e-04,\n",
       "          1.21117300e-03,  2.49197600e-03,  2.96805900e-03,\n",
       "          2.91462700e-03,  2.55749200e-03,  2.04284000e-03,\n",
       "          1.45541700e-03,  1.30722600e-03,  1.10121800e-03,\n",
       "          6.94836000e-04,  5.48137000e-04,  3.88933000e-04,\n",
       "          1.36148000e-04, -4.95379000e-06],\n",
       "        [ 1.22347363e-02,  1.16183411e-02,  1.09552668e-02,\n",
       "          1.04170749e-02,  8.26626609e-03,  4.80572967e-03,\n",
       "          3.70100113e-03,  2.91144207e-03,  2.14976287e-03,\n",
       "          1.46930810e-03,  1.30812018e-03,  1.11263044e-03,\n",
       "          7.38390879e-04,  6.29497677e-04,  5.22864205e-04,\n",
       "          2.19780729e-04,  3.89488137e-05]]),\n",
       " array([[ 0.00000000e+00,  1.00000000e+00,  2.00000000e+00,\n",
       "          3.00000000e+00,  4.00000000e+00,  5.00000000e+00,\n",
       "          6.00000000e+00,  1.00000000e+01,  1.70000000e+01,\n",
       "          2.00000000e+01,  2.50000000e+01,  3.00000000e+01,\n",
       "          3.20000000e+01,  4.20000000e+01,  5.10000000e+01,\n",
       "          1.10000000e+02],\n",
       "        [-1.24853140e-02, -1.18774940e-02, -9.86350000e-03,\n",
       "         -8.73313400e-03, -7.81572500e-03, -6.75711400e-03,\n",
       "         -5.70387000e-03, -2.65252500e-03, -1.05738000e-04,\n",
       "          4.47310000e-04,  6.35809000e-04,  4.30977000e-04,\n",
       "          3.98067000e-04,  6.65738000e-05, -4.62280000e-05,\n",
       "         -1.07756000e-05],\n",
       "        [ 1.90780600e-03,  2.47866700e-03,  2.55514800e-03,\n",
       "          2.74825200e-03,  3.36954100e-03,  3.57645900e-03,\n",
       "          3.77595700e-03,  3.72360300e-03,  2.20080700e-03,\n",
       "          1.63393300e-03,  6.45343000e-04,  2.24317000e-04,\n",
       "          9.01516000e-05, -1.19418000e-04,  1.31818000e-05,\n",
       "         -1.53460000e-05],\n",
       "        [ 1.26302331e-02,  1.21333694e-02,  1.01890831e-02,\n",
       "          9.15535464e-03,  8.51113176e-03,  7.64523699e-03,\n",
       "          6.84046667e-03,  4.57177298e-03,  2.20334563e-03,\n",
       "          1.69405528e-03,  9.05936351e-04,  4.85859333e-04,\n",
       "          4.08147826e-04,  1.36721357e-04,  4.80706546e-05,\n",
       "          1.87513539e-05]]),\n",
       " array([[ 0.00000000e+00,  1.00000000e+00,  2.00000000e+00,\n",
       "          3.00000000e+00,  4.00000000e+00,  5.00000000e+00,\n",
       "          6.00000000e+00,  7.00000000e+00,  8.00000000e+00,\n",
       "          9.00000000e+00,  1.00000000e+01,  1.10000000e+01,\n",
       "          1.20000000e+01,  1.40000000e+01,  1.60000000e+01,\n",
       "          4.50000000e+01],\n",
       "        [-8.70842400e-03, -7.56722900e-03, -6.20178700e-03,\n",
       "         -4.26374300e-03, -2.94413400e-03, -1.41615500e-03,\n",
       "         -5.95067000e-04, -9.80573000e-06,  3.94867000e-04,\n",
       "          5.99355000e-04,  8.65922000e-04,  8.32180000e-04,\n",
       "          8.00156000e-04,  7.07323000e-04,  5.25383000e-04,\n",
       "          6.34437000e-06],\n",
       "        [ 4.98661700e-03,  5.00558600e-03,  5.21134200e-03,\n",
       "          5.30913400e-03,  4.94392300e-03,  4.37941100e-03,\n",
       "          3.80805900e-03,  3.30028200e-03,  2.85786200e-03,\n",
       "          2.22715200e-03,  1.62811900e-03,  1.28360400e-03,\n",
       "          8.30575000e-04,  2.07257000e-04,  7.89938000e-05,\n",
       "          2.33996000e-05],\n",
       "        [ 1.00350883e-02,  9.07297338e-03,  8.10063253e-03,\n",
       "          6.80928838e-03,  5.75415499e-03,  4.60268788e-03,\n",
       "          3.85427270e-03,  3.30029657e-03,  2.88501216e-03,\n",
       "          2.30638948e-03,  1.84406952e-03,  1.52975906e-03,\n",
       "          1.15330155e-03,  7.37062610e-04,  5.31288356e-04,\n",
       "          2.42444284e-05]])]"
      ]
     },
     "execution_count": 42,
     "metadata": {},
     "output_type": "execute_result"
    }
   ],
   "source": [
    "out1 = frXAS.extr_adj_1Po2(f1['1%_O2'])\n",
    "data1 = out1['data_adj']\n",
    "data1"
   ]
  },
  {
   "cell_type": "code",
   "execution_count": 17,
   "metadata": {},
   "outputs": [
    {
     "name": "stdout",
     "output_type": "stream",
     "text": [
      "0\n",
      "1\n",
      "2\n"
     ]
    }
   ],
   "source": [
    "obj=f1['1%_O2']\n",
    "group = '0.25_Hz'\n",
    "\n",
    "dum = {}\n",
    "\n",
    "\n",
    "for i in np.arange(0,obj[group].shape[0]):\n",
    "    print(i)\n",
    "    dum(\n",
    "\n",
    "# f1['1%_O2']['0.25_Hz'].shape[0]"
   ]
  }
 ],
 "metadata": {
  "kernelspec": {
   "display_name": "Python 3",
   "language": "python",
   "name": "python3"
  },
  "language_info": {
   "codemirror_mode": {
    "name": "ipython",
    "version": 3
   },
   "file_extension": ".py",
   "mimetype": "text/x-python",
   "name": "python",
   "nbconvert_exporter": "python",
   "pygments_lexer": "ipython3",
   "version": "3.6.9"
  }
 },
 "nbformat": 4,
 "nbformat_minor": 4
}
