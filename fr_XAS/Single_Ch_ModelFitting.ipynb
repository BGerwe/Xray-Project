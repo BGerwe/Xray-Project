{
 "cells": [
  {
   "cell_type": "code",
   "execution_count": 1,
   "metadata": {},
   "outputs": [],
   "source": [
    "import numpy as np\n",
    "import frXAS_Analysis as frXAS\n",
    "import h5py\n",
    "\n",
    "%reload_ext autoreload\n",
    "%autoreload 2"
   ]
  },
  {
   "cell_type": "code",
   "execution_count": 70,
   "metadata": {},
   "outputs": [],
   "source": [
    "# Some data from July 2018 \"Ir avg normalized\" fits from fr-XAS_View LabVIEW program\n",
    "Po2 = ('1', '10', '100')\n",
    "direc = 'July2018 Data Fits\\Ir avg normalized'\n",
    "\n",
    "#1% O2 0.25 Hz Data\n",
    "Pos1_0_25Hz = np.genfromtxt(direc + '\\Pos1_0_25Hz.txt', delimiter=', ')\n",
    "Re1_0_25Hz = np.genfromtxt(direc + '\\Re1_0_25Hz.txt', delimiter=', ')\n",
    "Im1_0_25Hz = np.genfromtxt(direc + '\\Im1_0_25Hz.txt', delimiter=', ')\n",
    "\n",
    "#1% O2 1 Hz Data\n",
    "Pos1_1Hz = np.genfromtxt(direc + '\\Pos1_1Hz.txt', delimiter=', ')\n",
    "Re1_1Hz = np.genfromtxt(direc + '\\Re1_1Hz.txt', delimiter=', ')\n",
    "Im1_1Hz = np.genfromtxt(direc + '\\Im1_1Hz.txt', delimiter=', ')\n",
    "\n",
    "#1% O2 4 Hz Data\n",
    "Pos1_4Hz = np.genfromtxt(direc + '\\Pos1_4Hz.txt', delimiter=', ')\n",
    "Re1_4Hz = np.genfromtxt(direc + '\\Re1_4Hz.txt', delimiter=', ')\n",
    "Im1_4Hz = np.genfromtxt(direc + '\\Im1_4Hz.txt', delimiter=', ')\n",
    "\n",
    "#10% O2 0.25 Hz Data\n",
    "Pos10_0_25Hz = np.genfromtxt(direc + '\\Pos10_0_25Hz.txt', delimiter=', ')\n",
    "Re10_0_25Hz = np.genfromtxt(direc + '\\Re10_0_25Hz.txt', delimiter=', ')\n",
    "Im10_0_25Hz = np.genfromtxt(direc + '\\Im10_0_25Hz.txt', delimiter=', ')\n",
    "\n",
    "#10% O2 1 Hz Data\n",
    "Pos10_1Hz = np.genfromtxt(direc + '\\Pos10_1Hz.txt', delimiter=', ')\n",
    "Re10_1Hz = np.genfromtxt(direc + '\\Re10_1Hz.txt', delimiter=', ')\n",
    "Im10_1Hz = np.genfromtxt(direc + '\\Im10_1Hz.txt', delimiter=', ')\n",
    "\n",
    "#10% O2 5 Hz Data\n",
    "Pos10_5Hz = np.genfromtxt(direc + '\\Pos10_5Hz.txt', delimiter=', ')\n",
    "Re10_5Hz = np.genfromtxt(direc + '\\Re10_5Hz.txt', delimiter=', ')\n",
    "Im10_5Hz = np.genfromtxt(direc + '\\Im10_5Hz.txt', delimiter=', ')\n",
    "\n",
    "#100% O2 0.5 Hz Data\n",
    "Pos100_0_5Hz = np.genfromtxt(direc + '\\Pos100_0_5Hz.txt', delimiter=', ')\n",
    "Re100_0_5Hz = np.genfromtxt(direc + '\\Re100_0_5Hz.txt', delimiter=', ')\n",
    "Im100_0_5Hz = np.genfromtxt(direc + '\\Im100_0_5Hz.txt', delimiter=', ')\n",
    "\n",
    "#100% O2 8 Hz Data\n",
    "Pos100_8Hz = np.genfromtxt(direc + '\\Pos100_8Hz.txt', delimiter=', ')\n",
    "Re100_8Hz = np.genfromtxt(direc + '\\Re100_8Hz.txt', delimiter=', ')\n",
    "Im100_8Hz = np.genfromtxt(direc + '\\Im100_8Hz.txt', delimiter=', ')"
   ]
  },
  {
   "cell_type": "code",
   "execution_count": 3,
   "metadata": {},
   "outputs": [],
   "source": [
    "frXAS.create_Exp_File(\"July18_frXAS\", Po2, Temp=700)"
   ]
  },
  {
   "cell_type": "code",
   "execution_count": 2,
   "metadata": {},
   "outputs": [
    {
     "data": {
      "text/plain": [
       "<KeysViewHDF5 ['1%_O2', '10%_O2', '100%_O2']>"
      ]
     },
     "execution_count": 2,
     "metadata": {},
     "output_type": "execute_result"
    }
   ],
   "source": [
    "f1 = frXAS.open_Exp_File('July18_frXAS')\n",
    "f1.keys()"
   ]
  },
  {
   "cell_type": "code",
   "execution_count": 97,
   "metadata": {},
   "outputs": [
    {
     "name": "stdout",
     "output_type": "stream",
     "text": [
      "/1%_O2/0.25_Hz (3, 21)\n",
      "/1%_O2/1_Hz (3, 18)\n",
      "/1%_O2/4_Hz (3, 20)\n",
      "/10%_O2/0.25_Hz (3, 31)\n",
      "/10%_O2/1_Hz (3, 24)\n",
      "/10%_O2/5_Hz (3, 13)\n",
      "/100%_O2/0.5_Hz (3, 9)\n",
      "/100%_O2/8_Hz (3, 18)\n"
     ]
    }
   ],
   "source": [
    "frXAS.add_frXAS_Profile(f1, Po2[0], 0.25, np.array([Pos1_0_25Hz,Re1_0_25Hz,Im1_0_25Hz]))\n",
    "frXAS.add_frXAS_Profile(f1, Po2[0], 1, np.array([Pos1_1Hz,Re1_1Hz,Im1_1Hz]))\n",
    "frXAS.add_frXAS_Profile(f1, Po2[0], 4, np.array([Pos1_4Hz,Re1_4Hz,Im1_4Hz]))\n",
    "\n",
    "frXAS.add_frXAS_Profile(f1, Po2[1], 0.25, np.array([Pos10_0_25Hz,Re10_0_25Hz,Im10_0_25Hz]))\n",
    "frXAS.add_frXAS_Profile(f1, Po2[1], 1, np.array([Pos10_1Hz,Re10_1Hz,Im10_1Hz]))\n",
    "frXAS.add_frXAS_Profile(f1, Po2[1], 5, np.array([Pos10_5Hz,Re10_5Hz,Im10_5Hz]))\n",
    "\n",
    "frXAS.add_frXAS_Profile(f1, Po2[2], 0.5, np.array([Pos100_0_5Hz,Re100_0_5Hz,Im100_0_5Hz]))\n",
    "frXAS.add_frXAS_Profile(f1, Po2[2], 8, np.array([Pos100_8Hz,Re100_8Hz,Im100_8Hz]))\n",
    "\n",
    "frXAS.print_data_shapes(f1)\n",
    "\n",
    "#Adding some exp conditions\n",
    "f1['1%_O2'].attrs['Gas'] = 0.01\n",
    "f1['1%_O2/0.25_Hz'].attrs['start'] = 5\n",
    "f1['1%_O2/1_Hz'].attrs['start'] = 3\n",
    "f1['1%_O2/4_Hz'].attrs['start'] = 5\n",
    "\n",
    "f1['10%_O2'].attrs['Gas'] = 0.10\n",
    "f1['10%_O2/0.25_Hz'].attrs['start'] = 5\n",
    "f1['10%_O2/1_Hz'].attrs['start'] = 7\n",
    "f1['10%_O2/5_Hz'].attrs['start'] = 2\n",
    "\n",
    "f1['100%_O2'].attrs['Gas'] = 1\n",
    "f1['100%_O2/0.5_Hz'].attrs['start'] = 2\n",
    "f1['100%_O2/8_Hz'].attrs['start'] = 5\n",
    "\n",
    "f1.close()"
   ]
  },
  {
   "cell_type": "code",
   "execution_count": 2,
   "metadata": {},
   "outputs": [
    {
     "name": "stdout",
     "output_type": "stream",
     "text": [
      "<KeysViewHDF5 ['1%_O2', '10%_O2', '100%_O2']>\n"
     ]
    }
   ],
   "source": [
    "f1 = frXAS.open_Exp_File('July18_frXAS')\n",
    "print(f1.keys())\n",
    "# f1['1%_O2'].attrs.keys(), f1['1%_O2']['0.25_Hz'].attrs.keys())"
   ]
  },
  {
   "cell_type": "code",
   "execution_count": 46,
   "metadata": {},
   "outputs": [],
   "source": [
    "f1.close()"
   ]
  },
  {
   "cell_type": "code",
   "execution_count": 6,
   "metadata": {},
   "outputs": [
    {
     "data": {
      "text/plain": [
       "[array([[ 0.00000000e+00,  1.00000000e+00,  2.00000000e+00,\n",
       "          3.00000000e+00,  7.00000000e+00,  1.60000000e+01,\n",
       "          2.10000000e+01,  2.60000000e+01,  3.10000000e+01,\n",
       "          3.80000000e+01,  4.10000000e+01,  4.40000000e+01,\n",
       "          4.90000000e+01,  5.20000000e+01,  5.40000000e+01,\n",
       "          6.60000000e+01,  1.54000000e+02, -4.31012210e+02,\n",
       "         -4.31011591e+02, -4.31010920e+02, -4.31010346e+02],\n",
       "        [-7.88170100e-03, -3.77963800e-03, -2.28086800e-03,\n",
       "         -1.39130500e-03, -6.69541000e-04, -2.01563000e-04,\n",
       "         -4.83590000e-05,  1.58951000e-04,  2.49848000e-04,\n",
       "          3.09537000e-04,  3.49454000e-04,  1.72532000e-04,\n",
       "          3.86325000e-05,  7.79254000e-04,  7.96089000e-04,\n",
       "          8.72947000e-04,  1.21117300e-03,  2.49197600e-03,\n",
       "          2.96805900e-03,  2.91462700e-03,  2.55749200e-03],\n",
       "        [ 2.04284000e-03,  1.45541700e-03,  1.30722600e-03,\n",
       "          1.10121800e-03,  6.94836000e-04,  5.48137000e-04,\n",
       "          3.88933000e-04,  1.36148000e-04, -4.95379000e-06,\n",
       "          4.31000000e+02,  4.32000000e+02,  4.33000000e+02,\n",
       "          4.34000000e+02,  4.38000000e+02,  4.47000000e+02,\n",
       "          4.52000000e+02,  4.57000000e+02,  4.62000000e+02,\n",
       "          4.69000000e+02,  4.72000000e+02,  4.75000000e+02],\n",
       "        [ 8.14213768e-03,  4.05017309e-03,  2.62891587e-03,\n",
       "          1.77437614e-03,  9.64926017e-04,  5.84022100e-04,\n",
       "          3.91927891e-04,  2.09288553e-04,  2.49897105e-04,\n",
       "          4.31000000e+02,  4.32000000e+02,  4.33000000e+02,\n",
       "          4.34000000e+02,  4.38000000e+02,  4.47000000e+02,\n",
       "          4.52000000e+02,  4.57000000e+02,  4.62000000e+02,\n",
       "          4.69000000e+02,  4.72000000e+02,  4.75000000e+02]]),\n",
       " array([[ 0.00000000e+00,  1.00000000e+00,  2.00000000e+00,\n",
       "          3.00000000e+00,  4.00000000e+00,  5.00000000e+00,\n",
       "          6.00000000e+00,  1.00000000e+01,  1.70000000e+01,\n",
       "          2.00000000e+01,  2.50000000e+01,  3.00000000e+01,\n",
       "          3.20000000e+01,  4.20000000e+01,  5.10000000e+01,\n",
       "          1.10000000e+02, -4.33012485e+02, -4.33011877e+02],\n",
       "        [-9.86350000e-03, -8.73313400e-03, -7.81572500e-03,\n",
       "         -6.75711400e-03, -5.70387000e-03, -2.65252500e-03,\n",
       "         -1.05738000e-04,  4.47310000e-04,  6.35809000e-04,\n",
       "          4.30977000e-04,  3.98067000e-04,  6.65738000e-05,\n",
       "         -4.62280000e-05, -1.07756000e-05,  1.90780600e-03,\n",
       "          2.47866700e-03,  2.55514800e-03,  2.74825200e-03],\n",
       "        [ 3.36954100e-03,  3.57645900e-03,  3.77595700e-03,\n",
       "          3.72360300e-03,  2.20080700e-03,  1.63393300e-03,\n",
       "          6.45343000e-04,  2.24317000e-04,  9.01516000e-05,\n",
       "         -1.19418000e-04,  1.31818000e-05, -1.53460000e-05,\n",
       "          4.33000000e+02,  4.34000000e+02,  4.35000000e+02,\n",
       "          4.36000000e+02,  4.37000000e+02,  4.38000000e+02],\n",
       "        [ 1.04231684e-02,  9.43709110e-03,  8.68005810e-03,\n",
       "          7.71516746e-03,  6.11372918e-03,  3.11538536e-03,\n",
       "          6.53948096e-04,  5.00404189e-04,  6.42168510e-04,\n",
       "          4.47215645e-04,  3.98285195e-04,  6.83196206e-05,\n",
       "          4.33000000e+02,  4.34000000e+02,  4.35000000e+02,\n",
       "          4.36000000e+02,  4.37000000e+02,  4.38000000e+02]]),\n",
       " array([[ 0.00000000e+00,  1.00000000e+00,  2.00000000e+00,\n",
       "          3.00000000e+00,  4.00000000e+00,  5.00000000e+00,\n",
       "          6.00000000e+00,  7.00000000e+00,  8.00000000e+00,\n",
       "          9.00000000e+00,  1.00000000e+01,  1.10000000e+01,\n",
       "          1.20000000e+01,  1.40000000e+01,  1.60000000e+01,\n",
       "          4.50000000e+01, -4.35008708e+02, -4.35007567e+02,\n",
       "         -4.35006202e+02, -4.35004264e+02],\n",
       "        [-2.94413400e-03, -1.41615500e-03, -5.95067000e-04,\n",
       "         -9.80573000e-06,  3.94867000e-04,  5.99355000e-04,\n",
       "          8.65922000e-04,  8.32180000e-04,  8.00156000e-04,\n",
       "          7.07323000e-04,  5.25383000e-04,  6.34437000e-06,\n",
       "          4.98661700e-03,  5.00558600e-03,  5.21134200e-03,\n",
       "          5.30913400e-03,  4.94392300e-03,  4.37941100e-03,\n",
       "          3.80805900e-03,  3.30028200e-03],\n",
       "        [ 2.85786200e-03,  2.22715200e-03,  1.62811900e-03,\n",
       "          1.28360400e-03,  8.30575000e-04,  2.07257000e-04,\n",
       "          7.89938000e-05,  2.33996000e-05,  4.35000000e+02,\n",
       "          4.36000000e+02,  4.37000000e+02,  4.38000000e+02,\n",
       "          4.39000000e+02,  4.40000000e+02,  4.41000000e+02,\n",
       "          4.42000000e+02,  4.43000000e+02,  4.44000000e+02,\n",
       "          4.45000000e+02,  4.46000000e+02],\n",
       "        [ 4.10308423e-03,  2.63926145e-03,  1.73345788e-03,\n",
       "          1.28364145e-03,  9.19660143e-04,  6.34178114e-04,\n",
       "          8.69517642e-04,  8.32508915e-04,  4.35000000e+02,\n",
       "          4.36000000e+02,  4.37000000e+02,  4.38000000e+02,\n",
       "          4.39000000e+02,  4.40000000e+02,  4.41000000e+02,\n",
       "          4.42000000e+02,  4.43000000e+02,  4.44000000e+02,\n",
       "          4.45000000e+02,  4.46000000e+02]])]"
      ]
     },
     "execution_count": 6,
     "metadata": {},
     "output_type": "execute_result"
    }
   ],
   "source": [
    "out1 = frXAS.extr_adj_1Po2(f1['1%_O2'])\n",
    "data1 = out1['data_adj']\n",
    "data1"
   ]
  },
  {
   "cell_type": "code",
   "execution_count": 17,
   "metadata": {},
   "outputs": [
    {
     "name": "stdout",
     "output_type": "stream",
     "text": [
      "0\n",
      "1\n",
      "2\n"
     ]
    }
   ],
   "source": [
    "obj=f1['1%_O2']\n",
    "group = '0.25_Hz'\n",
    "\n",
    "dum = {}\n",
    "\n",
    "\n",
    "for i in np.arange(0,obj[group].shape[0]):\n",
    "    print(i)\n",
    "    dum(\n",
    "\n",
    "# f1['1%_O2']['0.25_Hz'].shape[0]"
   ]
  },
  {
   "cell_type": "code",
   "execution_count": null,
   "metadata": {},
   "outputs": [],
   "source": [
    "def extr_adj_1Po2(obj, starts=None):\n",
    "    gas = obj.attrs['Gas']\n",
    "    adj_starts = True\n",
    "    i=0\n",
    "\n",
    "    if starts is None:\n",
    "        starts = []\n",
    "        adj_starts = False\n",
    "\n",
    "    frequencies = []\n",
    "    data = []\n",
    "    data_adj = []\n",
    "    for group in obj.keys():\n",
    "        frequency = obj[group].attrs['frequency']\n",
    "\n",
    "        if adj_starts:\n",
    "            start = starts[i]\n",
    "            dat = np.array(obj[group])\n",
    "            rows = dat.shape[0]\n",
    "            cols = dat.shape[1]\n",
    "            dat_adj = np.resize(dat[:, start-1:],(rows + 1, cols))\n",
    "            dat_adj[0,:] = dat_adj[0, :] - dat_adj[0, 0]\n",
    "            dat_adj[3,:] = np.sqrt(dat_adj[1,:]**2 + dat_adj[2,:]**2)\n",
    "            i += 1\n",
    "        else:\n",
    "            start = obj[group].attrs['start']\n",
    "            dat = np.array(obj[group])\n",
    "            rows = dat.shape[0]\n",
    "            cols = dat.shape[1]\n",
    "            dat_adj = np.resize(dat[:, start-1:],(rows + 1, cols))\n",
    "            dat_adj[0,:] = dat_adj[0, :] - dat_adj[0, 0]\n",
    "            dat_adj[3,:] = np.sqrt(dat_adj[1,:]**2 + dat_adj[2,:]**2)\n",
    "            starts.append(start)\n",
    "\n",
    "        frequencies.append(frequency)\n",
    "        data.append(dat)\n",
    "        data_adj.append(dat_adj)\n",
    "\n",
    "    return dict([('gas', gas), ('frequencies', frequencies), \n",
    "                 ('starts', starts), ('data', data), ('data_adj', data_adj)])\n"
   ]
  }
 ],
 "metadata": {
  "kernelspec": {
   "display_name": "Python 3",
   "language": "python",
   "name": "python3"
  },
  "language_info": {
   "codemirror_mode": {
    "name": "ipython",
    "version": 3
   },
   "file_extension": ".py",
   "mimetype": "text/x-python",
   "name": "python",
   "nbconvert_exporter": "python",
   "pygments_lexer": "ipython3",
   "version": "3.6.9"
  }
 },
 "nbformat": 4,
 "nbformat_minor": 4
}
