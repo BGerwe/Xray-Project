{
 "cells": [
  {
   "cell_type": "code",
   "execution_count": 1,
   "metadata": {
    "collapsed": false,
    "jupyter": {
     "outputs_hidden": false
    }
   },
   "outputs": [],
   "source": [
    "%matplotlib inline"
   ]
  },
  {
   "cell_type": "markdown",
   "metadata": {},
   "source": [
    "\n",
    "Fit Multiple Data Sets\n",
    "======================\n",
    "\n",
    "Fitting multiple (simulated) Gaussian data sets simultaneously.\n",
    "\n",
    "All minimizers require the residual array to be one-dimensional. Therefore, in\n",
    "the ``objective`` we need to ```flatten``` the array before returning it.\n",
    "\n",
    "TODO: this should be using the Model interface / built-in models!\n"
   ]
  },
  {
   "cell_type": "code",
   "execution_count": 57,
   "metadata": {
    "collapsed": false,
    "jupyter": {
     "outputs_hidden": false
    }
   },
   "outputs": [],
   "source": [
    "import matplotlib.pyplot as plt\n",
    "import numpy as np\n",
    "\n",
    "import lmfit\n",
    "from lmfit import Parameters, minimize, report_fit\n",
    "\n",
    "\n",
    "def gauss(x, amp, cen, sigma):\n",
    "    \"\"\"Gaussian lineshape.\"\"\"\n",
    "    return amp * np.exp(-(x-cen)**2 / (2.*sigma**2))\n",
    "\n",
    "\n",
    "def gauss_dataset(params, i, x):\n",
    "    \"\"\"Calculate Gaussian lineshape from parameters for data set.\"\"\"\n",
    "    amp = params['amp_%i' % (i+1)]\n",
    "    cen = params['cen_%i' % (i+1)]\n",
    "    sig = params['sig_%i' % (i+1)]\n",
    "    return gauss(x, amp, cen, sig)\n",
    "\n",
    "# Objective function for use in minimize implementation\n",
    "def objective(parameters, x, dat):\n",
    "    \"\"\"Calculate total residual for fits of Gaussians to several data sets.\"\"\"\n",
    "    ndata, _ = dat.shape\n",
    "    resid = 0.0*dat[:]\n",
    "\n",
    "    # make residual per data set\n",
    "    for i in range(ndata):\n",
    "        resid[i, :] = dat[i, :] - gauss_dataset(parameters, i, x)\n",
    "\n",
    "    # now flatten this to a 1D array, as minimize() needs\n",
    "    return resid.flatten()\n"
   ]
  },
  {
   "cell_type": "code",
   "execution_count": 60,
   "metadata": {},
   "outputs": [
    {
     "name": "stdout",
     "output_type": "stream",
     "text": [
      "(5, 151)\n",
      "(5, 151)\n",
      "(5, 151)\n",
      "(5, 151)\n",
      "(5, 151)\n"
     ]
    }
   ],
   "source": [
    "ndata, _ = data.shape\n",
    "resid = 0.0*data[:]\n",
    "\n",
    "for i in range(ndata):\n",
    "    resid[i, :] = data[i, :] - gauss_dataset(fit_params, i, x)\n",
    "    print(np.shape(resid))\n"
   ]
  },
  {
   "cell_type": "code",
   "execution_count": 63,
   "metadata": {},
   "outputs": [
    {
     "data": {
      "text/plain": [
       "array([-1.  , -0.98, -0.96, -0.94, -0.92, -0.9 , -0.88, -0.86, -0.84,\n",
       "       -0.82, -0.8 , -0.78, -0.76, -0.74, -0.72, -0.7 , -0.68, -0.66,\n",
       "       -0.64, -0.62, -0.6 , -0.58, -0.56, -0.54, -0.52, -0.5 , -0.48,\n",
       "       -0.46, -0.44, -0.42, -0.4 , -0.38, -0.36, -0.34, -0.32, -0.3 ,\n",
       "       -0.28, -0.26, -0.24, -0.22, -0.2 , -0.18, -0.16, -0.14, -0.12,\n",
       "       -0.1 , -0.08, -0.06, -0.04, -0.02,  0.  ,  0.02,  0.04,  0.06,\n",
       "        0.08,  0.1 ,  0.12,  0.14,  0.16,  0.18,  0.2 ,  0.22,  0.24,\n",
       "        0.26,  0.28,  0.3 ,  0.32,  0.34,  0.36,  0.38,  0.4 ,  0.42,\n",
       "        0.44,  0.46,  0.48,  0.5 ,  0.52,  0.54,  0.56,  0.58,  0.6 ,\n",
       "        0.62,  0.64,  0.66,  0.68,  0.7 ,  0.72,  0.74,  0.76,  0.78,\n",
       "        0.8 ,  0.82,  0.84,  0.86,  0.88,  0.9 ,  0.92,  0.94,  0.96,\n",
       "        0.98,  1.  ,  1.02,  1.04,  1.06,  1.08,  1.1 ,  1.12,  1.14,\n",
       "        1.16,  1.18,  1.2 ,  1.22,  1.24,  1.26,  1.28,  1.3 ,  1.32,\n",
       "        1.34,  1.36,  1.38,  1.4 ,  1.42,  1.44,  1.46,  1.48,  1.5 ,\n",
       "        1.52,  1.54,  1.56,  1.58,  1.6 ,  1.62,  1.64,  1.66,  1.68,\n",
       "        1.7 ,  1.72,  1.74,  1.76,  1.78,  1.8 ,  1.82,  1.84,  1.86,\n",
       "        1.88,  1.9 ,  1.92,  1.94,  1.96,  1.98,  2.  ])"
      ]
     },
     "execution_count": 63,
     "metadata": {},
     "output_type": "execute_result"
    }
   ],
   "source": [
    "x"
   ]
  },
  {
   "cell_type": "code",
   "execution_count": 62,
   "metadata": {},
   "outputs": [
    {
     "name": "stdout",
     "output_type": "stream",
     "text": [
      "(5, 151)\n",
      "(5, 151)\n",
      "(5, 151)\n",
      "(5, 151)\n",
      "(5, 151)\n"
     ]
    }
   ],
   "source": [
    "ndata = data.shape[0]\n",
    "resid = 0.0*data[:]\n",
    "\n",
    "resid_c = []\n",
    "# make residual per data set\n",
    "for i in range(ndata):\n",
    "    resid[i] = data[i] - gauss_dataset(fit_params, i, x[i])\n",
    "    if resid[i].dtype == np.complex:\n",
    "        resid_c.append(resid[i].ravel().view(np.float))\n",
    "    print(np.shape(resid))"
   ]
  },
  {
   "cell_type": "markdown",
   "metadata": {},
   "source": [
    "Create five simulated Gaussian data sets\n",
    "\n"
   ]
  },
  {
   "cell_type": "code",
   "execution_count": 2,
   "metadata": {
    "collapsed": false,
    "jupyter": {
     "outputs_hidden": false
    }
   },
   "outputs": [],
   "source": [
    "x = np.linspace(-1, 2, 151)\n",
    "data = []\n",
    "for i in np.arange(5):\n",
    "    params = Parameters()\n",
    "    amp = 0.60 + 9.50*np.random.rand()\n",
    "    cen = -0.20 + 1.20*np.random.rand()\n",
    "    sig = 0.25 + 0.03*np.random.rand()\n",
    "    dat = gauss(x, amp, cen, sig) + np.random.normal(size=x.size, scale=0.1)\n",
    "    data.append(dat)\n",
    "data = np.array(data)"
   ]
  },
  {
   "cell_type": "markdown",
   "metadata": {},
   "source": [
    "Create five sets of fitting parameters, one per data set\n",
    "\n"
   ]
  },
  {
   "cell_type": "code",
   "execution_count": 3,
   "metadata": {
    "collapsed": false,
    "jupyter": {
     "outputs_hidden": false
    }
   },
   "outputs": [],
   "source": [
    "fit_params = Parameters()\n",
    "for iy, y in enumerate(data):\n",
    "    fit_params.add('amp_%i' % (iy+1), value=0.5, min=0.0, max=200)\n",
    "    fit_params.add('cen_%i' % (iy+1), value=0.4, min=-2.0, max=2.0)\n",
    "    fit_params.add('sig_%i' % (iy+1), value=0.3, min=0.01, max=3.0)"
   ]
  },
  {
   "cell_type": "markdown",
   "metadata": {},
   "source": [
    "Constrain the values of sigma to be the same for all peaks by assigning\n",
    "sig_2, ..., sig_5 to be equal to sig_1.\n",
    "\n"
   ]
  },
  {
   "cell_type": "code",
   "execution_count": 4,
   "metadata": {
    "collapsed": false,
    "jupyter": {
     "outputs_hidden": false
    }
   },
   "outputs": [],
   "source": [
    "for iy in (2, 3, 4, 5):\n",
    "    fit_params['sig_%i' % iy].expr = 'sig_1'"
   ]
  },
  {
   "cell_type": "markdown",
   "metadata": {},
   "source": [
    "Run the global fit and show the fitting result\n",
    "\n"
   ]
  },
  {
   "cell_type": "code",
   "execution_count": 64,
   "metadata": {},
   "outputs": [
    {
     "data": {
      "text/plain": [
       "array([ 1.04297858e-01, -5.95309747e-02, -1.33342919e-02, -1.43137464e-01,\n",
       "        9.47480792e-03, -8.82014060e-02, -1.32927291e-01,  2.04049297e-02,\n",
       "       -1.37533200e-01, -7.13160127e-03,  5.05945086e-02,  3.79345742e-02,\n",
       "        7.61584796e-02,  2.75708926e-02,  2.64086545e-02,  2.59822604e-01,\n",
       "        2.88824013e-01,  1.52879708e-02,  2.78411471e-01,  1.73877151e-01,\n",
       "        2.88461726e-01,  2.99156950e-01,  1.95557888e-01,  4.02103722e-01,\n",
       "        4.46120961e-01,  2.72796070e-01,  4.47110676e-01,  3.96604149e-01,\n",
       "        5.29779438e-01,  4.51486830e-01,  6.18824412e-01,  4.10941353e-01,\n",
       "        6.75664523e-01,  6.24162074e-01,  6.81168117e-01,  7.09435498e-01,\n",
       "        8.79338556e-01,  7.71765129e-01,  7.84054887e-01,  7.79175310e-01,\n",
       "        9.74815681e-01,  8.98066697e-01,  1.00932878e+00,  8.09973083e-01,\n",
       "        6.40136862e-01,  6.98182146e-01,  6.60898531e-01,  7.16764503e-01,\n",
       "        6.32875443e-01,  5.09087388e-01,  6.60351772e-01,  3.88554397e-01,\n",
       "        5.61125218e-01,  2.81575546e-01,  2.53546066e-01,  3.64103107e-01,\n",
       "        2.32458149e-01,  1.62457924e-01,  1.83728903e-01,  9.50127553e-02,\n",
       "       -1.21773701e-01,  8.81299607e-02, -1.41864380e-01, -2.44753965e-01,\n",
       "       -1.57577263e-01, -4.19946992e-01, -3.66238983e-01, -3.41072689e-01,\n",
       "       -2.78951838e-01, -4.46749302e-01, -2.70330484e-01, -4.06430624e-01,\n",
       "       -5.21043890e-01, -3.92872890e-01, -3.85034714e-01, -4.20674611e-01,\n",
       "       -5.31700337e-01, -5.76311808e-01, -4.12369517e-01, -4.19717582e-01,\n",
       "       -3.29478691e-01, -3.04268650e-01, -3.91339280e-01, -5.83479169e-01,\n",
       "       -3.13194715e-01, -3.19561720e-01, -1.79870993e-01, -2.25162870e-01,\n",
       "       -1.88433578e-01, -1.98431233e-01, -1.94461568e-01, -1.75522497e-01,\n",
       "       -3.05034003e-01, -1.72814315e-01, -1.13211678e-01,  5.58191693e-02,\n",
       "       -1.53076054e-01, -3.60330180e-02, -7.51405512e-02,  1.83222766e-02,\n",
       "       -1.97515589e-01, -4.21945692e-02, -1.24206021e-01, -5.95428200e-02,\n",
       "        7.49674044e-02,  1.37943217e-02, -1.54004833e-01, -5.96413348e-02,\n",
       "       -7.93775746e-02, -2.34302548e-01, -7.78263472e-02, -1.41876665e-03,\n",
       "       -8.84979701e-02, -1.04643555e-01, -8.75028674e-02, -4.02400740e-02,\n",
       "       -4.22803524e-02, -6.40248231e-02, -1.11993684e-01,  7.58591524e-02,\n",
       "       -9.54847156e-02,  9.37959804e-02,  1.91814096e-01, -1.66627519e-01,\n",
       "       -9.56332119e-02,  1.85388770e-02, -9.64378454e-02,  7.48862369e-02,\n",
       "       -6.92936725e-02,  8.66104350e-02,  7.49222586e-02, -8.78282820e-02,\n",
       "       -3.02404339e-02,  6.81741985e-03, -6.19210685e-03, -1.06798994e-01,\n",
       "       -2.72856083e-01,  4.02390594e-03,  8.55951720e-02,  1.91450222e-01,\n",
       "        1.48860436e-01, -2.01256707e-01, -7.74807606e-02, -5.47113270e-02,\n",
       "        1.05675857e-01, -3.10491165e-02,  9.23561524e-02,  3.06315522e-02,\n",
       "        4.85362859e-02, -1.99125433e-02,  8.38838992e-02, -2.77185776e-02,\n",
       "       -1.46371758e-02,  1.25644931e-01,  3.00840484e-02, -7.85814018e-02,\n",
       "        1.26220978e-01,  6.60656888e-02,  1.02329172e-01,  3.62865158e-02,\n",
       "        8.13589375e-02,  1.80835111e-01,  3.02171124e-01,  1.70482693e-01,\n",
       "        3.74429670e-01,  3.24141878e-01,  2.89787145e-01,  3.26682265e-01,\n",
       "        5.68784912e-01,  3.63456864e-01,  5.55812929e-01,  7.75880899e-01,\n",
       "        6.44910216e-01,  1.00245182e+00,  1.05388737e+00,  1.08633278e+00,\n",
       "        1.63649160e+00,  1.56493078e+00,  1.82905957e+00,  2.17034025e+00,\n",
       "        2.44625842e+00,  2.78978718e+00,  3.09422275e+00,  3.40785671e+00,\n",
       "        3.84086310e+00,  4.06926105e+00,  4.61568868e+00,  4.68759531e+00,\n",
       "        5.39083612e+00,  5.72446654e+00,  5.86204990e+00,  6.31148894e+00,\n",
       "        6.58472045e+00,  6.71093191e+00,  7.05411758e+00,  7.43827405e+00,\n",
       "        7.48524783e+00,  7.82818164e+00,  7.82402157e+00,  7.83255596e+00,\n",
       "        7.67879404e+00,  7.79094535e+00,  7.66017559e+00,  7.45623598e+00,\n",
       "        7.26200980e+00,  6.86122600e+00,  6.80339115e+00,  6.50524221e+00,\n",
       "        6.25651788e+00,  5.85166453e+00,  5.28594361e+00,  5.17017387e+00,\n",
       "        4.74141192e+00,  4.17504521e+00,  4.08459953e+00,  3.61027309e+00,\n",
       "        3.20024051e+00,  2.95320053e+00,  2.45107186e+00,  1.87231988e+00,\n",
       "        1.86983811e+00,  1.61142967e+00,  1.32589411e+00,  1.02109571e+00,\n",
       "        9.24756001e-01,  8.25766968e-01,  6.00407090e-01,  6.84321452e-01,\n",
       "        4.47658596e-01,  1.63450154e-01,  2.36834037e-01, -1.21074733e-01,\n",
       "       -1.62576250e-01, -3.15489128e-02, -1.14898672e-01, -5.06985570e-02,\n",
       "       -1.30903927e-01, -1.82383625e-02, -4.51547501e-02, -2.53289700e-01,\n",
       "       -2.87037519e-01, -1.48971442e-01, -1.61810027e-01, -1.26257638e-01,\n",
       "        2.57373818e-02, -6.65331455e-02,  2.22554101e-01, -1.55017159e-01,\n",
       "       -3.43127650e-02,  7.35844014e-02,  8.84427542e-02, -5.06376244e-02,\n",
       "       -8.19669222e-02,  6.46800888e-02, -1.75155303e-01,  1.20141020e-01,\n",
       "       -7.86367604e-02, -1.86153763e-01, -4.40153789e-02,  3.35475353e-02,\n",
       "       -8.61048507e-02, -6.92012090e-02,  1.79592284e-01, -2.24186881e-01,\n",
       "        1.52503744e-02,  1.33139667e-01, -3.16087804e-02, -8.28250017e-02,\n",
       "        7.20199714e-02, -1.25592905e-02,  5.07049423e-03,  2.21969492e-01,\n",
       "        4.80349560e-02, -2.12347859e-01, -8.80297935e-03, -6.36188702e-02,\n",
       "        1.81798904e-02,  1.55548639e-01, -5.48884142e-02,  1.19293731e-01,\n",
       "       -1.55803941e-01,  8.22033608e-02,  1.09160830e-02, -4.25276523e-02,\n",
       "       -5.18995069e-02,  6.16275895e-03, -1.03502584e-01, -3.51872979e-02,\n",
       "       -4.06278648e-02,  9.03220630e-02,  5.42043208e-02,  6.76994717e-02,\n",
       "        1.79365435e-01, -5.40118587e-02, -4.92706424e-02,  1.69424870e-01,\n",
       "        1.73335972e-02, -1.75817615e-01, -9.21262208e-02,  1.25222291e-01,\n",
       "       -1.29244223e-01,  6.80234126e-02,  1.25974556e-01, -3.32966049e-02,\n",
       "        1.96516428e-01, -9.82404410e-02,  2.10902382e-01,  1.82618163e-03,\n",
       "        2.57872188e-02,  1.99398670e-02, -6.92161090e-02,  8.06991737e-03,\n",
       "        7.74751689e-02,  5.52879761e-03, -1.63390854e-01,  1.47611520e-02,\n",
       "       -8.10840563e-02, -3.39727796e-02,  7.69322929e-02, -7.18998969e-02,\n",
       "        9.54492043e-02, -1.38733508e-01, -8.41632072e-02,  1.03030435e-01,\n",
       "       -7.23238779e-02, -3.29731391e-02, -3.99477461e-02, -1.10457926e-01,\n",
       "        1.42280924e-01, -1.85638805e-01,  6.53286872e-02, -1.78039323e-01,\n",
       "        1.93271793e-02, -1.36197186e-01, -1.14335800e-01, -1.56497102e-01,\n",
       "       -9.64520003e-02, -1.55007405e-02,  3.80495534e-02, -1.66418001e-02,\n",
       "        1.36590799e-01,  2.87256140e-02,  1.67135894e-01, -1.01369505e-01,\n",
       "        1.12024372e-01,  2.50554223e-01,  1.15642969e-01,  2.37314038e-01,\n",
       "        3.18189618e-01,  2.91684932e-01,  3.67314035e-01,  3.37553564e-01,\n",
       "        6.80415832e-01,  3.95559035e-01,  6.75515167e-01,  7.93418681e-01,\n",
       "        1.02958522e+00,  1.22188457e+00,  1.54582478e+00,  1.59318384e+00,\n",
       "        1.85309529e+00,  1.96552202e+00,  2.20814152e+00,  2.70767356e+00,\n",
       "        2.97911776e+00,  3.33355502e+00,  3.64070247e+00,  3.96563516e+00,\n",
       "        4.43390059e+00,  4.55153116e+00,  5.08573748e+00,  5.04501668e+00,\n",
       "        5.23047520e+00,  5.61433889e+00,  6.10295613e+00,  6.21529671e+00,\n",
       "        6.25528499e+00,  6.35937085e+00,  6.56247892e+00,  6.49204646e+00,\n",
       "        6.49758560e+00,  6.49001635e+00,  6.27923780e+00,  6.42330390e+00,\n",
       "        6.04779506e+00,  6.01696085e+00,  5.68328080e+00,  5.22045010e+00,\n",
       "        4.95261294e+00,  4.88464372e+00,  4.51416966e+00,  4.49903998e+00,\n",
       "        3.89381141e+00,  3.58633619e+00,  3.23619067e+00,  2.79409538e+00,\n",
       "        2.65607632e+00,  2.40603500e+00,  2.15289090e+00,  1.78025303e+00,\n",
       "        1.65894864e+00,  1.47739866e+00,  1.04593917e+00,  1.10403344e+00,\n",
       "        1.13226316e+00,  8.05632780e-01,  6.94963303e-01,  5.22925321e-01,\n",
       "        5.53609075e-01,  3.25756274e-01,  3.07635995e-01,  2.70423627e-01,\n",
       "        1.59638677e-01,  1.82482129e-01,  2.79465231e-01,  2.31630369e-02,\n",
       "        1.99455236e-01,  6.13688348e-02,  3.42266265e-02,  9.03180655e-02,\n",
       "       -7.93345106e-02,  1.89238452e-02, -7.15508786e-02,  4.24716698e-02,\n",
       "       -1.85102076e-01,  1.36459696e-02, -2.82125980e-01, -8.58566624e-02,\n",
       "        1.31426388e-02,  1.99666987e-01, -8.40830809e-03,  8.00535748e-02,\n",
       "       -1.16871717e-01, -1.09638731e-01, -6.37141692e-02,  5.32260051e-02,\n",
       "       -2.55684925e-02,  2.08696921e-02, -1.30461540e-01,  1.31690453e-02,\n",
       "       -5.57989298e-02,  5.06605656e-02, -7.25575507e-02,  5.24931651e-02,\n",
       "        6.17222959e-02, -1.86203414e-02, -2.64919290e-02, -1.35890790e-01,\n",
       "       -4.43441966e-02, -7.82897156e-02, -1.52793742e-01,  6.82008217e-02,\n",
       "        2.10126645e-02,  9.17543063e-02, -2.55892299e-02,  6.56666948e-02,\n",
       "        2.04627537e-01, -2.91343501e-02,  5.48484307e-02,  4.83567960e-02,\n",
       "        4.23841635e-02,  1.97815697e-01,  1.29126042e-01,  2.15574501e-01,\n",
       "        6.63907403e-02,  2.51277127e-01,  3.26091155e-01,  2.02167018e-01,\n",
       "        4.41088288e-01,  4.80770887e-01,  4.99711444e-01,  6.82678383e-01,\n",
       "        9.56845713e-01,  8.48673216e-01,  1.01812551e+00,  1.22702005e+00,\n",
       "        1.30891242e+00,  1.52213257e+00,  1.78313136e+00,  1.90561848e+00,\n",
       "        1.98824814e+00,  2.31001909e+00,  2.59764301e+00,  2.52669538e+00,\n",
       "        2.92385705e+00,  3.05882366e+00,  3.24651617e+00,  3.54338583e+00,\n",
       "        3.72628951e+00,  3.94599589e+00,  3.95574562e+00,  4.33271017e+00,\n",
       "        4.42567517e+00,  4.36093536e+00,  4.58502182e+00,  4.78116371e+00,\n",
       "        4.65335203e+00,  4.67243171e+00,  4.56550397e+00,  4.62970822e+00,\n",
       "        4.71466126e+00,  4.70903426e+00,  4.46464261e+00,  4.19389514e+00,\n",
       "        4.35058478e+00,  3.93846041e+00,  3.80972969e+00,  3.69450636e+00,\n",
       "        3.38308897e+00,  3.31948036e+00,  2.92777698e+00,  2.67616938e+00,\n",
       "        2.56289997e+00,  2.10266834e+00,  2.04304696e+00,  1.77132142e+00,\n",
       "        1.67037739e+00,  1.40093731e+00,  1.22376836e+00,  1.15368650e+00,\n",
       "        8.76571746e-01,  6.59875930e-01,  9.00841136e-01,  3.72338284e-01,\n",
       "        4.31834419e-01,  7.95899140e-02,  1.78103595e-01,  1.22779724e-01,\n",
       "        6.95691250e-02, -6.90349968e-02, -7.42526888e-02, -2.35659238e-01,\n",
       "       -2.95672679e-01, -1.92316663e-01, -3.37494730e-01, -2.89392998e-01,\n",
       "       -2.64777114e-02, -4.24392834e-01, -2.49338887e-01, -3.45988198e-01,\n",
       "       -2.79685781e-01, -1.12528124e-01,  2.74568888e-02, -3.05312765e-01,\n",
       "       -2.68123441e-01, -1.82059581e-01, -1.96235720e-01, -8.44829337e-02,\n",
       "       -3.03058795e-02, -5.34232996e-02,  5.87027029e-02,  1.86941721e-01,\n",
       "        2.28109192e-01, -6.38198424e-02, -1.60228230e-01, -6.49845166e-02,\n",
       "       -1.20852593e-01,  3.70565703e-02,  1.48724919e-02, -1.34212763e-01,\n",
       "       -6.47436275e-03,  4.63916982e-02, -3.47469014e-02,  1.74543241e-01,\n",
       "        1.86643014e-03, -8.59416273e-02, -1.00925930e-01,  1.90202189e-01,\n",
       "        1.91721465e-02,  3.29974731e-02,  1.35932703e-01, -1.29551960e-01,\n",
       "       -1.42113098e-01, -3.80607869e-02,  4.57547674e-02, -4.06273307e-02,\n",
       "       -8.82871519e-03,  6.42042467e-02, -7.93493680e-02,  6.67180200e-02,\n",
       "        2.58684418e-03,  4.84624920e-02, -6.45494895e-02, -2.74195552e-02,\n",
       "       -7.21955058e-02, -1.85884707e-02, -7.20669674e-02, -1.28518061e-01,\n",
       "       -2.98668765e-02, -5.97352079e-02, -4.28793508e-02, -3.08384841e-02,\n",
       "       -1.23867388e-01,  7.91394044e-02, -1.65507015e-01, -3.55797063e-02,\n",
       "       -4.56996934e-02,  1.19356389e-01, -1.09414312e-01, -9.45306773e-02,\n",
       "       -4.65667137e-02, -5.61023362e-02,  2.61864665e-02,  5.98391114e-02,\n",
       "        8.84303877e-02, -1.17483120e-02, -2.04581001e-02,  5.59685333e-02,\n",
       "        5.86464591e-02, -9.38145989e-02, -1.22739474e-02, -7.93685622e-03,\n",
       "       -4.44565928e-02, -2.95516665e-02, -1.85934469e-02,  1.03070681e-01,\n",
       "        6.08437368e-03,  3.02089123e-02, -7.19437009e-03,  8.19120164e-02,\n",
       "       -4.26841702e-03,  1.27570073e-01, -2.64043640e-01,  1.28919541e-01,\n",
       "        1.41908472e-01,  1.26260435e-01,  2.55998971e-01,  1.82886669e-01,\n",
       "        3.25283266e-01,  1.38946904e-01,  2.21839021e-01,  3.10753901e-01,\n",
       "        3.91440663e-01,  2.99397129e-01,  2.04891922e-01,  5.75152678e-01,\n",
       "        3.53187240e-01,  6.12298148e-01,  5.76814542e-01,  5.42080197e-01,\n",
       "        8.11399620e-01,  8.62301438e-01,  8.11551803e-01,  1.21997100e+00,\n",
       "        1.33324504e+00,  1.41045514e+00,  1.32773277e+00,  1.68239934e+00,\n",
       "        1.46579262e+00,  1.70678914e+00,  1.94345377e+00,  1.73537558e+00,\n",
       "        1.98323663e+00,  2.17918557e+00,  2.04732008e+00,  2.23936200e+00,\n",
       "        2.26699692e+00,  2.46280043e+00,  2.35528498e+00,  2.50414333e+00,\n",
       "        2.36106214e+00,  2.29051989e+00,  2.37477026e+00,  2.30588802e+00,\n",
       "        2.48528588e+00,  2.27807939e+00,  2.37892071e+00,  2.21830282e+00,\n",
       "        2.20038322e+00,  1.87589517e+00,  1.97890743e+00,  1.82757178e+00,\n",
       "        1.52632506e+00,  1.45156081e+00,  1.43883179e+00,  1.31099754e+00,\n",
       "        1.45494989e+00,  9.33028358e-01,  1.13550691e+00,  8.24609781e-01,\n",
       "        5.97720101e-01,  6.22718135e-01,  5.85257985e-01,  4.39434387e-01,\n",
       "        4.39211147e-01,  1.84514485e-01,  2.02947959e-01,  2.01577315e-01,\n",
       "        3.33231289e-01,  1.15211986e-01,  2.92453608e-01,  1.14613812e-01,\n",
       "        1.28862856e-01,  6.46632910e-02, -6.26161562e-02, -2.99676658e-02,\n",
       "       -1.57122495e-01, -6.67082145e-02,  4.00955888e-03, -8.38284452e-02,\n",
       "        1.48365263e-01,  9.98090295e-02,  4.89541598e-02, -3.30498332e-02,\n",
       "       -4.42776337e-02, -9.44826924e-03,  8.93551665e-02,  1.26613949e-01,\n",
       "       -8.35424317e-02, -2.43197183e-02,  1.63211756e-01,  1.49499475e-01,\n",
       "        2.59150968e-01,  1.64556224e-02, -3.88991261e-02,  7.78751751e-02,\n",
       "       -1.90433368e-01,  1.20144442e-01,  2.43885931e-01, -4.94812958e-02,\n",
       "        1.01087307e-02, -3.83453686e-02,  1.84251020e-01,  1.44177705e-02,\n",
       "       -9.98171068e-02, -1.72618041e-02, -4.10322121e-02, -1.10082245e-01,\n",
       "       -9.67361853e-02,  8.95732213e-02,  1.04864454e-01, -2.61933247e-02,\n",
       "       -7.30565335e-04, -1.41721411e-01,  1.45446246e-01, -4.33543954e-02,\n",
       "       -1.60622774e-01, -1.05282765e-01, -6.21800902e-03, -3.69196672e-03,\n",
       "       -1.37986472e-02, -2.27559977e-02, -2.16458620e-02, -5.72222139e-02,\n",
       "        9.70106658e-02,  2.04436855e-02,  1.89363322e-01, -2.19985131e-02,\n",
       "       -6.51299922e-04,  2.75854782e-02, -1.89419618e-01,  5.36844821e-02,\n",
       "        2.39729471e-02, -3.40356531e-02, -5.80616694e-02])"
      ]
     },
     "execution_count": 64,
     "metadata": {},
     "output_type": "execute_result"
    }
   ],
   "source": [
    "objective(fit_params, x, data)"
   ]
  },
  {
   "cell_type": "code",
   "execution_count": 59,
   "metadata": {
    "collapsed": false,
    "jupyter": {
     "outputs_hidden": false
    }
   },
   "outputs": [
    {
     "name": "stdout",
     "output_type": "stream",
     "text": [
      "[[Variables]]\n",
      "    amp_1:  0.91034486 +/- 0.02409969 (2.65%) (init = 0.5)\n",
      "    cen_1: -0.15278665 +/- 0.00975748 (6.39%) (init = 0.4)\n",
      "    sig_1:  0.26099492 +/- 7.4013e-04 (0.28%) (init = 0.3)\n",
      "    amp_2:  7.94902926 +/- 0.02657370 (0.33%) (init = 0.5)\n",
      "    cen_2: -0.02421333 +/- 0.00111743 (4.61%) (init = 0.4)\n",
      "    sig_2:  0.26099492 +/- 7.4013e-04 (0.28%) == 'sig_1'\n",
      "    amp_3:  6.84349950 +/- 0.02594772 (0.38%) (init = 0.5)\n",
      "    cen_3:  0.54061115 +/- 0.00129795 (0.24%) (init = 0.4)\n",
      "    sig_3:  0.26099492 +/- 7.4013e-04 (0.28%) == 'sig_1'\n",
      "    amp_4:  4.98183580 +/- 0.02508035 (0.50%) (init = 0.5)\n",
      "    cen_4: -0.09986077 +/- 0.00178299 (1.79%) (init = 0.4)\n",
      "    sig_4:  0.26099492 +/- 7.4013e-04 (0.28%) == 'sig_1'\n",
      "    amp_5:  2.89265498 +/- 0.02441210 (0.84%) (init = 0.5)\n",
      "    cen_5:  0.15839452 +/- 0.00307071 (1.94%) (init = 0.4)\n",
      "    sig_5:  0.26099492 +/- 7.4013e-04 (0.28%) == 'sig_1'\n",
      "[[Correlations]] (unreported correlations are < 0.100)\n",
      "    C(sig_1, amp_2) = -0.424\n",
      "    C(sig_1, amp_3) = -0.374\n",
      "    C(sig_1, amp_4) = -0.282\n",
      "    C(sig_1, amp_5) = -0.168\n",
      "    C(amp_2, amp_3) =  0.159\n",
      "    C(amp_2, amp_4) =  0.119\n",
      "    C(amp_3, amp_4) =  0.105\n"
     ]
    }
   ],
   "source": [
    "out = minimize(objective, fit_params, args=(x, data))\n",
    "report_fit(out.params)"
   ]
  },
  {
   "cell_type": "markdown",
   "metadata": {},
   "source": [
    "Plot the data sets and fits\n",
    "\n"
   ]
  },
  {
   "cell_type": "code",
   "execution_count": 48,
   "metadata": {
    "collapsed": false,
    "jupyter": {
     "outputs_hidden": false
    }
   },
   "outputs": [
    {
     "data": {
      "image/png": "[encoded data removed]",
      "text/plain": [
       "<Figure size 432x288 with 1 Axes>"
      ]
     },
     "metadata": {
      "needs_background": "light"
     },
     "output_type": "display_data"
    }
   ],
   "source": [
    "plt.figure()\n",
    "for i in range(5):\n",
    "    y_fit = gauss_dataset(out.params, i, x)\n",
    "    plt.plot(x, data[i, :], 'o', x, y_fit, '-')\n",
    "plt.show()"
   ]
  },
  {
   "cell_type": "markdown",
   "metadata": {},
   "source": [
    "Let's see if we can extend to fitting a complex model with the class based approach.\n",
    "First, definine the basic model equation"
   ]
  },
  {
   "cell_type": "code",
   "execution_count": 49,
   "metadata": {},
   "outputs": [],
   "source": [
    "class MultiGaussModel(lmfit.model.Model):\n",
    "    \n",
    "    def __init__(self, *args, **kwargs):\n",
    "        super(MultiGaussModel, self).__init__(objective_model, *args, **kwargs)\n",
    "        \n",
    "#     def _residual(self, params, data, weights, **kwargs):\n",
    "#         \"\"\"Return the residual.\n",
    "#         Default residual: (data-model)*weights.\n",
    "#         If the model returns complex values, the residual is computed by\n",
    "#         treating the real and imaginary parts separately. In this case,\n",
    "#         if the weights provided are real, they are assumed to apply\n",
    "#         equally to the real and imaginary parts. If the weights are\n",
    "#         complex, the real part of the weights are applied to the real\n",
    "#         part of the residual and the imaginary part is treated\n",
    "#         correspondingly.\n",
    "#         Since the underlying scipy.optimize routines expect numpy.float\n",
    "#         arrays, the only complex type supported is np.complex.\n",
    "#         The \"ravels\" throughout are necessary to support pandas.Series.\n",
    "        \n",
    "        \n",
    "#         Customized to accept fitting multiple datasets simultaneously.\n",
    "#         \"\"\"\n",
    "#         model = self.eval(params, **kwargs)\n",
    "#         if self.nan_policy == 'raise' and not np.all(np.isfinite(model)):\n",
    "#             msg = ('The model function generated NaN values and the fit '\n",
    "#                    'aborted! Please check your model function and/or set '\n",
    "#                    'boundaries on parameters where applicable. In cases like '\n",
    "#                    'this, using \"nan_policy=\\'omit\\'\" will probably not work.')\n",
    "#             raise ValueError(msg)\n",
    "\n",
    "#         diff = model - data\n",
    "\n",
    "#         if diff.dtype == np.complex:\n",
    "#             # data/model are complex\n",
    "#             diff = diff.ravel().view(np.float)\n",
    "#             if weights is not None:\n",
    "#                 if weights.dtype == np.complex:\n",
    "#                     # weights are complex\n",
    "#                     weights = weights.ravel().view(np.float)\n",
    "#                 else:\n",
    "#                     # real weights but complex data\n",
    "#                     weights = (weights + 1j * weights).ravel().view(np.float)\n",
    "#         if weights is not None:\n",
    "#             diff *= weights\n",
    "#         return np.asarray(diff).ravel()  # for compatibility with pandas.Series"
   ]
  },
  {
   "cell_type": "code",
   "execution_count": 11,
   "metadata": {},
   "outputs": [
    {
     "data": {
      "text/html": [
       "<table><tr><th> name </th><th> value </th><th> initial value </th><th> min </th><th> max </th><th> vary </th><th> expression </th></tr><tr><td> amp_1 </td><td>  0.50000000 </td><td> 0.5 </td><td>  0.00000000 </td><td>  200.000000 </td><td> True </td><td>  </td></tr><tr><td> cen_1 </td><td>  0.40000000 </td><td> 0.4 </td><td> -2.00000000 </td><td>  2.00000000 </td><td> True </td><td>  </td></tr><tr><td> sig_1 </td><td>  0.30000000 </td><td> 0.3 </td><td>  0.01000000 </td><td>  3.00000000 </td><td> True </td><td>  </td></tr><tr><td> amp_2 </td><td>  0.50000000 </td><td> 0.5 </td><td>  0.00000000 </td><td>  200.000000 </td><td> True </td><td>  </td></tr><tr><td> cen_2 </td><td>  0.40000000 </td><td> 0.4 </td><td> -2.00000000 </td><td>  2.00000000 </td><td> True </td><td>  </td></tr><tr><td> sig_2 </td><td>  0.30000000 </td><td> 0.3 </td><td>  0.01000000 </td><td>  3.00000000 </td><td> False </td><td> sig_1 </td></tr><tr><td> amp_3 </td><td>  0.50000000 </td><td> 0.5 </td><td>  0.00000000 </td><td>  200.000000 </td><td> True </td><td>  </td></tr><tr><td> cen_3 </td><td>  0.40000000 </td><td> 0.4 </td><td> -2.00000000 </td><td>  2.00000000 </td><td> True </td><td>  </td></tr><tr><td> sig_3 </td><td>  0.30000000 </td><td> 0.3 </td><td>  0.01000000 </td><td>  3.00000000 </td><td> False </td><td> sig_1 </td></tr><tr><td> amp_4 </td><td>  0.50000000 </td><td> 0.5 </td><td>  0.00000000 </td><td>  200.000000 </td><td> True </td><td>  </td></tr><tr><td> cen_4 </td><td>  0.40000000 </td><td> 0.4 </td><td> -2.00000000 </td><td>  2.00000000 </td><td> True </td><td>  </td></tr><tr><td> sig_4 </td><td>  0.30000000 </td><td> 0.3 </td><td>  0.01000000 </td><td>  3.00000000 </td><td> False </td><td> sig_1 </td></tr><tr><td> amp_5 </td><td>  0.50000000 </td><td> 0.5 </td><td>  0.00000000 </td><td>  200.000000 </td><td> True </td><td>  </td></tr><tr><td> cen_5 </td><td>  0.40000000 </td><td> 0.4 </td><td> -2.00000000 </td><td>  2.00000000 </td><td> True </td><td>  </td></tr><tr><td> sig_5 </td><td>  0.30000000 </td><td> 0.3 </td><td>  0.01000000 </td><td>  3.00000000 </td><td> False </td><td> sig_1 </td></tr></table>"
      ],
      "text/plain": [
       "Parameters([('amp_1', <Parameter 'amp_1', 0.5, bounds=[0.0:200]>),\n",
       "            ('cen_1', <Parameter 'cen_1', 0.4, bounds=[-2.0:2.0]>),\n",
       "            ('sig_1', <Parameter 'sig_1', 0.3, bounds=[0.01:3.0]>),\n",
       "            ('amp_2', <Parameter 'amp_2', 0.5, bounds=[0.0:200]>),\n",
       "            ('cen_2', <Parameter 'cen_2', 0.4, bounds=[-2.0:2.0]>),\n",
       "            ('sig_2',\n",
       "             <Parameter 'sig_2', 0.3, bounds=[0.01:3.0], expr='sig_1'>),\n",
       "            ('amp_3', <Parameter 'amp_3', 0.5, bounds=[0.0:200]>),\n",
       "            ('cen_3', <Parameter 'cen_3', 0.4, bounds=[-2.0:2.0]>),\n",
       "            ('sig_3',\n",
       "             <Parameter 'sig_3', 0.3, bounds=[0.01:3.0], expr='sig_1'>),\n",
       "            ('amp_4', <Parameter 'amp_4', 0.5, bounds=[0.0:200]>),\n",
       "            ('cen_4', <Parameter 'cen_4', 0.4, bounds=[-2.0:2.0]>),\n",
       "            ('sig_4',\n",
       "             <Parameter 'sig_4', 0.3, bounds=[0.01:3.0], expr='sig_1'>),\n",
       "            ('amp_5', <Parameter 'amp_5', 0.5, bounds=[0.0:200]>),\n",
       "            ('cen_5', <Parameter 'cen_5', 0.4, bounds=[-2.0:2.0]>),\n",
       "            ('sig_5',\n",
       "             <Parameter 'sig_5', 0.3, bounds=[0.01:3.0], expr='sig_1'>)])"
      ]
     },
     "execution_count": 11,
     "metadata": {},
     "output_type": "execute_result"
    }
   ],
   "source": [
    "fit_params"
   ]
  },
  {
   "cell_type": "code",
   "execution_count": 50,
   "metadata": {},
   "outputs": [],
   "source": [
    "multigauss = MultiGaussModel()"
   ]
  },
  {
   "cell_type": "code",
   "execution_count": 51,
   "metadata": {},
   "outputs": [
    {
     "ename": "ValueError",
     "evalue": "Assign each parameter an initial value by passing Parameters or keyword arguments to fit.\nMissing parameters: ['parameters', 'dat']\nNon initialized parameters: []",
     "output_type": "error",
     "traceback": [
      "\u001b[1;31m---------------------------------------------------------------------------\u001b[0m",
      "\u001b[1;31mValueError\u001b[0m                                Traceback (most recent call last)",
      "\u001b[1;32m<ipython-input-51-0c21691611cc>\u001b[0m in \u001b[0;36m<module>\u001b[1;34m\u001b[0m\n\u001b[1;32m----> 1\u001b[1;33m \u001b[0mresult\u001b[0m \u001b[1;33m=\u001b[0m \u001b[0mmultigauss\u001b[0m\u001b[1;33m.\u001b[0m\u001b[0mfit\u001b[0m\u001b[1;33m(\u001b[0m\u001b[0mdata\u001b[0m\u001b[1;33m,\u001b[0m \u001b[0mfit_params\u001b[0m\u001b[1;33m)\u001b[0m\u001b[1;33m\u001b[0m\u001b[1;33m\u001b[0m\u001b[0m\n\u001b[0m",
      "\u001b[1;32m~\\Anaconda3\\lib\\site-packages\\lmfit-0.9.13-py3.6.egg\\lmfit\\model.py\u001b[0m in \u001b[0;36mfit\u001b[1;34m(self, data, params, weights, method, iter_cb, scale_covar, verbose, fit_kws, nan_policy, calc_covar, **kwargs)\u001b[0m\n\u001b[0;32m    967\u001b[0m             \u001b[0mmsg\u001b[0m \u001b[1;33m+=\u001b[0m \u001b[1;34m'Missing parameters: %s\\n'\u001b[0m \u001b[1;33m%\u001b[0m \u001b[0mstr\u001b[0m\u001b[1;33m(\u001b[0m\u001b[0mmissing\u001b[0m\u001b[1;33m)\u001b[0m\u001b[1;33m\u001b[0m\u001b[1;33m\u001b[0m\u001b[0m\n\u001b[0;32m    968\u001b[0m             \u001b[0mmsg\u001b[0m \u001b[1;33m+=\u001b[0m \u001b[1;34m'Non initialized parameters: %s'\u001b[0m \u001b[1;33m%\u001b[0m \u001b[0mstr\u001b[0m\u001b[1;33m(\u001b[0m\u001b[0mblank\u001b[0m\u001b[1;33m)\u001b[0m\u001b[1;33m\u001b[0m\u001b[1;33m\u001b[0m\u001b[0m\n\u001b[1;32m--> 969\u001b[1;33m             \u001b[1;32mraise\u001b[0m \u001b[0mValueError\u001b[0m\u001b[1;33m(\u001b[0m\u001b[0mmsg\u001b[0m\u001b[1;33m)\u001b[0m\u001b[1;33m\u001b[0m\u001b[1;33m\u001b[0m\u001b[0m\n\u001b[0m\u001b[0;32m    970\u001b[0m \u001b[1;33m\u001b[0m\u001b[0m\n\u001b[0;32m    971\u001b[0m         \u001b[1;31m# Do not alter anything that implements the array interface (np.array, pd.Series)\u001b[0m\u001b[1;33m\u001b[0m\u001b[1;33m\u001b[0m\u001b[1;33m\u001b[0m\u001b[0m\n",
      "\u001b[1;31mValueError\u001b[0m: Assign each parameter an initial value by passing Parameters or keyword arguments to fit.\nMissing parameters: ['parameters', 'dat']\nNon initialized parameters: []"
     ]
    }
   ],
   "source": [
    "result = multigauss.fit(data, fit_params)"
   ]
  },
  {
   "cell_type": "code",
   "execution_count": null,
   "metadata": {},
   "outputs": [],
   "source": []
  }
 ],
 "metadata": {
  "kernelspec": {
   "display_name": "Python 3",
   "language": "python",
   "name": "python3"
  },
  "language_info": {
   "codemirror_mode": {
    "name": "ipython",
    "version": 3
   },
   "file_extension": ".py",
   "mimetype": "text/x-python",
   "name": "python",
   "nbconvert_exporter": "python",
   "pygments_lexer": "ipython3",
   "version": "3.6.10"
  }
 },
 "nbformat": 4,
 "nbformat_minor": 4
}
