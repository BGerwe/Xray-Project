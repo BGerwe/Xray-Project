{
 "cells": [
  {
   "cell_type": "code",
   "execution_count": 1,
   "metadata": {},
   "outputs": [
    {
     "name": "stdout",
     "output_type": "stream",
     "text": [
      "Populating the interactive namespace from numpy and matplotlib\n"
     ]
    }
   ],
   "source": [
    "from lmfit import Model\n",
    "import numpy as np\n",
    "import pandas as pd\n",
    "import matplotlib.pyplot as plt\n",
    "import numdifftools\n",
    "%pylab inline"
   ]
  },
  {
   "cell_type": "code",
   "execution_count": 2,
   "metadata": {},
   "outputs": [],
   "source": [
    "'''note, this function, the objective function, could be a numerical solution to some problem, with parameters, \n",
    "and that returns an array of parameters that can be compared to a calibration dataset.  This would allow the \n",
    "use of the more sophisticated fitting methods in lmfit.  Could also call an external model (e.g. PHREEQC,\n",
    "HYDRUS) with the function below'''\n",
    "\n",
    "#define the objective function (i.e., the model, van Genuchten 1980 theta and k)\n",
    "\n",
    "def swcc(h,Ks,alpha,n,Qr,Qs,l):\n",
    "    theta = ((Qr + (Qs - Qr))/(1+(alpha*np.abs(h))**n)**(1-(1/n)))\n",
    "    m = (1-(1/n))\n",
    "    Se = theta/Qs\n",
    "    K = Ks*(Se**l)*(1-(1-(Se**(l/m)))**m)**2\n",
    "    #must pass the data as a 1d structure\n",
    "    return np.concatenate((theta, K))"
   ]
  },
  {
   "cell_type": "code",
   "execution_count": 3,
   "metadata": {},
   "outputs": [
    {
     "data": {
      "text/html": [
       "<table><tr><th> name </th><th> value </th><th> initial value </th><th> min </th><th> max </th><th> vary </th></tr><tr><td> Ks </td><td>  1.00000000 </td><td> 1.0 </td><td>  0.10000000 </td><td>  20.0000000 </td><td> True </td></tr><tr><td> alpha </td><td>  0.01860000 </td><td> 0.0186 </td><td>  1.0000e-03 </td><td>  0.10000000 </td><td> True </td></tr><tr><td> n </td><td>  1.32300000 </td><td> 1.323 </td><td>  0.10000000 </td><td>  10.0000000 </td><td> True </td></tr><tr><td> Qr </td><td>  0.00800000 </td><td> 0.008 </td><td>  0.00000000 </td><td>  0.15000000 </td><td> False </td></tr><tr><td> Qs </td><td>  0.29500000 </td><td> 0.295 </td><td>  0.21000000 </td><td>  0.65000000 </td><td> True </td></tr><tr><td> l </td><td>  0.50000000 </td><td> 0.5 </td><td> -6.00000000 </td><td>  10.0000000 </td><td> False </td></tr></table>"
      ],
      "text/plain": [
       "Parameters([('Ks', <Parameter 'Ks', 1.0, bounds=[0.1:20.0]>),\n",
       "            ('alpha', <Parameter 'alpha', 0.0186, bounds=[0.001:0.1]>),\n",
       "            ('n', <Parameter 'n', 1.323, bounds=[0.1:10.0]>),\n",
       "            ('Qr', <Parameter 'Qr', value=0.008 (fixed), bounds=[0.0:0.15]>),\n",
       "            ('Qs', <Parameter 'Qs', 0.295, bounds=[0.21:0.65]>),\n",
       "            ('l', <Parameter 'l', value=0.5 (fixed), bounds=[-6.0:10.0]>)])"
      ]
     },
     "execution_count": 3,
     "metadata": {},
     "output_type": "execute_result"
    }
   ],
   "source": [
    "#create a model from a function\n",
    "swcc_model = Model(swcc)\n",
    "params = swcc_model.make_params()\n",
    "\n",
    "#set initial values and bounds\n",
    "l = params['l']\n",
    "l.min = -6.0\n",
    "l.max = 10.0\n",
    "l.value = 0.5\n",
    "l.init_value = 0.5\n",
    "l.vary = False\n",
    "\n",
    "Ks = params['Ks']\n",
    "Ks.min = 0.1\n",
    "Ks.max = 20.0\n",
    "Ks.value = 1.0\n",
    "Ks.init_value = 1.0\n",
    "\n",
    "alpha = params['alpha']\n",
    "alpha.min = 0.001\n",
    "alpha.max = 0.1\n",
    "alpha.value = 0.0186\n",
    "alpha.init_value = 0.0186\n",
    "\n",
    "n = params['n']\n",
    "n.min = 0.1\n",
    "n.max = 10.0\n",
    "n.value = 1.323\n",
    "n.init_value = 1.323\n",
    "\n",
    "Qr = params['Qr']\n",
    "Qr.min = 0.0\n",
    "Qr.max = 0.15\n",
    "Qr.value = 0.008\n",
    "Qr.init_value = 0.008\n",
    "Qr.vary = False\n",
    "\n",
    "Qs = params['Qs']\n",
    "Qs.min = 0.21\n",
    "Qs.max = 0.65\n",
    "Qs.value = 0.295\n",
    "Qs.init_value = 0.295\n",
    "Qs.vary = True\n",
    "\n",
    "params"
   ]
  },
  {
   "cell_type": "code",
   "execution_count": 4,
   "metadata": {},
   "outputs": [
    {
     "name": "stdout",
     "output_type": "stream",
     "text": [
      "['Ks', 'alpha', 'n', 'Qr', 'Qs', 'l'] ['h']\n"
     ]
    }
   ],
   "source": [
    "print(swcc_model.param_names, swcc_model.independent_vars)"
   ]
  },
  {
   "cell_type": "code",
   "execution_count": 5,
   "metadata": {},
   "outputs": [
    {
     "data": {
      "text/html": [
       "<div>\n",
       "<style scoped>\n",
       "    .dataframe tbody tr th:only-of-type {\n",
       "        vertical-align: middle;\n",
       "    }\n",
       "\n",
       "    .dataframe tbody tr th {\n",
       "        vertical-align: top;\n",
       "    }\n",
       "\n",
       "    .dataframe thead th {\n",
       "        text-align: right;\n",
       "    }\n",
       "</style>\n",
       "<table border=\"1\" class=\"dataframe\">\n",
       "  <thead>\n",
       "    <tr style=\"text-align: right;\">\n",
       "      <th></th>\n",
       "      <th>theta</th>\n",
       "      <th>h</th>\n",
       "      <th>Kcmd</th>\n",
       "    </tr>\n",
       "    <tr>\n",
       "      <th>h</th>\n",
       "      <th></th>\n",
       "      <th></th>\n",
       "      <th></th>\n",
       "    </tr>\n",
       "  </thead>\n",
       "  <tbody>\n",
       "    <tr>\n",
       "      <th>220.292646</th>\n",
       "      <td>0.1853</td>\n",
       "      <td>220.292646</td>\n",
       "      <td>0.081283</td>\n",
       "    </tr>\n",
       "    <tr>\n",
       "      <th>232.809126</th>\n",
       "      <td>0.1832</td>\n",
       "      <td>232.809126</td>\n",
       "      <td>0.072444</td>\n",
       "    </tr>\n",
       "    <tr>\n",
       "      <th>246.603934</th>\n",
       "      <td>0.1810</td>\n",
       "      <td>246.603934</td>\n",
       "      <td>0.064565</td>\n",
       "    </tr>\n",
       "    <tr>\n",
       "      <th>261.818301</th>\n",
       "      <td>0.1788</td>\n",
       "      <td>261.818301</td>\n",
       "      <td>0.060256</td>\n",
       "    </tr>\n",
       "    <tr>\n",
       "      <th>279.254384</th>\n",
       "      <td>0.1766</td>\n",
       "      <td>279.254384</td>\n",
       "      <td>0.053703</td>\n",
       "    </tr>\n",
       "  </tbody>\n",
       "</table>\n",
       "</div>"
      ],
      "text/plain": [
       "             theta           h      Kcmd\n",
       "h                                       \n",
       "220.292646  0.1853  220.292646  0.081283\n",
       "232.809126  0.1832  232.809126  0.072444\n",
       "246.603934  0.1810  246.603934  0.064565\n",
       "261.818301  0.1788  261.818301  0.060256\n",
       "279.254384  0.1766  279.254384  0.053703"
      ]
     },
     "execution_count": 5,
     "metadata": {},
     "output_type": "execute_result"
    },
    {
     "data": {
      "image/png": "[encoded data removed]",
      "text/plain": [
       "<Figure size 432x288 with 1 Axes>"
      ]
     },
     "metadata": {
      "needs_background": "light"
     },
     "output_type": "display_data"
    }
   ],
   "source": [
    "#read in and format the data as needed\n",
    "kdata = pd.read_csv(r\"lmfit_test_kdata.csv\")\n",
    "kdata['h'] = 10**(kdata.pF)\n",
    "kdata.index = kdata.h\n",
    "kdata = kdata.drop_duplicates()\n",
    "\n",
    "data = pd.read_csv(r\"lmfit_test.csv\")\n",
    "data.columns = ['pF','theta','weight']\n",
    "data['h'] = 10**(data.pF)\n",
    "data = data.drop(columns = ['weight','pF'])\n",
    "data.index = data.h\n",
    "data.theta = data.theta/100.\n",
    "data['Kcmd'] = kdata['K_cmd']\n",
    "data = data.drop_duplicates()\n",
    "data = data.dropna()           #dropping Nans here\n",
    "data = data.sort_index()\n",
    "\n",
    "#show the data in a scatter plot\n",
    "plt.scatter(data.h,data.theta)\n",
    "plt.xscale('log')\n",
    "\n",
    "plt.scatter(data.h,data.Kcmd)\n",
    "plt.xscale('log')\n",
    "\n",
    "#plot the model results with initial guesses against the data\n",
    "init_guess = swcc_model.eval(params, h = data.h)\n",
    "\n",
    "\n",
    "plt.plot(data.h, init_guess[0:int(len(init_guess)/2)], label = 'model theta')\n",
    "plt.plot(data.h, init_guess[int(len(init_guess)/2):], label = 'model k')\n",
    "\n",
    "plt.legend(loc = 'best')\n",
    "\n",
    "data.tail()"
   ]
  },
  {
   "cell_type": "code",
   "execution_count": 6,
   "metadata": {},
   "outputs": [
    {
     "data": {
      "text/html": [
       "<h2> Model</h2> Model(swcc) <h2>Fit Statistics</h2><table><tr><td>fitting method</td><td>CG</td><td></td></tr><tr><td># function evals</td><td>825</td><td></td></tr><tr><td># data points</td><td>192</td><td></td></tr><tr><td># variables</td><td>4</td><td></td></tr><tr><td>chi-square</td><td> 0.19840466</td><td></td></tr><tr><td>reduced chi-square</td><td> 0.00105534</td><td></td></tr><tr><td>Akaike info crit.</td><td>-1311.98886</td><td></td></tr><tr><td>Bayesian info crit.</td><td>-1298.95888</td><td></td></tr></table><h2>Variables</h2><table><tr><th> name </th><th> value </th><th> standard error </th><th> relative error </th><th> initial value </th><th> min </th><th> max </th><th> vary </th></tr><tr><td> Ks </td><td>  0.57788479 </td><td>  0.00497300 </td><td> 0.86% </td><td> 1.0 </td><td>  0.10000000 </td><td>  20.0000000 </td><td> True </td></tr><tr><td> alpha </td><td>  0.00583165 </td><td>  1.4764e-04 </td><td> 2.53% </td><td> 0.0186 </td><td>  1.0000e-03 </td><td>  0.10000000 </td><td> True </td></tr><tr><td> n </td><td>  2.80961696 </td><td>  0.08272032 </td><td> 2.94% </td><td> 1.323 </td><td>  0.10000000 </td><td>  10.0000000 </td><td> True </td></tr><tr><td> Qr </td><td>  0.00800000 </td><td>  0.00000000 </td><td> 0.00% </td><td> 0.008 </td><td>  0.00000000 </td><td>  0.15000000 </td><td> False </td></tr><tr><td> Qs </td><td>  0.27503642 </td><td>  0.00369445 </td><td> 1.34% </td><td> 0.295 </td><td>  0.21000000 </td><td>  0.65000000 </td><td> True </td></tr><tr><td> l </td><td>  0.50000000 </td><td>  0.00000000 </td><td> 0.00% </td><td> 0.5 </td><td> -6.00000000 </td><td>  10.0000000 </td><td> False </td></tr></table><h2>Correlations (unreported correlations are < 0.100)</h2><table><tr><td>alpha</td><td>n</td><td>0.7138</td></tr><tr><td>Ks</td><td>n</td><td>-0.4326</td></tr><tr><td>alpha</td><td>Qs</td><td>0.2066</td></tr><tr><td>n</td><td>Qs</td><td>0.1299</td></tr></table>"
      ],
      "text/plain": [
       "<lmfit.model.ModelResult at 0x189369bb2b0>"
      ]
     },
     "execution_count": 6,
     "metadata": {},
     "output_type": "execute_result"
    }
   ],
   "source": [
    "#fit the objective function to the observation data\n",
    "result = swcc_model.fit(np.concatenate((data.theta,data.Kcmd)), params = params, weights = None,\n",
    "                        method = 'cg', h = data.h)\n",
    "\n",
    "#nan_policy='omit',\n",
    "#h = np.concatenate((data.h,data.h))\n",
    "\n",
    "#methods:https://lmfit.github.io/lmfit-py/fitting.html\n",
    "#omit Nans for cases where the number of retention and k data are different\n",
    "\n",
    "result"
   ]
  },
  {
   "cell_type": "code",
   "execution_count": 7,
   "metadata": {},
   "outputs": [
    {
     "data": {
      "text/plain": [
       "<matplotlib.legend.Legend at 0x189379ac470>"
      ]
     },
     "execution_count": 7,
     "metadata": {},
     "output_type": "execute_result"
    },
    {
     "data": {
      "image/png": "[encoded data removed]",
      "text/plain": [
       "<Figure size 432x288 with 1 Axes>"
      ]
     },
     "metadata": {
      "needs_background": "light"
     },
     "output_type": "display_data"
    }
   ],
   "source": [
    "#show the data in a scatter plot\n",
    "plt.scatter(data.h,data.theta)\n",
    "plt.xscale('log')\n",
    "\n",
    "plt.scatter(data.h,data.Kcmd)\n",
    "plt.xscale('log')\n",
    "\n",
    "#plot the model results with initial guesses against the data\n",
    "init_guess = swcc_model.eval(result.params, h = data.h)\n",
    "\n",
    "\n",
    "plt.plot(data.h, init_guess[0:int(len(init_guess)/2)], label = 'model theta')\n",
    "plt.plot(data.h, init_guess[int(len(init_guess)/2):], label = 'model k')\n",
    "\n",
    "plt.legend(loc = 'best')\n",
    "\n",
    "#still need to figure out why I can't use the dataset with Nans included, and have the fit function \"omit\" then nans."
   ]
  },
  {
   "cell_type": "code",
   "execution_count": 8,
   "metadata": {},
   "outputs": [
    {
     "ename": "ValueError",
     "evalue": "x and y must have same first dimension, but have shapes (96,) and (192,)",
     "output_type": "error",
     "traceback": [
      "\u001b[1;31m---------------------------------------------------------------------------\u001b[0m",
      "\u001b[1;31mValueError\u001b[0m                                Traceback (most recent call last)",
      "\u001b[1;32m<ipython-input-8-3fb6803f9366>\u001b[0m in \u001b[0;36m<module>\u001b[1;34m()\u001b[0m\n\u001b[0;32m      1\u001b[0m \u001b[1;31m#use the native plotting fuctions\u001b[0m\u001b[1;33m\u001b[0m\u001b[1;33m\u001b[0m\u001b[0m\n\u001b[1;32m----> 2\u001b[1;33m \u001b[0mresult\u001b[0m\u001b[1;33m.\u001b[0m\u001b[0mplot_fit\u001b[0m\u001b[1;33m(\u001b[0m\u001b[0mfitfmt\u001b[0m \u001b[1;33m=\u001b[0m \u001b[1;34m'--'\u001b[0m\u001b[1;33m)\u001b[0m\u001b[1;33m\u001b[0m\u001b[0m\n\u001b[0m\u001b[0;32m      3\u001b[0m \u001b[1;31m#show model uncertainty on plot, 2 sigma\u001b[0m\u001b[1;33m\u001b[0m\u001b[1;33m\u001b[0m\u001b[0m\n\u001b[0;32m      4\u001b[0m \u001b[0mplt\u001b[0m\u001b[1;33m.\u001b[0m\u001b[0mplot\u001b[0m\u001b[1;33m(\u001b[0m\u001b[0mdata\u001b[0m\u001b[1;33m.\u001b[0m\u001b[0mh\u001b[0m\u001b[1;33m,\u001b[0m\u001b[0mdata\u001b[0m\u001b[1;33m.\u001b[0m\u001b[0mmodeled\u001b[0m \u001b[1;33m+\u001b[0m \u001b[0mresult\u001b[0m\u001b[1;33m.\u001b[0m\u001b[0meval_uncertainty\u001b[0m\u001b[1;33m(\u001b[0m\u001b[0msigma\u001b[0m \u001b[1;33m=\u001b[0m \u001b[1;36m2\u001b[0m\u001b[1;33m)\u001b[0m\u001b[1;33m)\u001b[0m\u001b[1;33m\u001b[0m\u001b[0m\n\u001b[0;32m      5\u001b[0m \u001b[0mplt\u001b[0m\u001b[1;33m.\u001b[0m\u001b[0mplot\u001b[0m\u001b[1;33m(\u001b[0m\u001b[0mdata\u001b[0m\u001b[1;33m.\u001b[0m\u001b[0mh\u001b[0m\u001b[1;33m,\u001b[0m\u001b[0mdata\u001b[0m\u001b[1;33m.\u001b[0m\u001b[0mmodeled\u001b[0m \u001b[1;33m-\u001b[0m \u001b[0mresult\u001b[0m\u001b[1;33m.\u001b[0m\u001b[0meval_uncertainty\u001b[0m\u001b[1;33m(\u001b[0m\u001b[0msigma\u001b[0m \u001b[1;33m=\u001b[0m \u001b[1;36m2\u001b[0m\u001b[1;33m)\u001b[0m\u001b[1;33m)\u001b[0m\u001b[1;33m\u001b[0m\u001b[0m\n",
      "\u001b[1;32m~\\Anaconda2\\envs\\py36\\lib\\site-packages\\lmfit\\model.py\u001b[0m in \u001b[0;36mwrapper\u001b[1;34m(*args, **kws)\u001b[0m\n\u001b[0;32m     47\u001b[0m         \u001b[1;33m@\u001b[0m\u001b[0mwraps\u001b[0m\u001b[1;33m(\u001b[0m\u001b[0mfunction\u001b[0m\u001b[1;33m)\u001b[0m\u001b[1;33m\u001b[0m\u001b[0m\n\u001b[0;32m     48\u001b[0m         \u001b[1;32mdef\u001b[0m \u001b[0mwrapper\u001b[0m\u001b[1;33m(\u001b[0m\u001b[1;33m*\u001b[0m\u001b[0margs\u001b[0m\u001b[1;33m,\u001b[0m \u001b[1;33m**\u001b[0m\u001b[0mkws\u001b[0m\u001b[1;33m)\u001b[0m\u001b[1;33m:\u001b[0m\u001b[1;33m\u001b[0m\u001b[0m\n\u001b[1;32m---> 49\u001b[1;33m             \u001b[1;32mreturn\u001b[0m \u001b[0mfunction\u001b[0m\u001b[1;33m(\u001b[0m\u001b[1;33m*\u001b[0m\u001b[0margs\u001b[0m\u001b[1;33m,\u001b[0m \u001b[1;33m**\u001b[0m\u001b[0mkws\u001b[0m\u001b[1;33m)\u001b[0m\u001b[1;33m\u001b[0m\u001b[0m\n\u001b[0m\u001b[0;32m     50\u001b[0m         \u001b[1;32mreturn\u001b[0m \u001b[0mwrapper\u001b[0m\u001b[1;33m\u001b[0m\u001b[0m\n\u001b[0;32m     51\u001b[0m \u001b[1;33m\u001b[0m\u001b[0m\n",
      "\u001b[1;32m~\\Anaconda2\\envs\\py36\\lib\\site-packages\\lmfit\\model.py\u001b[0m in \u001b[0;36mplot_fit\u001b[1;34m(self, ax, datafmt, fitfmt, initfmt, xlabel, ylabel, yerr, numpoints, data_kws, fit_kws, init_kws, ax_kws, show_init, parse_complex)\u001b[0m\n\u001b[0;32m   1841\u001b[0m         \u001b[1;32melse\u001b[0m\u001b[1;33m:\u001b[0m\u001b[1;33m\u001b[0m\u001b[0m\n\u001b[0;32m   1842\u001b[0m             ax.plot(x_array, reduce_complex(self.data),\n\u001b[1;32m-> 1843\u001b[1;33m                     datafmt, label='data', **data_kws)\n\u001b[0m\u001b[0;32m   1844\u001b[0m \u001b[1;33m\u001b[0m\u001b[0m\n\u001b[0;32m   1845\u001b[0m         ax.plot(\n",
      "\u001b[1;32m~\\Anaconda2\\envs\\py36\\lib\\site-packages\\matplotlib\\__init__.py\u001b[0m in \u001b[0;36minner\u001b[1;34m(ax, *args, **kwargs)\u001b[0m\n\u001b[0;32m   1853\u001b[0m                         \u001b[1;34m\"the Matplotlib list!)\"\u001b[0m \u001b[1;33m%\u001b[0m \u001b[1;33m(\u001b[0m\u001b[0mlabel_namer\u001b[0m\u001b[1;33m,\u001b[0m \u001b[0mfunc\u001b[0m\u001b[1;33m.\u001b[0m\u001b[0m__name__\u001b[0m\u001b[1;33m)\u001b[0m\u001b[1;33m,\u001b[0m\u001b[1;33m\u001b[0m\u001b[0m\n\u001b[0;32m   1854\u001b[0m                         RuntimeWarning, stacklevel=2)\n\u001b[1;32m-> 1855\u001b[1;33m             \u001b[1;32mreturn\u001b[0m \u001b[0mfunc\u001b[0m\u001b[1;33m(\u001b[0m\u001b[0max\u001b[0m\u001b[1;33m,\u001b[0m \u001b[1;33m*\u001b[0m\u001b[0margs\u001b[0m\u001b[1;33m,\u001b[0m \u001b[1;33m**\u001b[0m\u001b[0mkwargs\u001b[0m\u001b[1;33m)\u001b[0m\u001b[1;33m\u001b[0m\u001b[0m\n\u001b[0m\u001b[0;32m   1856\u001b[0m \u001b[1;33m\u001b[0m\u001b[0m\n\u001b[0;32m   1857\u001b[0m         inner.__doc__ = _add_data_doc(inner.__doc__,\n",
      "\u001b[1;32m~\\Anaconda2\\envs\\py36\\lib\\site-packages\\matplotlib\\axes\\_axes.py\u001b[0m in \u001b[0;36mplot\u001b[1;34m(self, *args, **kwargs)\u001b[0m\n\u001b[0;32m   1525\u001b[0m         \u001b[0mkwargs\u001b[0m \u001b[1;33m=\u001b[0m \u001b[0mcbook\u001b[0m\u001b[1;33m.\u001b[0m\u001b[0mnormalize_kwargs\u001b[0m\u001b[1;33m(\u001b[0m\u001b[0mkwargs\u001b[0m\u001b[1;33m,\u001b[0m \u001b[0m_alias_map\u001b[0m\u001b[1;33m)\u001b[0m\u001b[1;33m\u001b[0m\u001b[0m\n\u001b[0;32m   1526\u001b[0m \u001b[1;33m\u001b[0m\u001b[0m\n\u001b[1;32m-> 1527\u001b[1;33m         \u001b[1;32mfor\u001b[0m \u001b[0mline\u001b[0m \u001b[1;32min\u001b[0m \u001b[0mself\u001b[0m\u001b[1;33m.\u001b[0m\u001b[0m_get_lines\u001b[0m\u001b[1;33m(\u001b[0m\u001b[1;33m*\u001b[0m\u001b[0margs\u001b[0m\u001b[1;33m,\u001b[0m \u001b[1;33m**\u001b[0m\u001b[0mkwargs\u001b[0m\u001b[1;33m)\u001b[0m\u001b[1;33m:\u001b[0m\u001b[1;33m\u001b[0m\u001b[0m\n\u001b[0m\u001b[0;32m   1528\u001b[0m             \u001b[0mself\u001b[0m\u001b[1;33m.\u001b[0m\u001b[0madd_line\u001b[0m\u001b[1;33m(\u001b[0m\u001b[0mline\u001b[0m\u001b[1;33m)\u001b[0m\u001b[1;33m\u001b[0m\u001b[0m\n\u001b[0;32m   1529\u001b[0m             \u001b[0mlines\u001b[0m\u001b[1;33m.\u001b[0m\u001b[0mappend\u001b[0m\u001b[1;33m(\u001b[0m\u001b[0mline\u001b[0m\u001b[1;33m)\u001b[0m\u001b[1;33m\u001b[0m\u001b[0m\n",
      "\u001b[1;32m~\\Anaconda2\\envs\\py36\\lib\\site-packages\\matplotlib\\axes\\_base.py\u001b[0m in \u001b[0;36m_grab_next_args\u001b[1;34m(self, *args, **kwargs)\u001b[0m\n\u001b[0;32m    404\u001b[0m                 \u001b[0mthis\u001b[0m \u001b[1;33m+=\u001b[0m \u001b[0margs\u001b[0m\u001b[1;33m[\u001b[0m\u001b[1;36m0\u001b[0m\u001b[1;33m]\u001b[0m\u001b[1;33m,\u001b[0m\u001b[1;33m\u001b[0m\u001b[0m\n\u001b[0;32m    405\u001b[0m                 \u001b[0margs\u001b[0m \u001b[1;33m=\u001b[0m \u001b[0margs\u001b[0m\u001b[1;33m[\u001b[0m\u001b[1;36m1\u001b[0m\u001b[1;33m:\u001b[0m\u001b[1;33m]\u001b[0m\u001b[1;33m\u001b[0m\u001b[0m\n\u001b[1;32m--> 406\u001b[1;33m             \u001b[1;32mfor\u001b[0m \u001b[0mseg\u001b[0m \u001b[1;32min\u001b[0m \u001b[0mself\u001b[0m\u001b[1;33m.\u001b[0m\u001b[0m_plot_args\u001b[0m\u001b[1;33m(\u001b[0m\u001b[0mthis\u001b[0m\u001b[1;33m,\u001b[0m \u001b[0mkwargs\u001b[0m\u001b[1;33m)\u001b[0m\u001b[1;33m:\u001b[0m\u001b[1;33m\u001b[0m\u001b[0m\n\u001b[0m\u001b[0;32m    407\u001b[0m                 \u001b[1;32myield\u001b[0m \u001b[0mseg\u001b[0m\u001b[1;33m\u001b[0m\u001b[0m\n\u001b[0;32m    408\u001b[0m \u001b[1;33m\u001b[0m\u001b[0m\n",
      "\u001b[1;32m~\\Anaconda2\\envs\\py36\\lib\\site-packages\\matplotlib\\axes\\_base.py\u001b[0m in \u001b[0;36m_plot_args\u001b[1;34m(self, tup, kwargs)\u001b[0m\n\u001b[0;32m    381\u001b[0m             \u001b[0mx\u001b[0m\u001b[1;33m,\u001b[0m \u001b[0my\u001b[0m \u001b[1;33m=\u001b[0m \u001b[0mindex_of\u001b[0m\u001b[1;33m(\u001b[0m\u001b[0mtup\u001b[0m\u001b[1;33m[\u001b[0m\u001b[1;33m-\u001b[0m\u001b[1;36m1\u001b[0m\u001b[1;33m]\u001b[0m\u001b[1;33m)\u001b[0m\u001b[1;33m\u001b[0m\u001b[0m\n\u001b[0;32m    382\u001b[0m \u001b[1;33m\u001b[0m\u001b[0m\n\u001b[1;32m--> 383\u001b[1;33m         \u001b[0mx\u001b[0m\u001b[1;33m,\u001b[0m \u001b[0my\u001b[0m \u001b[1;33m=\u001b[0m \u001b[0mself\u001b[0m\u001b[1;33m.\u001b[0m\u001b[0m_xy_from_xy\u001b[0m\u001b[1;33m(\u001b[0m\u001b[0mx\u001b[0m\u001b[1;33m,\u001b[0m \u001b[0my\u001b[0m\u001b[1;33m)\u001b[0m\u001b[1;33m\u001b[0m\u001b[0m\n\u001b[0m\u001b[0;32m    384\u001b[0m \u001b[1;33m\u001b[0m\u001b[0m\n\u001b[0;32m    385\u001b[0m         \u001b[1;32mif\u001b[0m \u001b[0mself\u001b[0m\u001b[1;33m.\u001b[0m\u001b[0mcommand\u001b[0m \u001b[1;33m==\u001b[0m \u001b[1;34m'plot'\u001b[0m\u001b[1;33m:\u001b[0m\u001b[1;33m\u001b[0m\u001b[0m\n",
      "\u001b[1;32m~\\Anaconda2\\envs\\py36\\lib\\site-packages\\matplotlib\\axes\\_base.py\u001b[0m in \u001b[0;36m_xy_from_xy\u001b[1;34m(self, x, y)\u001b[0m\n\u001b[0;32m    240\u001b[0m         \u001b[1;32mif\u001b[0m \u001b[0mx\u001b[0m\u001b[1;33m.\u001b[0m\u001b[0mshape\u001b[0m\u001b[1;33m[\u001b[0m\u001b[1;36m0\u001b[0m\u001b[1;33m]\u001b[0m \u001b[1;33m!=\u001b[0m \u001b[0my\u001b[0m\u001b[1;33m.\u001b[0m\u001b[0mshape\u001b[0m\u001b[1;33m[\u001b[0m\u001b[1;36m0\u001b[0m\u001b[1;33m]\u001b[0m\u001b[1;33m:\u001b[0m\u001b[1;33m\u001b[0m\u001b[0m\n\u001b[0;32m    241\u001b[0m             raise ValueError(\"x and y must have same first dimension, but \"\n\u001b[1;32m--> 242\u001b[1;33m                              \"have shapes {} and {}\".format(x.shape, y.shape))\n\u001b[0m\u001b[0;32m    243\u001b[0m         \u001b[1;32mif\u001b[0m \u001b[0mx\u001b[0m\u001b[1;33m.\u001b[0m\u001b[0mndim\u001b[0m \u001b[1;33m>\u001b[0m \u001b[1;36m2\u001b[0m \u001b[1;32mor\u001b[0m \u001b[0my\u001b[0m\u001b[1;33m.\u001b[0m\u001b[0mndim\u001b[0m \u001b[1;33m>\u001b[0m \u001b[1;36m2\u001b[0m\u001b[1;33m:\u001b[0m\u001b[1;33m\u001b[0m\u001b[0m\n\u001b[0;32m    244\u001b[0m             raise ValueError(\"x and y can be no greater than 2-D, but have \"\n",
      "\u001b[1;31mValueError\u001b[0m: x and y must have same first dimension, but have shapes (96,) and (192,)"
     ]
    },
    {
     "data": {
      "image/png": "[encoded data removed]",
      "text/plain": [
       "<Figure size 432x288 with 1 Axes>"
      ]
     },
     "metadata": {
      "needs_background": "light"
     },
     "output_type": "display_data"
    }
   ],
   "source": [
    "#use the native plotting fuctions\n",
    "result.plot_fit(fitfmt = '--')\n",
    "#show model uncertainty on plot, 2 sigma\n",
    "plt.plot(data.h,data.modeled + result.eval_uncertainty(sigma = 2))\n",
    "plt.plot(data.h,data.modeled - result.eval_uncertainty(sigma = 2))\n",
    "plt.xscale('log')"
   ]
  },
  {
   "cell_type": "code",
   "execution_count": null,
   "metadata": {},
   "outputs": [],
   "source": [
    "result.plot_residuals()\n",
    "plt.xscale('log')"
   ]
  }
 ],
 "metadata": {
  "kernelspec": {
   "display_name": "Python 3",
   "language": "python",
   "name": "python3"
  },
  "language_info": {
   "codemirror_mode": {
    "name": "ipython",
    "version": 3
   },
   "file_extension": ".py",
   "mimetype": "text/x-python",
   "name": "python",
   "nbconvert_exporter": "python",
   "pygments_lexer": "ipython3",
   "version": "3.6.9"
  }
 },
 "nbformat": 4,
 "nbformat_minor": 4
}
