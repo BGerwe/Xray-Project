{
 "cells": [
  {
   "cell_type": "code",
   "execution_count": 1,
   "metadata": {},
   "outputs": [],
   "source": [
    "import unittest"
   ]
  },
  {
   "cell_type": "code",
   "execution_count": 1,
   "metadata": {},
   "outputs": [],
   "source": [
    "import os\n",
    "import sys\n",
    "sys.path.insert(0, 'C:\\\\Users\\\\shadd\\\\OneDrive\\\\Documents\\\\Python\\\\frxas.py')\n",
    "\n",
    "\n",
    "import h5py\n",
    "import numpy as np\n",
    "from frxas import hdf5_io\n",
    "from frxas import models\n",
    "\n",
    "%reload_ext autoreload\n",
    "%autoreload 2"
   ]
  },
  {
   "cell_type": "code",
   "execution_count": 3,
   "metadata": {},
   "outputs": [],
   "source": [
    "filename_test = 'Test_frXAS_HDF5'\n",
    "po2s_test = [.1, 0.001]\n",
    "temp_test = '800'\n",
    "\n",
    "hdf5_io.create_hdf5_file(filename_test, po2s_test, temp_test)"
   ]
  },
  {
   "cell_type": "code",
   "execution_count": 15,
   "metadata": {},
   "outputs": [],
   "source": [
    "hdf5_io.close_frxas_file(filename_test)"
   ]
  },
  {
   "cell_type": "code",
   "execution_count": 5,
   "metadata": {},
   "outputs": [],
   "source": [
    "f1 = hdf5_io.open_frxas_file(filename_test)"
   ]
  },
  {
   "cell_type": "code",
   "execution_count": 7,
   "metadata": {},
   "outputs": [
    {
     "data": {
      "text/plain": [
       "<KeysViewHDF5 ['0.001%_O2', '0.1%_O2']>"
      ]
     },
     "execution_count": 7,
     "metadata": {},
     "output_type": "execute_result"
    }
   ],
   "source": [
    "f1.keys()"
   ]
  },
  {
   "cell_type": "code",
   "execution_count": 35,
   "metadata": {},
   "outputs": [
    {
     "name": "stdout",
     "output_type": "stream",
     "text": [
      "<KeysViewHDF5 []>\n",
      "<HDF5 group \"/0.001%_O2\" (0 members)> empty\n",
      "<KeysViewHDF5 []>\n",
      "<HDF5 group \"/0.1%_O2\" (0 members)> empty\n"
     ]
    }
   ],
   "source": [
    "for dset in f1.keys():\n",
    "#     print(f1[dset].keys())\n",
    "    print(f1[dset].keys())\n",
    "    if f1[dset].keys():\n",
    "        print('not empty')\n",
    "    else:\n",
    "        print(f1[dset], 'empty')\n",
    "    for a in f1[dset].keys():\n",
    "        print(a, '1')\n",
    "        print(type(a))\n",
    "    \n",
    "# f1['0.1%_O2'].keys()"
   ]
  },
  {
   "cell_type": "code",
   "execution_count": 49,
   "metadata": {},
   "outputs": [
    {
     "name": "stdout",
     "output_type": "stream",
     "text": [
      "<HDF5 group \"/0.001%_O2\" (0 members)>  is empty.\n",
      "/0.1%_O2/1_Hz (3, 3)\n",
      "/0.1%_O2/5_Hz (3, 3)\n"
     ]
    }
   ],
   "source": [
    "hdf5_io.print_data_shapes(filename_test)"
   ]
  },
  {
   "cell_type": "code",
   "execution_count": 37,
   "metadata": {},
   "outputs": [
    {
     "name": "stdout",
     "output_type": "stream",
     "text": [
      "Fine\n",
      "<HDF5 group \"/0.001%_O2\" (0 members)>  is empty.\n",
      "<HDF5 group \"/0.1%_O2\" (0 members)>  is empty.\n"
     ]
    }
   ],
   "source": [
    "hdf5_io.print_data_shapes(f1)"
   ]
  },
  {
   "cell_type": "code",
   "execution_count": 14,
   "metadata": {},
   "outputs": [
    {
     "name": "stdout",
     "output_type": "stream",
     "text": [
      "Fine\n",
      "Continued\n",
      "<KeysViewHDF5 ['0.25_Hz', '1_Hz', '4_Hz']>\n",
      "/1%_O2/0.25_Hz (3, 21)\n",
      "/1%_O2/1_Hz (3, 18)\n",
      "/1%_O2/4_Hz (3, 20)\n",
      "<KeysViewHDF5 ['0.25_Hz', '1_Hz', '5_Hz']>\n",
      "/10%_O2/0.25_Hz (3, 31)\n",
      "/10%_O2/1_Hz (3, 24)\n",
      "/10%_O2/5_Hz (3, 13)\n",
      "<KeysViewHDF5 ['0.5_Hz', '8_Hz']>\n",
      "/100%_O2/0.5_Hz (3, 9)\n",
      "/100%_O2/8_Hz (3, 18)\n"
     ]
    }
   ],
   "source": [
    "file_real = hdf5_io.open_frxas_file('July18_frXAS')\n",
    "\n",
    "hdf5_io.print_data_shapes(file_real)"
   ]
  },
  {
   "cell_type": "code",
   "execution_count": 40,
   "metadata": {},
   "outputs": [],
   "source": [
    "file = hdf5_io.open_frxas_file('Test_frXAS_HDF5')\n",
    "f= 25\n",
    "po2 = .1\n",
    "dat =np.array([[0,1,2],[.25,.2,.1],[0.01,0.05, .007]])"
   ]
  },
  {
   "cell_type": "code",
   "execution_count": 48,
   "metadata": {},
   "outputs": [],
   "source": [
    "hdf5_io.add_frxas_profile(file, '0.1',5, dat)"
   ]
  },
  {
   "cell_type": "code",
   "execution_count": 54,
   "metadata": {},
   "outputs": [],
   "source": [
    "hdf5_io.add_frxas_profile(filename_test, '0.1',15, dat)"
   ]
  },
  {
   "cell_type": "code",
   "execution_count": 43,
   "metadata": {},
   "outputs": [],
   "source": [
    "hdf5_io.close_frxas_file('Test_frXAS_HDF5')"
   ]
  },
  {
   "cell_type": "code",
   "execution_count": 55,
   "metadata": {},
   "outputs": [
    {
     "name": "stdout",
     "output_type": "stream",
     "text": [
      "<HDF5 group \"/0.001%_O2\" (0 members)>  is empty.\n",
      "/0.1%_O2/15_Hz (3, 3)\n",
      "/0.1%_O2/1_Hz (3, 3)\n",
      "/0.1%_O2/5_Hz (3, 3)\n"
     ]
    }
   ],
   "source": [
    "hdf5_io.print_data_shapes(file)"
   ]
  },
  {
   "cell_type": "code",
   "execution_count": 59,
   "metadata": {},
   "outputs": [
    {
     "data": {
      "text/plain": [
       "['0.001', '0.1']"
      ]
     },
     "execution_count": 59,
     "metadata": {},
     "output_type": "execute_result"
    }
   ],
   "source": [
    "hdf5_io.get_po2_Cond(filename_test)"
   ]
  },
  {
   "cell_type": "code",
   "execution_count": 82,
   "metadata": {},
   "outputs": [
    {
     "ename": "KeyError",
     "evalue": "\"Can't open attribute (can't locate attribute: 'Gas')\"",
     "output_type": "error",
     "traceback": [
      "\u001b[1;31m---------------------------------------------------------------------------\u001b[0m",
      "\u001b[1;31mKeyError\u001b[0m                                  Traceback (most recent call last)",
      "\u001b[1;32m<ipython-input-82-68fa67d37842>\u001b[0m in \u001b[0;36m<module>\u001b[1;34m\u001b[0m\n\u001b[1;32m----> 1\u001b[1;33m \u001b[0mhdf5_io\u001b[0m\u001b[1;33m.\u001b[0m\u001b[0mextr_adj_1po2\u001b[0m\u001b[1;33m(\u001b[0m\u001b[0mfile\u001b[0m\u001b[1;33m)\u001b[0m\u001b[1;33m\u001b[0m\u001b[1;33m\u001b[0m\u001b[0m\n\u001b[0m",
      "\u001b[1;32m~\\OneDrive\\Documents\\Python\\frxas.py\\frxas\\hdf5_io.py\u001b[0m in \u001b[0;36mextr_adj_1po2\u001b[1;34m(obj, starts)\u001b[0m\n\u001b[0;32m    225\u001b[0m     \"\"\"Placeholder\n\u001b[0;32m    226\u001b[0m \"\"\"\n\u001b[1;32m--> 227\u001b[1;33m     \u001b[0mgas\u001b[0m \u001b[1;33m=\u001b[0m \u001b[0mobj\u001b[0m\u001b[1;33m.\u001b[0m\u001b[0mattrs\u001b[0m\u001b[1;33m[\u001b[0m\u001b[1;34m'Gas'\u001b[0m\u001b[1;33m]\u001b[0m\u001b[1;33m\u001b[0m\u001b[1;33m\u001b[0m\u001b[0m\n\u001b[0m\u001b[0;32m    228\u001b[0m     \u001b[0madj_starts\u001b[0m \u001b[1;33m=\u001b[0m \u001b[1;32mTrue\u001b[0m\u001b[1;33m\u001b[0m\u001b[1;33m\u001b[0m\u001b[0m\n\u001b[0;32m    229\u001b[0m     \u001b[0mi\u001b[0m \u001b[1;33m=\u001b[0m \u001b[1;36m0\u001b[0m\u001b[1;33m\u001b[0m\u001b[1;33m\u001b[0m\u001b[0m\n",
      "\u001b[1;32mh5py\\_objects.pyx\u001b[0m in \u001b[0;36mh5py._objects.with_phil.wrapper\u001b[1;34m()\u001b[0m\n",
      "\u001b[1;32mh5py\\_objects.pyx\u001b[0m in \u001b[0;36mh5py._objects.with_phil.wrapper\u001b[1;34m()\u001b[0m\n",
      "\u001b[1;32m~\\Anaconda3\\lib\\site-packages\\h5py\\_hl\\attrs.py\u001b[0m in \u001b[0;36m__getitem__\u001b[1;34m(self, name)\u001b[0m\n\u001b[0;32m     58\u001b[0m         \"\"\" Read the value of an attribute.\n\u001b[0;32m     59\u001b[0m         \"\"\"\n\u001b[1;32m---> 60\u001b[1;33m         \u001b[0mattr\u001b[0m \u001b[1;33m=\u001b[0m \u001b[0mh5a\u001b[0m\u001b[1;33m.\u001b[0m\u001b[0mopen\u001b[0m\u001b[1;33m(\u001b[0m\u001b[0mself\u001b[0m\u001b[1;33m.\u001b[0m\u001b[0m_id\u001b[0m\u001b[1;33m,\u001b[0m \u001b[0mself\u001b[0m\u001b[1;33m.\u001b[0m\u001b[0m_e\u001b[0m\u001b[1;33m(\u001b[0m\u001b[0mname\u001b[0m\u001b[1;33m)\u001b[0m\u001b[1;33m)\u001b[0m\u001b[1;33m\u001b[0m\u001b[1;33m\u001b[0m\u001b[0m\n\u001b[0m\u001b[0;32m     61\u001b[0m \u001b[1;33m\u001b[0m\u001b[0m\n\u001b[0;32m     62\u001b[0m         \u001b[1;32mif\u001b[0m \u001b[0mis_empty_dataspace\u001b[0m\u001b[1;33m(\u001b[0m\u001b[0mattr\u001b[0m\u001b[1;33m)\u001b[0m\u001b[1;33m:\u001b[0m\u001b[1;33m\u001b[0m\u001b[1;33m\u001b[0m\u001b[0m\n",
      "\u001b[1;32mh5py\\_objects.pyx\u001b[0m in \u001b[0;36mh5py._objects.with_phil.wrapper\u001b[1;34m()\u001b[0m\n",
      "\u001b[1;32mh5py\\_objects.pyx\u001b[0m in \u001b[0;36mh5py._objects.with_phil.wrapper\u001b[1;34m()\u001b[0m\n",
      "\u001b[1;32mh5py\\h5a.pyx\u001b[0m in \u001b[0;36mh5py.h5a.open\u001b[1;34m()\u001b[0m\n",
      "\u001b[1;31mKeyError\u001b[0m: \"Can't open attribute (can't locate attribute: 'Gas')\""
     ]
    }
   ],
   "source": [
    "hdf5_io.extr_adj_1po2(file)"
   ]
  },
  {
   "cell_type": "code",
   "execution_count": 81,
   "metadata": {},
   "outputs": [
    {
     "data": {
      "text/plain": [
       "<KeysViewHDF5 ['0.25_Hz', '1_Hz', '4_Hz']>"
      ]
     },
     "execution_count": 81,
     "metadata": {},
     "output_type": "execute_result"
    }
   ],
   "source": [
    "file_real['1%_O2'].keys()"
   ]
  },
  {
   "cell_type": "code",
   "execution_count": 75,
   "metadata": {},
   "outputs": [
    {
     "data": {
      "text/plain": [
       "'1%_O2'"
      ]
     },
     "execution_count": 75,
     "metadata": {},
     "output_type": "execute_result"
    }
   ],
   "source": [
    "po2s = hdf5_io.get_po2_Cond(file_real)\n",
    "po2s[0]"
   ]
  },
  {
   "cell_type": "code",
   "execution_count": 80,
   "metadata": {},
   "outputs": [
    {
     "data": {
      "text/plain": [
       "{'gas': 0.01,\n",
       " 'frequencies': [0.25, 1, 4],\n",
       " 'starts': [15, 15, 15],\n",
       " 'data': [array([[ 4.2700000e+02,  4.2800000e+02,  4.2900000e+02,  4.3000000e+02,\n",
       "           4.3100000e+02,  4.3200000e+02,  4.3300000e+02,  4.3400000e+02,\n",
       "           4.3800000e+02,  4.4700000e+02,  4.5200000e+02,  4.5700000e+02,\n",
       "           4.6200000e+02,  4.6900000e+02,  4.7200000e+02,  4.7500000e+02,\n",
       "           4.8000000e+02,  4.8300000e+02,  4.8500000e+02,  4.9700000e+02,\n",
       "           5.8500000e+02],\n",
       "         [-8.8419820e-03, -9.5913920e-03, -1.1026314e-02, -1.1526772e-02,\n",
       "          -1.2209895e-02, -1.1591035e-02, -1.0920432e-02, -1.0346425e-02,\n",
       "          -7.8817010e-03, -3.7796380e-03, -2.2808680e-03, -1.3913050e-03,\n",
       "          -6.6954100e-04, -2.0156300e-04, -4.8359000e-05,  1.5895100e-04,\n",
       "           2.4984800e-04,  3.0953700e-04,  3.4945400e-04,  1.7253200e-04,\n",
       "           3.8632500e-05],\n",
       "         [ 1.2735980e-03,  1.0422730e-03,  1.0108640e-03,  1.1258030e-03,\n",
       "           7.7925400e-04,  7.9608900e-04,  8.7294700e-04,  1.2111730e-03,\n",
       "           2.4919760e-03,  2.9680590e-03,  2.9146270e-03,  2.5574920e-03,\n",
       "           2.0428400e-03,  1.4554170e-03,  1.3072260e-03,  1.1012180e-03,\n",
       "           6.9483600e-04,  5.4813700e-04,  3.8893300e-04,  1.3614800e-04,\n",
       "          -4.9537900e-06]]),\n",
       "  array([[ 4.3100000e+02,  4.3200000e+02,  4.3300000e+02,  4.3400000e+02,\n",
       "           4.3500000e+02,  4.3600000e+02,  4.3700000e+02,  4.3800000e+02,\n",
       "           4.3900000e+02,  4.4300000e+02,  4.5000000e+02,  4.5300000e+02,\n",
       "           4.5800000e+02,  4.6300000e+02,  4.6500000e+02,  4.7500000e+02,\n",
       "           4.8400000e+02,  5.4300000e+02],\n",
       "         [-1.1000569e-02, -1.1488445e-02, -1.2485314e-02, -1.1877494e-02,\n",
       "          -9.8635000e-03, -8.7331340e-03, -7.8157250e-03, -6.7571140e-03,\n",
       "          -5.7038700e-03, -2.6525250e-03, -1.0573800e-04,  4.4731000e-04,\n",
       "           6.3580900e-04,  4.3097700e-04,  3.9806700e-04,  6.6573800e-05,\n",
       "          -4.6228000e-05, -1.0775600e-05],\n",
       "         [ 1.6924930e-03,  1.8893770e-03,  1.9078060e-03,  2.4786670e-03,\n",
       "           2.5551480e-03,  2.7482520e-03,  3.3695410e-03,  3.5764590e-03,\n",
       "           3.7759570e-03,  3.7236030e-03,  2.2008070e-03,  1.6339330e-03,\n",
       "           6.4534300e-04,  2.2431700e-04,  9.0151600e-05, -1.1941800e-04,\n",
       "           1.3181800e-05, -1.5346000e-05]]),\n",
       "  array([[ 4.310000e+02,  4.320000e+02,  4.330000e+02,  4.340000e+02,\n",
       "           4.350000e+02,  4.360000e+02,  4.370000e+02,  4.380000e+02,\n",
       "           4.390000e+02,  4.400000e+02,  4.410000e+02,  4.420000e+02,\n",
       "           4.430000e+02,  4.440000e+02,  4.450000e+02,  4.460000e+02,\n",
       "           4.470000e+02,  4.490000e+02,  4.510000e+02,  4.800000e+02],\n",
       "         [-6.959328e-03, -7.517132e-03, -9.124891e-03, -9.111359e-03,\n",
       "          -8.708424e-03, -7.567229e-03, -6.201787e-03, -4.263743e-03,\n",
       "          -2.944134e-03, -1.416155e-03, -5.950670e-04, -9.805730e-06,\n",
       "           3.948670e-04,  5.993550e-04,  8.659220e-04,  8.321800e-04,\n",
       "           8.001560e-04,  7.073230e-04,  5.253830e-04,  6.344370e-06],\n",
       "         [ 4.768523e-03,  4.762461e-03,  4.790886e-03,  4.842483e-03,\n",
       "           4.986617e-03,  5.005586e-03,  5.211342e-03,  5.309134e-03,\n",
       "           4.943923e-03,  4.379411e-03,  3.808059e-03,  3.300282e-03,\n",
       "           2.857862e-03,  2.227152e-03,  1.628119e-03,  1.283604e-03,\n",
       "           8.305750e-04,  2.072570e-04,  7.899380e-05,  2.339960e-05]])],\n",
       " 'data_adj': [array([[ 0.00000000e+00,  3.00000000e+00,  8.00000000e+00,\n",
       "           1.10000000e+01,  1.30000000e+01,  2.50000000e+01,\n",
       "           1.13000000e+02],\n",
       "         [-4.83590000e-05,  1.58951000e-04,  2.49848000e-04,\n",
       "           3.09537000e-04,  3.49454000e-04,  1.72532000e-04,\n",
       "           3.86325000e-05],\n",
       "         [ 1.30722600e-03,  1.10121800e-03,  6.94836000e-04,\n",
       "           5.48137000e-04,  3.88933000e-04,  1.36148000e-04,\n",
       "          -4.95379000e-06],\n",
       "         [ 1.30812018e-03,  1.11263044e-03,  7.38390879e-04,\n",
       "           6.29497677e-04,  5.22864205e-04,  2.19780729e-04,\n",
       "           3.89488137e-05]]),\n",
       "  array([[ 0.00000000e+00,  1.00000000e+01,  1.90000000e+01,\n",
       "           7.80000000e+01],\n",
       "         [ 3.98067000e-04,  6.65738000e-05, -4.62280000e-05,\n",
       "          -1.07756000e-05],\n",
       "         [ 9.01516000e-05, -1.19418000e-04,  1.31818000e-05,\n",
       "          -1.53460000e-05],\n",
       "         [ 4.08147826e-04,  1.36721357e-04,  4.80706546e-05,\n",
       "           1.87513539e-05]]),\n",
       "  array([[0.00000000e+00, 1.00000000e+00, 2.00000000e+00, 4.00000000e+00,\n",
       "          6.00000000e+00, 3.50000000e+01],\n",
       "         [8.65922000e-04, 8.32180000e-04, 8.00156000e-04, 7.07323000e-04,\n",
       "          5.25383000e-04, 6.34437000e-06],\n",
       "         [1.62811900e-03, 1.28360400e-03, 8.30575000e-04, 2.07257000e-04,\n",
       "          7.89938000e-05, 2.33996000e-05],\n",
       "         [1.84406952e-03, 1.52975906e-03, 1.15330155e-03, 7.37062610e-04,\n",
       "          5.31288356e-04, 2.42444284e-05]])]}"
      ]
     },
     "execution_count": 80,
     "metadata": {},
     "output_type": "execute_result"
    }
   ],
   "source": [
    "file_real[po2s[0]]\n",
    "hdf5_io.extr_adj_1po2(file_real[po2s[0]], starts=[15, 15, 15])"
   ]
  },
  {
   "cell_type": "code",
   "execution_count": 85,
   "metadata": {},
   "outputs": [],
   "source": [
    "starts = [1]"
   ]
  },
  {
   "cell_type": "code",
   "execution_count": 86,
   "metadata": {},
   "outputs": [
    {
     "name": "stdout",
     "output_type": "stream",
     "text": [
      "yes\n"
     ]
    }
   ],
   "source": [
    "if starts:\n",
    "    print('yes')\n",
    "else:\n",
    "    print('empty')"
   ]
  },
  {
   "cell_type": "code",
   "execution_count": 2,
   "metadata": {},
   "outputs": [],
   "source": [
    "from scipy.special import lambertw"
   ]
  },
  {
   "cell_type": "code",
   "execution_count": 3,
   "metadata": {},
   "outputs": [],
   "source": [
    "def calc_Ao(aoo, po2, po2_ref):\n",
    "    r\"\"\"Calculates an adjusted thermodynamic factor `ao`.\n",
    "    \n",
    "    Parameters\n",
    "    ----------\n",
    "    aoo : float\n",
    "        Thermodynamic factor for a reference pO2, `po2_ref`\n",
    "    po2 : float\n",
    "        Experimental :math:`pO_2` condition added in units % :math:`O_2`.\n",
    "    po2_ref : float\n",
    "        Reference :math:`pO_2` condition added in units % :math:`O_2`.\n",
    "        \n",
    "    Returns\n",
    "    -------\n",
    "    ao : float\n",
    "        Thermodynamic factor adjusted to `po2`.\n",
    "    \n",
    "    Notes\n",
    "    -----\n",
    "    \n",
    "    This relies on knowing a reference therm. factor, `aoo`, at a reference\n",
    "    pO2, `po2_ref`, and adjusts it for a given experimental pO2.\n",
    "    \n",
    "    The adjustment is made as:\n",
    "    \n",
    "    .. math::\n",
    "    \n",
    "        A_o = 1 + W( \\frac{A_{oo} - 1 * e^{A_{oo} - 1}}{\\sqrt{\\frac{pO_2}{pO_{2,ref}}}})\n",
    "    \n",
    "    Where W is the lambert W function [1]_.\n",
    "    \n",
    "    References\n",
    "    ----------\n",
    "    .. [1] https://en.wikipedia.org/wiki/Lambert_W_function\n",
    "    \n",
    "    \"\"\"\n",
    "    ao = 1 + lambertw((aoo - 1) * np.exp(aoo - 1) / np.sqrt(po2 / po2_ref))\n",
    "    \n",
    "    # lambertw() returns a complex number, but it should be purely real for any\n",
    "    # reasonable scenarios\n",
    "    return ao.real"
   ]
  },
  {
   "cell_type": "code",
   "execution_count": 4,
   "metadata": {},
   "outputs": [
    {
     "name": "stdout",
     "output_type": "stream",
     "text": [
      "no\n"
     ]
    }
   ],
   "source": [
    "if calc_Ao(.8, 1, 0.001).imag:\n",
    "    print('yes')\n",
    "else:\n",
    "    print('no')"
   ]
  },
  {
   "cell_type": "code",
   "execution_count": 7,
   "metadata": {},
   "outputs": [
    {
     "data": {
      "text/plain": [
       "0.9947948690617463"
      ]
     },
     "execution_count": 7,
     "metadata": {},
     "output_type": "execute_result"
    }
   ],
   "source": [
    "calc_Ao(.8, 1, 0.001).real"
   ]
  },
  {
   "cell_type": "code",
   "execution_count": null,
   "metadata": {},
   "outputs": [],
   "source": [
    "lambertw"
   ]
  }
 ],
 "metadata": {
  "kernelspec": {
   "display_name": "Python 3",
   "language": "python",
   "name": "python3"
  },
  "language_info": {
   "codemirror_mode": {
    "name": "ipython",
    "version": 3
   },
   "file_extension": ".py",
   "mimetype": "text/x-python",
   "name": "python",
   "nbconvert_exporter": "python",
   "pygments_lexer": "ipython3",
   "version": "3.6.10"
  }
 },
 "nbformat": 4,
 "nbformat_minor": 4
}
