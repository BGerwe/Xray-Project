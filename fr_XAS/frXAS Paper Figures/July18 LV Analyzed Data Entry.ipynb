{
 "cells": [
  {
   "cell_type": "code",
   "execution_count": 1,
   "metadata": {},
   "outputs": [],
   "source": [
    "import sys\n",
    "sys.path.insert(0, '..\\\\..\\\\frxas.py')\n",
    "\n",
    "import numpy as np\n",
    "import h5py\n",
    "from frxas import hdf5_io\n",
    "from frxas import models\n",
    "\n",
    "%reload_ext autoreload\n",
    "%autoreload 2"
   ]
  },
  {
   "cell_type": "code",
   "execution_count": 2,
   "metadata": {},
   "outputs": [],
   "source": [
    "# Some data from July 2018 \"Ir avg normalized\" fits from fr-XAS_View LabVIEW program\n",
    "Po2 = ['1%_O2', '10%_O2', '100%_O2']\n",
    "direc = 'July2018 Data Fits\\Ir avg normalized'\n",
    "\n",
    "#1% O2 0.25 Hz Data\n",
    "Pos1_0_25Hz = np.genfromtxt(direc + '\\Pos1_0_25Hz.txt', delimiter=', ')\n",
    "Re1_0_25Hz = np.genfromtxt(direc + '\\Re1_0_25Hz.txt', delimiter=', ')\n",
    "Im1_0_25Hz = np.genfromtxt(direc + '\\Im1_0_25Hz.txt', delimiter=', ')\n",
    "\n",
    "#1% O2 1 Hz Data\n",
    "Pos1_1Hz = np.genfromtxt(direc + '\\Pos1_1Hz.txt', delimiter=', ')\n",
    "Re1_1Hz = np.genfromtxt(direc + '\\Re1_1Hz.txt', delimiter=', ')\n",
    "Im1_1Hz = np.genfromtxt(direc + '\\Im1_1Hz.txt', delimiter=', ')\n",
    "\n",
    "#1% O2 4 Hz Data\n",
    "Pos1_4Hz = np.genfromtxt(direc + '\\Pos1_4Hz.txt', delimiter=', ')\n",
    "Re1_4Hz = np.genfromtxt(direc + '\\Re1_4Hz.txt', delimiter=', ')\n",
    "Im1_4Hz = np.genfromtxt(direc + '\\Im1_4Hz.txt', delimiter=', ')\n",
    "\n",
    "#1% O2 DC Data\n",
    "Pos1_DC = np.genfromtxt(direc + '\\Pos1_DC.txt', delimiter=', ')\n",
    "Re1_DC = np.genfromtxt(direc + '\\Mag1_DC.txt', delimiter=', ')\n",
    "Im1_DC = np.zeros(Re1_DC.shape)\n",
    "\n",
    "#10% O2 0.25 Hz Data\n",
    "Pos10_0_25Hz = np.genfromtxt(direc + '\\Pos10_0_25Hz.txt', delimiter=', ')\n",
    "Re10_0_25Hz = np.genfromtxt(direc + '\\Re10_0_25Hz.txt', delimiter=', ')\n",
    "Im10_0_25Hz = np.genfromtxt(direc + '\\Im10_0_25Hz.txt', delimiter=', ')\n",
    "\n",
    "#10% O2 1 Hz Data\n",
    "Pos10_1Hz = np.genfromtxt(direc + '\\Pos10_1Hz.txt', delimiter=', ')\n",
    "Re10_1Hz = np.genfromtxt(direc + '\\Re10_1Hz.txt', delimiter=', ')\n",
    "Im10_1Hz = np.genfromtxt(direc + '\\Im10_1Hz.txt', delimiter=', ')\n",
    "\n",
    "#10% O2 5 Hz Data\n",
    "Pos10_5Hz = np.genfromtxt(direc + '\\Pos10_5Hz.txt', delimiter=', ')\n",
    "Re10_5Hz = np.genfromtxt(direc + '\\Re10_5Hz.txt', delimiter=', ')\n",
    "Im10_5Hz = np.genfromtxt(direc + '\\Im10_5Hz.txt', delimiter=', ')\n",
    "\n",
    "#10% O2 DC Data\n",
    "Pos10_DC = np.genfromtxt(direc + '\\Pos10_DC.txt', delimiter=', ')\n",
    "Re10_DC = np.genfromtxt(direc + '\\Mag10_DC.txt', delimiter=', ')\n",
    "Im10_DC = np.zeros(Re10_DC.shape)\n",
    "\n",
    "#100% O2 0.5 Hz Data\n",
    "Pos100_0_5Hz = np.genfromtxt(direc + '\\Pos100_0_5Hz.txt', delimiter=', ')\n",
    "Re100_0_5Hz = np.genfromtxt(direc + '\\Re100_0_5Hz.txt', delimiter=', ')\n",
    "Im100_0_5Hz = np.genfromtxt(direc + '\\Im100_0_5Hz.txt', delimiter=', ')\n",
    "\n",
    "#100% O2 8 Hz Data\n",
    "Pos100_8Hz = np.genfromtxt(direc + '\\Pos100_8Hz.txt', delimiter=', ')\n",
    "Re100_8Hz = np.genfromtxt(direc + '\\Re100_8Hz.txt', delimiter=', ')\n",
    "Im100_8Hz = np.genfromtxt(direc + '\\Im100_8Hz.txt', delimiter=', ')\n",
    "\n",
    "#100% O2 DC Data\n",
    "Pos100_DC = np.genfromtxt(direc + '\\Pos100_DC.txt', delimiter=', ')\n",
    "Re100_DC = np.genfromtxt(direc + '\\Mag100_DC.txt', delimiter=', ')\n",
    "Im100_DC = np.zeros(Re100_DC.shape)"
   ]
  },
  {
   "cell_type": "code",
   "execution_count": 3,
   "metadata": {},
   "outputs": [],
   "source": [
    "hdf5_io.create_hdf5_file('July18_frXAS', Po2)"
   ]
  },
  {
   "cell_type": "code",
   "execution_count": 4,
   "metadata": {},
   "outputs": [],
   "source": [
    "f1 = hdf5_io.open_frxas_file('July18_frXAS')"
   ]
  },
  {
   "cell_type": "code",
   "execution_count": 13,
   "metadata": {},
   "outputs": [
    {
     "name": "stdout",
     "output_type": "stream",
     "text": [
      "0.01\n",
      "0.01\n",
      "0.01\n",
      "0.01\n",
      "0.1\n",
      "0.1\n",
      "0.1\n",
      "0.1\n",
      "1.0\n",
      "1.0\n",
      "1.0\n",
      "/1%_O2/0.25_Hz (3, 21)\n",
      "/1%_O2/0_Hz (3, 185)\n",
      "/1%_O2/1_Hz (3, 18)\n",
      "/1%_O2/4_Hz (3, 20)\n",
      "/10%_O2/0.25_Hz (3, 31)\n",
      "/10%_O2/0_Hz (3, 152)\n",
      "/10%_O2/1_Hz (3, 24)\n",
      "/10%_O2/5_Hz (3, 13)\n",
      "/100%_O2/0.5_Hz (3, 9)\n",
      "/100%_O2/0_Hz (3, 41)\n",
      "/100%_O2/8_Hz (3, 18)\n"
     ]
    }
   ],
   "source": [
    "hdf5_io.add_frxas_profile(f1, Po2[0], 0.25, np.array([Pos1_0_25Hz,Re1_0_25Hz,Im1_0_25Hz]))\n",
    "hdf5_io.add_frxas_profile(f1, Po2[0], 1, np.array([Pos1_1Hz,Re1_1Hz,Im1_1Hz]))\n",
    "hdf5_io.add_frxas_profile(f1, Po2[0], 4, np.array([Pos1_4Hz,Re1_4Hz,Im1_4Hz]))\n",
    "hdf5_io.add_frxas_profile(f1, Po2[0], 0, np.array([Pos1_DC,Re1_DC, Im1_DC]))\n",
    "\n",
    "hdf5_io.add_frxas_profile(f1, Po2[1], 0.25, np.array([Pos10_0_25Hz,Re10_0_25Hz,Im10_0_25Hz]))\n",
    "hdf5_io.add_frxas_profile(f1, Po2[1], 1, np.array([Pos10_1Hz,Re10_1Hz,Im10_1Hz]))\n",
    "hdf5_io.add_frxas_profile(f1, Po2[1], 5, np.array([Pos10_5Hz,Re10_5Hz,Im10_5Hz]))\n",
    "hdf5_io.add_frxas_profile(f1, Po2[1], 0, np.array([Pos10_DC,Re10_DC, Im10_DC]))\n",
    "\n",
    "hdf5_io.add_frxas_profile(f1, Po2[2], 0.5, np.array([Pos100_0_5Hz,Re100_0_5Hz,Im100_0_5Hz]))\n",
    "hdf5_io.add_frxas_profile(f1, Po2[2], 8, np.array([Pos100_8Hz,Re100_8Hz,Im100_8Hz]))\n",
    "hdf5_io.add_frxas_profile(f1, Po2[2], 0, np.array([Pos100_DC,Re100_DC, Im100_DC]))\n",
    "\n",
    "hdf5_io.print_data_shapes(f1)"
   ]
  },
  {
   "cell_type": "code",
   "execution_count": 14,
   "metadata": {},
   "outputs": [],
   "source": [
    "#Adding some exp conditions\n",
    "f1['1%_O2'].attrs['Gas'] = 0.01\n",
    "f1['1%_O2/0.25_Hz'].attrs['Start_Index'] = 4\n",
    "f1['1%_O2/1_Hz'].attrs['Start_Index'] = 2\n",
    "f1['1%_O2/4_Hz'].attrs['Start_Index'] = 2\n",
    "f1['1%_O2/0_Hz'].attrs['Start_Index'] = 0\n",
    "\n",
    "f1['10%_O2'].attrs['Gas'] = 0.10\n",
    "f1['10%_O2/0.25_Hz'].attrs['Start_Index'] = 4\n",
    "f1['10%_O2/1_Hz'].attrs['Start_Index'] = 6\n",
    "f1['10%_O2/5_Hz'].attrs['Start_Index'] = 0\n",
    "f1['10%_O2/0_Hz'].attrs['Start_Index'] = 0\n",
    "\n",
    "f1['100%_O2'].attrs['Gas'] = 1\n",
    "f1['100%_O2/0.5_Hz'].attrs['Start_Index'] = 1\n",
    "f1['100%_O2/8_Hz'].attrs['Start_Index'] = 2\n",
    "f1['100%_O2/0_Hz'].attrs['Start_Index'] = 0\n",
    "\n",
    "f1.close()"
   ]
  },
  {
   "cell_type": "code",
   "execution_count": 15,
   "metadata": {},
   "outputs": [
    {
     "name": "stdout",
     "output_type": "stream",
     "text": [
      "<KeysViewHDF5 ['1%_O2', '10%_O2', '100%_O2']>\n"
     ]
    }
   ],
   "source": [
    "f1 = hdf5_io.open_frxas_file('July18_frXAS')\n",
    "print(f1.keys())"
   ]
  },
  {
   "cell_type": "code",
   "execution_count": 16,
   "metadata": {},
   "outputs": [],
   "source": [
    "f1.close()"
   ]
  },
  {
   "cell_type": "code",
   "execution_count": null,
   "metadata": {},
   "outputs": [],
   "source": []
  }
 ],
 "metadata": {
  "kernelspec": {
   "display_name": "Python 3",
   "language": "python",
   "name": "python3"
  },
  "language_info": {
   "codemirror_mode": {
    "name": "ipython",
    "version": 3
   },
   "file_extension": ".py",
   "mimetype": "text/x-python",
   "name": "python",
   "nbconvert_exporter": "python",
   "pygments_lexer": "ipython3",
   "version": "3.6.10"
  }
 },
 "nbformat": 4,
 "nbformat_minor": 4
}
