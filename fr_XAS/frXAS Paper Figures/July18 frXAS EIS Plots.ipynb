{
 "cells": [
  {
   "cell_type": "code",
   "execution_count": 1,
   "metadata": {},
   "outputs": [],
   "source": [
    "import glob\n",
    "from os import path\n",
    "\n",
    "import numpy as np\n",
    "import pandas as pd\n",
    "import matplotlib as mpl\n",
    "import matplotlib.pyplot as plt\n",
    "import matplotlib.ticker as ticker\n",
    "import matplotlib.font_manager as font_manager\n",
    "\n",
    "from impedance.models.circuits import CustomCircuit\n",
    "from impedance.visualization import plot_nyquist, plot_bode, plot_residuals\n",
    "from impedance import preprocessing\n",
    "from impedance.models.circuits.elements import G\n",
    "\n",
    "%reload_ext autoreload\n",
    "%autoreload 2"
   ]
  },
  {
   "cell_type": "code",
   "execution_count": 2,
   "metadata": {},
   "outputs": [],
   "source": [
    "fpath=r'G:\\My Drive\\UW Research\\fr-XAS July 2018\\Data\\Versastat'\n",
    "\n",
    "file_str1=fpath+r'\\1% O2 EIS OCV.csv'\n",
    "if path.exists(file_str1):\n",
    "    data1=np.array(pd.read_csv(file_str1,delimiter=',',engine='python',usecols=[9,10,11,12,13,14,15,16],\n",
    "                        skip_blank_lines=True).dropna(how='all'))\n",
    "    labels=list('1% O2')\n",
    "\n",
    "file_str2=fpath+r'\\10% O2 EIS OCV.csv'\n",
    "if path.exists(file_str2):\n",
    "    data2=np.array(pd.read_csv(file_str2,delimiter=',',engine='python',usecols=[9,10,11,12,13,14,15,16],\n",
    "                        skip_blank_lines=True).dropna(how='all'))\n",
    "    labels.append('10% O2')\n",
    "\n",
    "file_str3=fpath+r'\\100% O2 EIS OCV.csv'\n",
    "if path.exists(file_str3):\n",
    "    data3=np.array(pd.read_csv(file_str3,delimiter=',',engine='python',usecols=[9,10,11,12,13,14,15,16],\n",
    "                        skip_blank_lines=True).dropna(how='all'))\n",
    "    labels.append('100% O2')\n"
   ]
  },
  {
   "cell_type": "code",
   "execution_count": 3,
   "metadata": {},
   "outputs": [
    {
     "data": {
      "text/plain": [
       "Text(299.5688, 203.4323, '8 Hz')"
      ]
     },
     "execution_count": 3,
     "metadata": {},
     "output_type": "execute_result"
    },
    {
     "data": {
      "image/png": "[encoded data removed]",
      "text/plain": [
       "<Figure size 720x720 with 1 Axes>"
      ]
     },
     "metadata": {
      "needs_background": "light"
     },
     "output_type": "display_data"
    }
   ],
   "source": [
    "fig=plt.figure(figsize=(10,10))\n",
    "\n",
    "# 1% O2 highlight points\n",
    "filled1=np.array([[data1[40,5],data1[45,5],data1[50,5]],\n",
    "                 [-data1[40,6],-data1[45,6],-data1[50,6]]]).T\n",
    "\n",
    "filled2=np.array([[data2[43,5],data2[50,5],data2[56,5]],\n",
    "                 [-data2[43,6],-data2[50,6],-data2[56,6]]]).T\n",
    "\n",
    "filled3=np.array([[data3[37,5],data3[48,5]],\n",
    "                 [-data3[37,6],-data3[48,6]]]).T\n",
    "\n",
    "\n",
    "ax1=fig.add_axes([.1, .1, .8, .4])\n",
    "ax1.plot(data1[:,5],-data1[:,6],color=(0,0,0),marker='o',mfc=(1,1,1),linestyle='',label='1% $O_2$')\n",
    "ax1.plot(data2[:,5],-data2[:,6],color=(1,0,0),marker='s',mfc=(1,1,1),linestyle='',label='10% $O_2$')\n",
    "ax1.plot(data3[:,5],-data3[:,6],color=(0,0,1),marker='^',mfc=(1,1,1),linestyle='',label='100% $O_2$')\n",
    "ax1.legend(loc=1)\n",
    "ax1.plot(filled1[:,0],filled1[:,1], color=(0,0,0),marker='o',mfc=(0,0,0),linestyle='',zorder=4)\n",
    "ax1.plot(filled2[:,0],filled2[:,1],color=(1,0,0),marker='s',mfc=(1,0,0),linestyle='',zorder=5)\n",
    "ax1.plot(filled3[:,0],filled3[:,1],color=(0,0,1),marker='^',mfc=(0,0,1),linestyle='',zorder=6)\n",
    "\n",
    "ax1.yaxis.set_major_locator(ticker.MultipleLocator(200))\n",
    "ax1.set(xlim=[0,1600],ylim=[0, 800])\n",
    "\n",
    "\n",
    "# title_font = {'fontname':'Arial', 'size':'16', 'color':'black', 'weight':'normal'}\n",
    "title_font = {'family':'Arial', 'size':'24', 'weight':'normal'}\n",
    "mpl.rc('font',**title_font)\n",
    "ax1.set_ylabel(r'$-Z_{Im}$  /  $\\Omega$')#,**title_font)\n",
    "ax1.set_xlabel(r'$Z_{Re}$  /  $\\Omega$')#,**title_font)\n",
    "ax1.legend(loc=1,borderpad=0, handletextpad=0)\n",
    "\n",
    "ax1.annotate('0.25 Hz', xy=(filled1[2,0],filled1[2,1]), xytext=(filled1[2,0]+20,filled1[2,1]+20),\n",
    "            ha='center', va='bottom')\n",
    "ax1.annotate('1 Hz', xy=(filled1[1,0],filled1[1,1]), xytext=(filled1[1,0]+10,filled1[1,1]+10),\n",
    "            ha='right', va='bottom')\n",
    "ax1.annotate('4 Hz', xy=(filled1[0,0],filled1[0,1]), xytext=(filled1[0,0]-30,filled1[0,1]+15),\n",
    "            ha='right', va='bottom')\n",
    "\n",
    "ax1.annotate('0.25 Hz', xy=(filled2[2,0],filled2[2,1]),color='red', xytext=(filled2[2,0],filled2[2,1]-25),\n",
    "            ha='right', va='top')\n",
    "ax1.annotate('1 Hz', xy=(filled2[1,0],filled2[1,1]),color='red', xytext=(filled2[1,0]+20,filled2[1,1]-25),\n",
    "            ha='right', va='top')\n",
    "ax1.annotate('5 Hz', xy=(filled2[0,0],filled2[0,1]),color='red', xytext=(filled2[0,0]-30,filled2[0,1]+60),\n",
    "            ha='right', va='bottom')\n",
    "\n",
    "ax1.annotate('0.5 Hz', xy=(filled3[1,0],filled3[1,1]),color='blue', xytext=(filled3[1,0]-30,filled3[1,1]-15),\n",
    "            ha='right', va='center')\n",
    "ax1.annotate('8 Hz', xy=(filled3[0,0],filled3[0,1]),color='blue', xytext=(filled3[0,0]+10,filled3[0,1]-30),\n",
    "            ha='left', va='top')\n",
    "\n",
    "\n",
    "# plt.show()\n",
    "# plt.savefig('EIS for fr-XAS.png',dpi=400,format='png',bbox_inches='tight')"
   ]
  },
  {
   "cell_type": "markdown",
   "metadata": {},
   "source": [
    "## Read in and plot measured EIS"
   ]
  },
  {
   "cell_type": "code",
   "execution_count": 13,
   "metadata": {},
   "outputs": [],
   "source": [
    "data_dir = 'C:\\\\Users\\shadd\\OneDrive\\Documents\\Python\\EIS\\Data'\n",
    "file_str1 = data_dir + '\\LSC_DPB1_FRXAS_700C_1%_EIS_OCV_before2.par'\n",
    "file_str10 = data_dir + '\\LSC_DPB1_FRXAS_700C_10%_EIS_OCV_after.par'\n",
    "file_str100 = data_dir + '\\LSC_DPB1_FRXAS_700C_100%_EIS_OCV_before2.par'\n",
    "\n",
    "f_1, Z_1 = preprocessing.readVersaStudio(file_str1)\n",
    "f_10, Z_10 = preprocessing.readVersaStudio(file_str10)\n",
    "f_100, Z_100 = preprocessing.readVersaStudio(file_str100)\n",
    "\n",
    "# Cuts off high frequency arc and subtracts real part of \"intercept\"\n",
    "f_1, Z_1 = f_1[19:], Z_1[19:] - Z_1[19].real\n",
    "f_10, Z_10 = f_10[20:], Z_10[20:] - Z_10[20].real\n",
    "f_100, Z_100 = f_100[19:], Z_100[19:] - Z_100[19].real\n",
    "\n",
    "fname_w_Zg = r'C:\\\\Users\\\\shadd\\\\OneDrive\\\\Documents\\\\Python\\\\Xray-project\\\\fr_XAS\\\\frXAS Paper Figures\\\\Plots\\\\EIS\\\\NoHF_EIS_with_Zg_3.svg'\n",
    "fname_w_par = r'C:\\\\Users\\\\shadd\\\\OneDrive\\\\Documents\\\\Python\\\\Xray-project\\\\fr_XAS\\\\frXAS Paper Figures\\\\Plots\\\\EIS\\\\NoHF_EIS_with_parallel_2.svg'\n",
    "\n",
    "fs_list = [f_1, f_10, f_100]\n",
    "Zs_list = [Z_1, Z_10, Z_100]"
   ]
  },
  {
   "cell_type": "code",
   "execution_count": 5,
   "metadata": {},
   "outputs": [],
   "source": [
    "Rg_1 = 6169\n",
    "Rg_1_KM = 4872\n",
    "tg_1 = 3.26\n",
    "\n",
    "Rg_10 = 5113\n",
    "Rg_10_KM = 3898\n",
    "tg_10 = 1.17\n",
    "\n",
    "Rg_100 = 4182\n",
    "Rg_100_KM = 3092\n",
    "tg_100 = 0.1439\n",
    "\n",
    "Rgs = [Rg_1, Rg_10, Rg_100]\n",
    "tgs = [tg_1, tg_10, tg_100]\n",
    "\n",
    "Zgs = []\n",
    "for (Rg, tg, f) in zip(Rgs, tgs, fs_list):\n",
    "    Zg = G([Rg, tg], f)\n",
    "    Zgs.append(Zg)"
   ]
  },
  {
   "cell_type": "code",
   "execution_count": 6,
   "metadata": {},
   "outputs": [],
   "source": [
    "title_font = {'family':'Arial', 'size':'8', 'weight':'normal'}\n",
    "mpl.rc('font', **title_font)"
   ]
  },
  {
   "cell_type": "code",
   "execution_count": 12,
   "metadata": {},
   "outputs": [
    {
     "name": "stdout",
     "output_type": "stream",
     "text": [
      "0.010 bar 0.07742637\n",
      "0.10 bar 0.2511886\n",
      "1.0 bar 2.154435\n"
     ]
    },
    {
     "data": {
      "image/png": "[encoded data removed]",
      "text/plain": [
       "<Figure size 259.488x288 with 1 Axes>"
      ]
     },
     "metadata": {
      "needs_background": "light"
     },
     "output_type": "display_data"
    }
   ],
   "source": [
    "line_freqs = [1, .1]\n",
    "# labels = ['$1\\% \\; O_2$', '$10\\% \\; O_2$', '$100\\% \\; O_2$']\n",
    "labels = ['0.010 bar', '0.10 bar', '1.0 bar']\n",
    "\n",
    "# line_dict = {}\n",
    "# for line_freq in line_freqs:\n",
    "#     line_pts = equal_freq_line(line_freq, fs_list*2, Zgs + Zs_list)\n",
    "# #     line_pts.sort(key=lambda x: x.real)\n",
    "#     line_dict[str(line_freq)] = line_pts\n",
    "\n",
    "_, ax = plt.subplots(figsize=(3.604,4))\n",
    "colors = [(0, 0, 0), (1, 0, 0), (0, 0, 1)]\n",
    "markers = ['o', 's', '^']\n",
    "\n",
    "for i, Zs in enumerate(Zs_list):\n",
    "#     plot_nyquist(ax, Zs, c=colors[i], label=labels[i], fmt=markers[i], mfc=(1,1,1))\n",
    "    plot_nyquist(ax, Zgs[i], c=colors[i], fmt='-', lw=0.8)\n",
    "    plot_nyquist(ax, Zgs[i][np.argmin(Zgs[i].imag)], c=colors[i], fmt='X', ms=3)\n",
    "    print(f'{labels[i]} {fs_list[i][np.argmin(Zgs[i].imag)]}')\n",
    "#     for line_freq in line_freqs:\n",
    "#         plot_nyquist(ax, line_dict[str(line_freq)][i], c=colors[i], ms=8, fmt='x', units ='\\Omega')\n",
    "#         plot_nyquist(ax, line_dict[str(line_freq)][i+3], c=colors[i], fmt=markers[i], units ='\\Omega')\n",
    "\n",
    "for i, Zs in enumerate(Zs_list):\n",
    "    plot_nyquist(ax, Zs, c=colors[i], label=labels[i], fmt=markers[i], mfc=(1,1,1), ms=3, mew=.6)\n",
    "    plot_nyquist(ax, Zs[np.argmin(Zs.imag)], c=colors[i], fmt=markers[i], ms=3)\n",
    "#     plot_nyquist(ax, Zgs[i], c=colors[i], fmt='-')\n",
    "#     for line_freq in line_freqs:\n",
    "#         plot_nyquist(ax, line_dict[str(line_freq)][i], c=colors[i], ms=8, fmt='x', units ='\\Omega')\n",
    "#         plot_nyquist(ax, line_dict[str(line_freq)][i+3], c=colors[i], fmt=markers[i], units ='\\Omega') \n",
    "\n",
    "ax.tick_params(axis='both', which='major', labelsize=8)\n",
    "ax.set_xlabel('Re[Z] ($\\Omega$)', **title_font)\n",
    "ax.set_ylabel('-Im[Z] ($\\Omega$)', **title_font)\n",
    "# ax.yaxis.set_major_formatter(mpl.ticker.FormatStrFormatter('%.2f'))\n",
    "ax.grid(b=False)\n",
    "\n",
    "# ax.set_ylabel('-Im[Z] ($\\Omega$)')\n",
    "# ax.set_xlabel('Re[Z] ($\\Omega$)')\n",
    "ax.set_ylim(0, 3000)\n",
    "ax.set_xlim(0, 6000)\n",
    "ax.legend(title='pO$_2$', prop=title_font, handletextpad=0)\n",
    "plt.savefig(fname_w_Zg, bbox_inches='tight', dpi=400)\n",
    "plt.show()"
   ]
  },
  {
   "cell_type": "markdown",
   "metadata": {},
   "source": [
    "## Predict Impedance from Zg with all parallel pathways"
   ]
  },
  {
   "cell_type": "code",
   "execution_count": 14,
   "metadata": {},
   "outputs": [],
   "source": [
    "# Some geometry calculations\n",
    "A_NH = np.pi * (0.65**2)\n",
    "L_NH = 450e-7\n",
    "A_gate = 1.04345 * 4.478e-4\n",
    "A_patt = .35**2 - A_gate #0.110 - A_gate  #0.117\n",
    "L_LSC = 600e-7\n",
    "L_patt = 280e-7\n",
    "\n",
    "# Correction factor for patterned geometry to NH geometry\n",
    "geom_corr = A_NH/A_patt*L_patt/L_NH"
   ]
  },
  {
   "cell_type": "code",
   "execution_count": 15,
   "metadata": {},
   "outputs": [],
   "source": [
    "def C_chem_gen(Ao, xvo):\n",
    "    F = 96485\n",
    "    R = 8.314\n",
    "    T = 973\n",
    "    co = 3 / 35.914\n",
    "    \n",
    "    return 4 * F**2 * co * xvo / (Ao * R * T)\n",
    "\n",
    "def C_chem_mizu(delta):\n",
    "    d = delta\n",
    "    F = 96485\n",
    "    R = 8.314\n",
    "    T = 973\n",
    "    Vm = 35.914\n",
    "    a = 299000\n",
    "    \n",
    "    return 4 * F**2 / (Vm * (a + 3 * R * T / (d * (3 - d))))\n",
    "\n",
    "# Ignore this one for now\n",
    "def C_chem_mix(delta):\n",
    "    d = delta\n",
    "    F = 96485\n",
    "    R = 8.314\n",
    "    T = 973\n",
    "    Vm = 35.914\n",
    "    \n",
    "    cfit = 228000\n",
    "    \n",
    "    return 4 * F**2 / (Vm * (cfit + R * T / d))\n",
    "\n",
    "def ASR(Ao, xvo, tg):\n",
    "    F = 96485\n",
    "    R = 8.314\n",
    "    T = 973\n",
    "    co = 3 / 35.914\n",
    "    L = 600e-7\n",
    "    return R * T / (4 * F**2) * Ao * tg / (co * xvo * L) "
   ]
  },
  {
   "cell_type": "code",
   "execution_count": 16,
   "metadata": {},
   "outputs": [],
   "source": [
    "# Constructing lists of Po2, Ao, delta for mixed bulk models using data arrays and \n",
    "# interpolating for Ao if Po2's don't match exactly\n",
    "\n",
    "MB_delta = np.genfromtxt(r'G:\\\\My Drive\\\\UW Research\\\\fr-XAS July 2018\\\\Discussions\\\\Mixed_Bulk_Nonstoich.csv', delimiter=',')\n",
    "MB_Ao = np.genfromtxt(r'G:\\\\My Drive\\\\UW Research\\\\fr-XAS July 2018\\\\Discussions\\\\Mixed_Bulk_Thermo.csv', delimiter=',')\n",
    "\n",
    "MB_delta = MB_delta[np.argsort(MB_delta[:,0])]\n",
    "MB_Ao = MB_Ao[np.argsort(MB_Ao[:,0])]\n",
    "\n",
    "MB_vals = []\n",
    "\n",
    "for delta in MB_delta:\n",
    "    try:\n",
    "        ao = MB_Ao[np.argwhere(np.isclose(MB_Ao[:,0], delta[0]))[0,0]][-1]\n",
    "#         print(f'Match Po2: {ao[0]:.2f}, Ao: {ao[1]:.3f}, delta: {delta:.4f}')\n",
    "        MB_vals.append([delta[0], ao, delta[1]])\n",
    "    except IndexError:\n",
    "        ao = np.interp(delta[0], MB_Ao[:,0], MB_Ao[:,1])\n",
    "#         print(f'Interp Po2: {ao[0]:.2f}, Ao: {ao[1]:.3f}, delta: {delta:.4f}')\n",
    "        MB_vals.append([delta[0], ao, delta[1]])\n",
    "\n",
    "MB_vals = np.array(MB_vals)"
   ]
  },
  {
   "cell_type": "markdown",
   "metadata": {},
   "source": [
    "### Use Mixed Bulk Thermo with C_chem_gen and ASR functions to predict extensive values at each Po2"
   ]
  },
  {
   "cell_type": "code",
   "execution_count": 17,
   "metadata": {},
   "outputs": [],
   "source": [
    "epi = 11\n",
    "rho_1 = 6.90e6  #8.16e6\n",
    "rho_10 = 5.31e6 #6.27e6\n",
    "rho_100 = 4.28e6 #3.05e6\n",
    "\n",
    "A_patt = 0.110 - A_gate # .35**2 - A_gate"
   ]
  },
  {
   "cell_type": "code",
   "execution_count": 18,
   "metadata": {},
   "outputs": [
    {
     "name": "stdout",
     "output_type": "stream",
     "text": [
      "2.689352176212296 0.02008144378178679\n",
      "Mask:  3.809939993038378e-09 1763.8561269414474 6.720185999999999e-06\n",
      "Film:  0.018869338707107434 172.76705085441438 3.26\n",
      "Gate:  8.049491548643015e-05 40499.45242255172 3.26\n"
     ]
    }
   ],
   "source": [
    "vals1 = MB_vals[np.isclose(MB_vals[:,0], -2)][0]\n",
    "Ao1 = vals1[1] #2.689 #\n",
    "xvo1 = vals1[2]/3 #0.1989 #\n",
    "print(Ao1, xvo1)\n",
    "\n",
    "C_mask1 = epi*8.854e-12/100 * A_patt / L_patt\n",
    "R_mask1 = rho_1 * L_patt / A_patt\n",
    "t_mask1 = R_mask1 * C_mask1\n",
    "print('Mask: ', C_mask1, R_mask1, t_mask1)\n",
    "C_film1 = C_chem_gen(Ao1, xvo1) * A_patt * L_LSC\n",
    "R_film1 = ASR(Ao1, xvo1, tg_1) / A_patt\n",
    "t_film1 = R_film1 * C_film1\n",
    "print('Film: ', C_film1, R_film1, t_film1)\n",
    "C_gate1 = C_chem_gen(Ao1, xvo1) * A_gate * L_LSC\n",
    "R_gate1 = ASR(Ao1, xvo1, tg_1) / A_gate\n",
    "t_gate1 = R_gate1 * C_gate1\n",
    "print('Gate: ', C_gate1, R_gate1, t_gate1)"
   ]
  },
  {
   "cell_type": "code",
   "execution_count": 19,
   "metadata": {},
   "outputs": [
    {
     "name": "stdout",
     "output_type": "stream",
     "text": [
      "2.088116233657357 0.013103655781516352\n",
      "Mask:  3.809939993038378e-09 1357.4023237766794 5.1716214e-06\n",
      "Film:  0.015857956804199855 73.77999665695486 1.17\n",
      "Gate:  6.764862895066474e-05 17295.250741197804 1.1699999999999997\n"
     ]
    }
   ],
   "source": [
    "vals10 = MB_vals[np.isclose(MB_vals[:,0], -1)][0]\n",
    "Ao10 = vals10[1] #2.088 #\n",
    "xvo10 = vals10[2]/3 #0.01295 #\n",
    "print(Ao10, xvo10)\n",
    "\n",
    "C_mask10 = epi*8.854e-12/100 * A_patt / L_patt\n",
    "R_mask10 = rho_10 * L_patt / A_patt\n",
    "t_mask10 = R_mask10 * C_mask10\n",
    "print('Mask: ', C_mask10, R_mask10, t_mask10)\n",
    "C_film10 = C_chem_gen(Ao10, xvo10) * A_patt * L_LSC\n",
    "R_film10 = ASR(Ao10, xvo10, tg_10) / A_patt\n",
    "t_film10 = R_film10 * C_film10\n",
    "print('Film: ', C_film10, R_film10, t_film10)\n",
    "C_gate10 = C_chem_gen(Ao10, xvo10) * A_gate * L_LSC\n",
    "R_gate10 = ASR(Ao10, xvo10, tg_10) / A_gate\n",
    "t_gate10 = R_gate10 * C_gate10\n",
    "print('Gate: ', C_gate10, R_gate10, t_gate10)"
   ]
  },
  {
   "cell_type": "code",
   "execution_count": 20,
   "metadata": {},
   "outputs": [
    {
     "name": "stdout",
     "output_type": "stream",
     "text": [
      "1.6731977959523796 0.00753284315341977\n",
      "Mask: Capacitance  3.809939993038378e-09 1094.1020613491878 4.1684631999999995e-06\n",
      "Film:  0.011376824667953112 12.648520496702893 0.14390000000000003\n",
      "Gate:  4.85325190440234e-05 2965.0222744356142 0.14390000000000003\n"
     ]
    }
   ],
   "source": [
    "vals100 = MB_vals[np.isclose(MB_vals[:,0], 0)][0]\n",
    "Ao100 = vals100[1] #1.644 #\n",
    "xvo100 = vals100[2]/3 #0.007246 #\n",
    "print(Ao100, xvo100)\n",
    "\n",
    "C_mask100 = epi*8.854e-12/100 * A_patt / L_patt\n",
    "R_mask100 = rho_100 * L_patt / A_patt\n",
    "t_mask100 = R_mask100 * C_mask100\n",
    "print(f'Mask: Capacitance ', C_mask100, R_mask100, t_mask100)\n",
    "C_film100 = C_chem_gen(Ao100, xvo100) * A_patt * L_LSC\n",
    "R_film100 = ASR(Ao100, xvo100, tg_100) / A_patt\n",
    "t_film100 = R_film100 * C_film100\n",
    "print('Film: ', C_film100, R_film100, t_film100)\n",
    "C_gate100 = C_chem_gen(Ao100, xvo100) * A_gate * L_LSC\n",
    "R_gate100 = ASR(Ao100, xvo100, tg_100) / A_gate\n",
    "t_gate100 = R_gate100 * C_gate100\n",
    "print('Gate: ', C_gate100, R_gate100, t_gate100)"
   ]
  },
  {
   "cell_type": "code",
   "execution_count": 21,
   "metadata": {},
   "outputs": [
    {
     "name": "stdout",
     "output_type": "stream",
     "text": [
      "Simulating circuit based on initial parameters\n",
      "Simulating circuit based on initial parameters\n",
      "Simulating circuit based on initial parameters\n"
     ]
    }
   ],
   "source": [
    "R_ohm_fudge = 1e-5\n",
    "R_ohm1 = Z_1.real[0] + R_ohm_fudge\n",
    "\n",
    "vals = [R_ohm1, R_mask1, C_mask1, R_film1, C_film1, R_gate1, C_gate1, Rg_1, tg_1]\n",
    "circ_Zg_G_MF_1 = CustomCircuit(circuit='R0-p(p(R1,C1)-p(R2,C2),p(R3,C3),G1)', initial_guess=vals)\n",
    "Z_circ_Zg_G_MF_1 = circ_Zg_G_MF_1.predict(f_1)\n",
    "\n",
    "R_ohm10 = Z_10.real[0] + R_ohm_fudge\n",
    "\n",
    "vals = [R_ohm10, R_mask10, C_mask10, R_film10, C_film10, R_gate10, C_gate10, Rg_10, tg_10]\n",
    "circ_Zg_G_MF_10 = CustomCircuit(circuit='R0-p(p(R1,C1)-p(R2,C2),p(R3,C3),G1)', initial_guess=vals)\n",
    "Z_circ_Zg_G_MF_10 = circ_Zg_G_MF_10.predict(f_10)\n",
    "\n",
    "R_ohm100 = Z_100.real[0] + R_ohm_fudge\n",
    "\n",
    "vals = [R_ohm100, R_mask100, C_mask100, R_film100, C_film100, R_gate100, C_gate100, Rg_100, tg_100]\n",
    "circ_Zg_G_MF_100 = CustomCircuit(circuit='R0-p(p(R1,C1)-p(R2,C2),p(R3,C3),G1)', initial_guess=vals)\n",
    "Z_circ_Zg_G_MF_100 = circ_Zg_G_MF_100.predict(f_100)\n",
    "\n",
    "Z_circ_Zg_G_MFs = [Z_circ_Zg_G_MF_1, Z_circ_Zg_G_MF_10, Z_circ_Zg_G_MF_100]"
   ]
  },
  {
   "cell_type": "code",
   "execution_count": 22,
   "metadata": {},
   "outputs": [
    {
     "name": "stdout",
     "output_type": "stream",
     "text": [
      "0.010 bar 0.4641589\n",
      "0.10 bar 1.258925\n",
      "1.0 bar 4.641589\n"
     ]
    },
    {
     "data": {
      "image/png": "[encoded data removed]",
      "text/plain": [
       "<Figure size 259.488x288 with 1 Axes>"
      ]
     },
     "metadata": {
      "needs_background": "light"
     },
     "output_type": "display_data"
    }
   ],
   "source": [
    "_, ax = plt.subplots(figsize=(3.604,4))\n",
    "colors = [(0, 0, 0), (1,0,0), (0,0,1)]\n",
    "markers = ['o', 's', '^']\n",
    "\n",
    "\n",
    "for i, Zs in enumerate(Zs_list):\n",
    "    plot_nyquist(ax, Zs, c=colors[i], label=labels[i], fmt=markers[i], mfc=(1,1,1), ms=3, mew=0.6)\n",
    "    plot_nyquist(ax, Zs[np.argmin(Zs.imag)], c=colors[i], fmt=markers[i], ms=3)\n",
    "    plot_nyquist(ax, Z_circ_Zg_G_MFs[i], c=colors[i], fmt='-.', lw=0.8)\n",
    "    plot_nyquist(ax, Z_circ_Zg_G_MFs[i][np.argmin(Zs.imag)], c=colors[i], fmt='X', ms=3)\n",
    "    print(f'{labels[i]} {fs_list[i][np.argmin(Zs.imag)]}')\n",
    "\n",
    "\n",
    "ax.tick_params(axis='both', which='major', labelsize=8)\n",
    "ax.set_xlabel('Re[Z] ($\\Omega$)', **title_font)\n",
    "ax.set_ylabel('-Im[Z] ($\\Omega$)', **title_font)\n",
    "ax.grid(b=False)\n",
    "    \n",
    "ax.set_ylim(0, 600)\n",
    "ax.set_xlim(0, 1500)\n",
    "ax.legend(title='pO$_2$', prop=title_font, handletextpad=0)\n",
    "plt.savefig(fname_w_par, bbox_inches='tight', dpi=400)\n",
    "plt.show()"
   ]
  },
  {
   "cell_type": "code",
   "execution_count": null,
   "metadata": {},
   "outputs": [],
   "source": []
  }
 ],
 "metadata": {
  "kernelspec": {
   "display_name": "Python 3",
   "language": "python",
   "name": "python3"
  },
  "language_info": {
   "codemirror_mode": {
    "name": "ipython",
    "version": 3
   },
   "file_extension": ".py",
   "mimetype": "text/x-python",
   "name": "python",
   "nbconvert_exporter": "python",
   "pygments_lexer": "ipython3",
   "version": "3.7.7"
  }
 },
 "nbformat": 4,
 "nbformat_minor": 4
}
