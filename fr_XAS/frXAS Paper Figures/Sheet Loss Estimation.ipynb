{
 "cells": [
  {
   "cell_type": "code",
   "execution_count": 1,
   "metadata": {},
   "outputs": [],
   "source": [
    "import numpy as np\n",
    "import matplotlib.pyplot as plt"
   ]
  },
  {
   "cell_type": "code",
   "execution_count": 2,
   "metadata": {},
   "outputs": [],
   "source": [
    "def resistance(rho, L, W, y):\n",
    "    \"\"\"\n",
    "    rho: float\n",
    "        resitivity in ohm*cm\n",
    "    L: float\n",
    "        film thickness in cm\n",
    "    W: float\n",
    "        sample width in cm\n",
    "    y: float\n",
    "        distance from current collector in cm\n",
    "    \"\"\"\n",
    "    return rho * y / (L * W)\n",
    "\n",
    "def voltage(Vo, i, rho, L, W, y):\n",
    "    \"\"\"\n",
    "    Vo: float\n",
    "        applied voltage at current collector in V\n",
    "    i: float\n",
    "        measured current across cell in A\n",
    "    rho: float\n",
    "        resitivity in ohm*cm\n",
    "    L: float\n",
    "        film thickness in cm\n",
    "    W: float\n",
    "        sample width in cm\n",
    "    y: float\n",
    "        distance from current collector in cm\n",
    "    \"\"\"\n",
    "    return Vo - i * resistance(rho, L, W, y)"
   ]
  },
  {
   "cell_type": "code",
   "execution_count": 3,
   "metadata": {},
   "outputs": [
    {
     "data": {
      "image/png": "[encoded data removed]",
      "text/plain": [
       "<Figure size 432x288 with 1 Axes>"
      ]
     },
     "metadata": {
      "needs_background": "light"
     },
     "output_type": "display_data"
    }
   ],
   "source": [
    "y = np.linspace(0, 3.5, num=100)\n",
    "Vo = .150\n",
    "L = 600e-7\n",
    "W = 0.4\n",
    "\n",
    "rho_1 = 5.71e-4\n",
    "rho_10 = 5.1948e-4\n",
    "rho_100 = 4.739e-4\n",
    "i_1 = 1.72e-4\n",
    "i_10 = 2.629e-4\n",
    "i_100 =3.3136e-4\n",
    "\n",
    "_, ax = plt.subplots()\n",
    "ax.plot(y, voltage(Vo, i_1, rho_1, L, W, y)*1e3, label=r'$1\\%\\, O_2$')\n",
    "ax.plot(y, voltage(Vo, i_10, rho_10, L, W, y)*1e3, label=r'$10\\%\\, O_2$')\n",
    "ax.plot(y, voltage(Vo, i_100, rho_100, L, W, y)*1e3, label=r'$100\\%\\, O_2$')\n",
    "ax.set_ylabel('Voltage (mV)')\n",
    "ax.set_xlabel('Distance from CC (cm)')\n",
    "ax.legend()\n",
    "plt.show()"
   ]
  },
  {
   "cell_type": "code",
   "execution_count": 4,
   "metadata": {},
   "outputs": [
    {
     "name": "stdout",
     "output_type": "stream",
     "text": [
      "Voltage drop across cell at 1% O2 is -14.323 mV\n",
      "Voltage drop across cell at 1% O2 is -19.917 mV\n",
      "Voltage drop across cell at 1% O2 is -22.900 mV\n"
     ]
    }
   ],
   "source": [
    "Vd_1 = voltage(Vo, i_1, rho_1, L, W, y[-1]) - voltage(Vo, i_1, rho_1, L, W, y[0])\n",
    "Vd_10 = voltage(Vo, i_10, rho_10, L, W, y[-1]) - voltage(Vo, i_10, rho_10, L, W, y[0])\n",
    "Vd_100 = voltage(Vo, i_100, rho_100, L, W, y[-1]) - voltage(Vo, i_100, rho_100, L, W, y[0])\n",
    "print(f\"Voltage drop across cell at 1% O2 is {Vd_1*1e3: .3f} mV\")\n",
    "print(f\"Voltage drop across cell at 1% O2 is {Vd_10*1e3: .3f} mV\")\n",
    "print(f\"Voltage drop across cell at 1% O2 is {Vd_100*1e3: .3f} mV\")"
   ]
  },
  {
   "cell_type": "markdown",
   "metadata": {},
   "source": [
    "## Tacking on the electrolyte resistance "
   ]
  },
  {
   "cell_type": "code",
   "execution_count": 12,
   "metadata": {},
   "outputs": [
    {
     "data": {
      "text/plain": [
       "54.85035502880624"
      ]
     },
     "execution_count": 12,
     "metadata": {},
     "output_type": "execute_result"
    }
   ],
   "source": [
    ".3/.16/np.exp(-3.376)"
   ]
  }
 ],
 "metadata": {
  "kernelspec": {
   "display_name": "Python 3",
   "language": "python",
   "name": "python3"
  },
  "language_info": {
   "codemirror_mode": {
    "name": "ipython",
    "version": 3
   },
   "file_extension": ".py",
   "mimetype": "text/x-python",
   "name": "python",
   "nbconvert_exporter": "python",
   "pygments_lexer": "ipython3",
   "version": "3.7.7"
  }
 },
 "nbformat": 4,
 "nbformat_minor": 4
}
