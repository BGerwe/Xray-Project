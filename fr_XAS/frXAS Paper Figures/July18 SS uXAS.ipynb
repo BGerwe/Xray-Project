{
 "cells": [
  {
   "cell_type": "code",
   "execution_count": 1,
   "metadata": {},
   "outputs": [],
   "source": [
    "import numpy as np\n",
    "import pandas as pd\n",
    "import matplotlib.pyplot as plt\n",
    "import matplotlib as mpl"
   ]
  },
  {
   "cell_type": "code",
   "execution_count": 2,
   "metadata": {},
   "outputs": [],
   "source": [
    "direc = 'G:\\\\My Drive\\\\UW Research\\\\fr-XAS July 2018\\\\Data\\\\XANES+Line Scans\\\\1% O2'\n",
    "\n",
    "dc_1_n150 = pd.read_csv(direc + '\\\\1%_n150mV.txt', sep='\\t')\n",
    "drop_inds = list(range(263, 283))\n",
    "dc_1_n150 = dc_1_n150.drop(drop_inds)\n",
    "\n",
    "\n",
    "direc = 'G:\\\\My Drive\\\\UW Research\\\\fr-XAS July 2018\\\\Data\\\\XANES+Line Scans\\\\10% O2'\n",
    "\n",
    "dc_10_n150 = pd.read_csv(direc + '\\\\10%_n150mV.txt', sep='\\t')\n",
    "drop_inds = list(range(216, 229))\n",
    "dc_10_n150 = dc_10_n150.drop(drop_inds)\n",
    "\n",
    " \n",
    "direc = 'G:\\\\My Drive\\\\UW Research\\\\fr-XAS July 2018\\\\Data\\\\XANES+Line Scans\\\\100% O2'\n",
    "\n",
    "dc_100_n150 = pd.read_csv(direc + '\\\\100%_n150mV.txt', sep='\\t')\n",
    "drop_inds = list(range(174, 185))\n",
    "dc_100_n150 = dc_100_n150.drop(drop_inds)"
   ]
  },
  {
   "cell_type": "code",
   "execution_count": 6,
   "metadata": {},
   "outputs": [
    {
     "data": {
      "image/png": "[encoded data removed]",
      "text/plain": [
       "<Figure size 252x198 with 1 Axes>"
      ]
     },
     "metadata": {
      "needs_background": "light"
     },
     "output_type": "display_data"
    }
   ],
   "source": [
    "fig, ax = plt.subplots(figsize=(3.5, 2.75))\n",
    "ms = 3\n",
    "ls = ''\n",
    "colors = ['b', 'k', 'r']\n",
    "markers = ['s', 'x', '^']\n",
    "labels = ['0.010', '0.10', '1.0']\n",
    "st_ind = 150\n",
    "\n",
    "for i, df in enumerate([dc_10_n150]):\n",
    "    z0 = df.z[st_ind]\n",
    "    df = df[st_ind:]\n",
    "    ax.plot(df.z - z0, df.bias*10, c=colors[i],\n",
    "            marker=markers[i], ls=ls, ms=ms, label=f'{labels[i]} bar')\n",
    "    ax.plot(df.z - z0, df.ocv*10, c=colors[i+1],\n",
    "            marker=markers[i+1], ls=ls, ms=ms)\n",
    "    \n",
    "\n",
    "ax.set_ylabel(r'$\\mu$(E) (a.u.)')\n",
    "ax.set_xlabel('Position ($\\mu$m)')\n",
    "ax.set_xlim(0, 110)\n",
    "\n",
    "ax.yaxis.set_major_locator(plt.MaxNLocator(8))\n",
    "ax.yaxis.set_major_formatter(mpl.ticker.FormatStrFormatter('%.2f'))\n",
    "# ax.set_ylim(.995, 1.082)\n",
    "# ax.legend(title='pO$_2$')\n",
    "plt.savefig(r'Plots/Profiles/SS_uXAS_pO2-0_01_n150_20210605.svg',\n",
    "           bbox_inches='tight')\n",
    "plt.show()"
   ]
  },
  {
   "cell_type": "markdown",
   "metadata": {},
   "source": [
    "## "
   ]
  },
  {
   "cell_type": "code",
   "execution_count": null,
   "metadata": {},
   "outputs": [],
   "source": []
  }
 ],
 "metadata": {
  "kernelspec": {
   "display_name": "Python 3",
   "language": "python",
   "name": "python3"
  },
  "language_info": {
   "codemirror_mode": {
    "name": "ipython",
    "version": 3
   },
   "file_extension": ".py",
   "mimetype": "text/x-python",
   "name": "python",
   "nbconvert_exporter": "python",
   "pygments_lexer": "ipython3",
   "version": "3.7.7"
  }
 },
 "nbformat": 4,
 "nbformat_minor": 4
}
