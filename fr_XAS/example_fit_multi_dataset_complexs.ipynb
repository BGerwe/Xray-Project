{
 "cells": [
  {
   "cell_type": "code",
   "execution_count": 1,
   "metadata": {
    "collapsed": false,
    "jupyter": {
     "outputs_hidden": false
    }
   },
   "outputs": [],
   "source": [
    "%matplotlib inline"
   ]
  },
  {
   "cell_type": "markdown",
   "metadata": {},
   "source": [
    "\n",
    "Fit Multiple Data Sets\n",
    "======================\n",
    "\n",
    "Fitting multiple (simulated) Gaussian data sets simultaneously.\n",
    "\n",
    "All minimizers require the residual array to be one-dimensional. Therefore, in\n",
    "the ``objective`` we need to ```flatten``` the array before returning it.\n",
    "\n",
    "TODO: this should be using the Model interface / built-in models!\n"
   ]
  },
  {
   "cell_type": "code",
   "execution_count": 1,
   "metadata": {},
   "outputs": [],
   "source": [
    "import matplotlib.pyplot as plt\n",
    "import numpy as np\n",
    "\n",
    "import lmfit\n",
    "from lmfit import Parameters, minimize, report_fit"
   ]
  },
  {
   "cell_type": "code",
   "execution_count": 103,
   "metadata": {
    "collapsed": false,
    "jupyter": {
     "outputs_hidden": false
    }
   },
   "outputs": [],
   "source": [
    "def chi(x, ld, tg, f):\n",
    "    \"\"\"Gaussian lineshape.\"\"\"\n",
    "    return np.exp(-x / ld * np.sqrt(1 +  1j * tg * 2 * np.pi * f))\n",
    "\n",
    "\n",
    "def chi_dataset(params, i, x):\n",
    "    \"\"\"Calculate Gaussian lineshape from parameters for data set.\"\"\"\n",
    "    ld = params['ld_%i' % (i+1)]\n",
    "    tg = params['tg_%i' % (i+1)]\n",
    "    f = params['f_%i' % (i+1)]\n",
    "    return chi(x, ld, tg, f)\n",
    "\n",
    "\n",
    "def objective_single(params, x, data):\n",
    "    \"\"\"Calculate total residual for fits of Gaussians to several data sets.\"\"\"\n",
    "    ndata = data.shape[0]\n",
    "    resid = 0.0*data[:]\n",
    "\n",
    "    resid_c = []\n",
    "    # make residual per data set\n",
    "    for i in range(ndata):\n",
    "        resid[i, :] = data[i, :] - chi_dataset(params, i, x)\n",
    "        if resid[i].dtype == np.complex:\n",
    "            resid_c.append(resid[i].ravel().view(np.float))\n",
    "#         print(np.shape(resid))\n",
    "    # now flatten this to a 1D array, as minimize() needs\n",
    "    resid_c = np.array(resid_c)\n",
    "    return resid_c.flatten()\n",
    "\n",
    "def objective_multiple(params, x, data):\n",
    "    \"\"\"Calculate total residual for fits of Gaussians to several data sets.\"\"\"\n",
    "    ndata = data.shape[0]\n",
    "    resid = 0.0*data[:]\n",
    "\n",
    "    resid_c = []\n",
    "    # make residual per data set\n",
    "    for i in range(ndata):\n",
    "#         print(resid[i].shape)\n",
    "        resid[i] = data[i] - chi_dataset(params, i, x[i])\n",
    "        if resid[i].dtype == np.complex:\n",
    "            resid_c.append(resid[i].ravel().view(np.float))\n",
    "#         print(np.shape(resid))\n",
    "    # now flatten this to a 1D array, as minimize() needs\n",
    "    resid_c = np.array(resid_c)\n",
    "    return np.concatenate(resid_c).ravel()"
   ]
  },
  {
   "cell_type": "markdown",
   "metadata": {},
   "source": [
    "Create five simulated Gaussian data sets\n",
    "\n"
   ]
  },
  {
   "cell_type": "code",
   "execution_count": 137,
   "metadata": {},
   "outputs": [
    {
     "name": "stdout",
     "output_type": "stream",
     "text": [
      "13.339924840157332 5.215351490856618 1\n",
      "25.351417130035937 19.761681356341203 3\n"
     ]
    }
   ],
   "source": [
    "# Simulating data with a single x array\n",
    "np.random.seed(121)\n",
    "\n",
    "x = np.linspace(0, 30 ,40)\n",
    "\n",
    "data = []\n",
    "for i in np.arange(2):\n",
    "    params = Parameters()\n",
    "    ld = 10 + 30*np.random.rand()\n",
    "    tg = 1 + 20*np.random.rand()\n",
    "    f = 2 * i + 1\n",
    "    dat = chi(x, ld, tg, f) + np.random.normal(size=x.size, scale=0.001)\n",
    "    data.append(dat)\n",
    "    print(ld, tg, f)\n",
    "data = np.array(data)"
   ]
  },
  {
   "cell_type": "code",
   "execution_count": 275,
   "metadata": {
    "collapsed": false,
    "jupyter": {
     "outputs_hidden": false
    }
   },
   "outputs": [
    {
     "name": "stdout",
     "output_type": "stream",
     "text": [
      "13.339924840157332 1.5269189363570772 1 9.593914626173069\n",
      "38.40815479205783 2.840808440909215 2 35.69865171286505\n",
      "31.310330025374174 3.435784841848091 3 64.7630185107908\n"
     ]
    }
   ],
   "source": [
    "# Simulating data with multiple x arrays\n",
    "np.random.seed(121)\n",
    "\n",
    "x = []\n",
    "x.append(np.linspace(0, 20 ,20))\n",
    "x.append(np.linspace(0, 20 ,40))\n",
    "x.append(np.linspace(0, 10 ,20))\n",
    "# x.append(np.linspace(0, 15 ,30))\n",
    "# print(x)\n",
    "data = []\n",
    "for i in np.arange(3):\n",
    "    params = Parameters()\n",
    "    ld = 10 + 30*np.random.rand()\n",
    "    tg = 1 + 2.5*np.random.rand()\n",
    "    f =  i + 1\n",
    "    dat = chi(x[i], ld, tg, f) + np.random.normal(size=x[i].size, scale=0.001)\n",
    "    data.append(dat)\n",
    "    print(ld, tg, f, 2*np.pi*f*tg)\n",
    "data = np.array(data)"
   ]
  },
  {
   "cell_type": "markdown",
   "metadata": {},
   "source": [
    "Create five sets of fitting parameters, one per data set\n",
    "\n"
   ]
  },
  {
   "cell_type": "code",
   "execution_count": 134,
   "metadata": {
    "collapsed": false,
    "jupyter": {
     "outputs_hidden": false
    }
   },
   "outputs": [],
   "source": [
    "fit_params = Parameters()\n",
    "for iy, y in enumerate(data):\n",
    "    fit_params.add('ld_%i' % (iy+1), value=20, min=0.0, max=200)\n",
    "    fit_params.add('tg_%i' % (iy+1), value=3, min=0.01, max=100.0)\n",
    "    fit_params.add('f_%i' % (iy+1), value= iy +1, vary=False)"
   ]
  },
  {
   "cell_type": "markdown",
   "metadata": {},
   "source": [
    "Constrain the values of sigma to be the same for all peaks by assigning\n",
    "sig_2, ..., sig_5 to be equal to sig_1.\n",
    "\n"
   ]
  },
  {
   "cell_type": "code",
   "execution_count": 5,
   "metadata": {
    "collapsed": false,
    "jupyter": {
     "outputs_hidden": false
    }
   },
   "outputs": [],
   "source": [
    "# for iy in (2, 3, 4, 5):\n",
    "#     fit_params['sig_%i' % iy].expr = 'si"
   ]
  },
  {
   "cell_type": "markdown",
   "metadata": {},
   "source": [
    "Run the global fit and show the fitting result\n",
    "\n"
   ]
  },
  {
   "cell_type": "code",
   "execution_count": 206,
   "metadata": {
    "collapsed": false,
    "jupyter": {
     "outputs_hidden": false
    }
   },
   "outputs": [
    {
     "name": "stdout",
     "output_type": "stream",
     "text": [
      "[[Variables]]\n",
      "    ld_1:  13.2502204 (init = 20)\n",
      "    tg_1:  5.13561439 (init = 3)\n",
      "    f_1:   1 (fixed)\n",
      "    ld_2:  27.2579307 (init = 20)\n",
      "    tg_2:  34.2877275 (init = 3)\n",
      "    f_2:   2 (fixed)\n",
      "    ld_3:  20.0000000 (init = 20)\n",
      "    tg_3:  3.00000000 (init = 3)\n",
      "    f_3:   3 (fixed)\n"
     ]
    }
   ],
   "source": [
    "out = minimize(objective_single, fit_params, args=(x, data))\n",
    "report_fit(out.params)"
   ]
  },
  {
   "cell_type": "markdown",
   "metadata": {},
   "source": [
    "Plot the data sets and fits\n",
    "\n"
   ]
  },
  {
   "cell_type": "code",
   "execution_count": 207,
   "metadata": {
    "collapsed": false,
    "jupyter": {
     "outputs_hidden": false
    }
   },
   "outputs": [
    {
     "ename": "ValueError",
     "evalue": "x and y must have same first dimension, but have shapes (1,) and (40,)",
     "output_type": "error",
     "traceback": [
      "\u001b[1;31m---------------------------------------------------------------------------\u001b[0m",
      "\u001b[1;31mValueError\u001b[0m                                Traceback (most recent call last)",
      "\u001b[1;32m<ipython-input-207-402568fadac2>\u001b[0m in \u001b[0;36m<module>\u001b[1;34m\u001b[0m\n\u001b[0;32m      3\u001b[0m \u001b[1;32mfor\u001b[0m \u001b[0mi\u001b[0m \u001b[1;32min\u001b[0m \u001b[0mrange\u001b[0m\u001b[1;33m(\u001b[0m\u001b[1;36m3\u001b[0m\u001b[1;33m)\u001b[0m\u001b[1;33m:\u001b[0m\u001b[1;33m\u001b[0m\u001b[1;33m\u001b[0m\u001b[0m\n\u001b[0;32m      4\u001b[0m     \u001b[0my_fit\u001b[0m \u001b[1;33m=\u001b[0m \u001b[0mchi_dataset\u001b[0m\u001b[1;33m(\u001b[0m\u001b[0mout\u001b[0m\u001b[1;33m.\u001b[0m\u001b[0mparams\u001b[0m\u001b[1;33m,\u001b[0m \u001b[0mi\u001b[0m\u001b[1;33m,\u001b[0m \u001b[0mx\u001b[0m\u001b[1;33m[\u001b[0m\u001b[0mi\u001b[0m\u001b[1;33m]\u001b[0m\u001b[1;33m)\u001b[0m\u001b[1;33m\u001b[0m\u001b[1;33m\u001b[0m\u001b[0m\n\u001b[1;32m----> 5\u001b[1;33m     \u001b[0max1\u001b[0m\u001b[1;33m.\u001b[0m\u001b[0mplot\u001b[0m\u001b[1;33m(\u001b[0m\u001b[0mx\u001b[0m\u001b[1;33m[\u001b[0m\u001b[0mi\u001b[0m\u001b[1;33m]\u001b[0m\u001b[1;33m,\u001b[0m \u001b[0mdata\u001b[0m\u001b[1;33m[\u001b[0m\u001b[0mi\u001b[0m\u001b[1;33m]\u001b[0m\u001b[1;33m.\u001b[0m\u001b[0mreal\u001b[0m\u001b[1;33m,\u001b[0m \u001b[1;34m'o'\u001b[0m\u001b[1;33m,\u001b[0m \u001b[0mx\u001b[0m\u001b[1;33m[\u001b[0m\u001b[0mi\u001b[0m\u001b[1;33m]\u001b[0m\u001b[1;33m,\u001b[0m \u001b[0my_fit\u001b[0m\u001b[1;33m.\u001b[0m\u001b[0mreal\u001b[0m\u001b[1;33m,\u001b[0m \u001b[1;34m'-'\u001b[0m\u001b[1;33m)\u001b[0m\u001b[1;33m\u001b[0m\u001b[1;33m\u001b[0m\u001b[0m\n\u001b[0m\u001b[0;32m      6\u001b[0m     \u001b[0max2\u001b[0m\u001b[1;33m.\u001b[0m\u001b[0mplot\u001b[0m\u001b[1;33m(\u001b[0m\u001b[0mx\u001b[0m\u001b[1;33m[\u001b[0m\u001b[0mi\u001b[0m\u001b[1;33m]\u001b[0m\u001b[1;33m,\u001b[0m \u001b[0mdata\u001b[0m\u001b[1;33m[\u001b[0m\u001b[0mi\u001b[0m\u001b[1;33m]\u001b[0m\u001b[1;33m.\u001b[0m\u001b[0mimag\u001b[0m\u001b[1;33m,\u001b[0m \u001b[1;34m'd'\u001b[0m\u001b[1;33m,\u001b[0m \u001b[0mx\u001b[0m\u001b[1;33m[\u001b[0m\u001b[0mi\u001b[0m\u001b[1;33m]\u001b[0m\u001b[1;33m,\u001b[0m \u001b[0my_fit\u001b[0m\u001b[1;33m.\u001b[0m\u001b[0mimag\u001b[0m\u001b[1;33m,\u001b[0m \u001b[1;34m'--'\u001b[0m\u001b[1;33m)\u001b[0m\u001b[1;33m\u001b[0m\u001b[1;33m\u001b[0m\u001b[0m\n\u001b[0;32m      7\u001b[0m \u001b[0mplt\u001b[0m\u001b[1;33m.\u001b[0m\u001b[0mshow\u001b[0m\u001b[1;33m(\u001b[0m\u001b[1;33m)\u001b[0m\u001b[1;33m\u001b[0m\u001b[1;33m\u001b[0m\u001b[0m\n",
      "\u001b[1;32m~\\Anaconda3\\lib\\site-packages\\matplotlib\\axes\\_axes.py\u001b[0m in \u001b[0;36mplot\u001b[1;34m(self, scalex, scaley, data, *args, **kwargs)\u001b[0m\n\u001b[0;32m   1664\u001b[0m         \"\"\"\n\u001b[0;32m   1665\u001b[0m         \u001b[0mkwargs\u001b[0m \u001b[1;33m=\u001b[0m \u001b[0mcbook\u001b[0m\u001b[1;33m.\u001b[0m\u001b[0mnormalize_kwargs\u001b[0m\u001b[1;33m(\u001b[0m\u001b[0mkwargs\u001b[0m\u001b[1;33m,\u001b[0m \u001b[0mmlines\u001b[0m\u001b[1;33m.\u001b[0m\u001b[0mLine2D\u001b[0m\u001b[1;33m.\u001b[0m\u001b[0m_alias_map\u001b[0m\u001b[1;33m)\u001b[0m\u001b[1;33m\u001b[0m\u001b[1;33m\u001b[0m\u001b[0m\n\u001b[1;32m-> 1666\u001b[1;33m         \u001b[0mlines\u001b[0m \u001b[1;33m=\u001b[0m \u001b[1;33m[\u001b[0m\u001b[1;33m*\u001b[0m\u001b[0mself\u001b[0m\u001b[1;33m.\u001b[0m\u001b[0m_get_lines\u001b[0m\u001b[1;33m(\u001b[0m\u001b[1;33m*\u001b[0m\u001b[0margs\u001b[0m\u001b[1;33m,\u001b[0m \u001b[0mdata\u001b[0m\u001b[1;33m=\u001b[0m\u001b[0mdata\u001b[0m\u001b[1;33m,\u001b[0m \u001b[1;33m**\u001b[0m\u001b[0mkwargs\u001b[0m\u001b[1;33m)\u001b[0m\u001b[1;33m]\u001b[0m\u001b[1;33m\u001b[0m\u001b[1;33m\u001b[0m\u001b[0m\n\u001b[0m\u001b[0;32m   1667\u001b[0m         \u001b[1;32mfor\u001b[0m \u001b[0mline\u001b[0m \u001b[1;32min\u001b[0m \u001b[0mlines\u001b[0m\u001b[1;33m:\u001b[0m\u001b[1;33m\u001b[0m\u001b[1;33m\u001b[0m\u001b[0m\n\u001b[0;32m   1668\u001b[0m             \u001b[0mself\u001b[0m\u001b[1;33m.\u001b[0m\u001b[0madd_line\u001b[0m\u001b[1;33m(\u001b[0m\u001b[0mline\u001b[0m\u001b[1;33m)\u001b[0m\u001b[1;33m\u001b[0m\u001b[1;33m\u001b[0m\u001b[0m\n",
      "\u001b[1;32m~\\Anaconda3\\lib\\site-packages\\matplotlib\\axes\\_base.py\u001b[0m in \u001b[0;36m__call__\u001b[1;34m(self, *args, **kwargs)\u001b[0m\n\u001b[0;32m    223\u001b[0m                 \u001b[0mthis\u001b[0m \u001b[1;33m+=\u001b[0m \u001b[0margs\u001b[0m\u001b[1;33m[\u001b[0m\u001b[1;36m0\u001b[0m\u001b[1;33m]\u001b[0m\u001b[1;33m,\u001b[0m\u001b[1;33m\u001b[0m\u001b[1;33m\u001b[0m\u001b[0m\n\u001b[0;32m    224\u001b[0m                 \u001b[0margs\u001b[0m \u001b[1;33m=\u001b[0m \u001b[0margs\u001b[0m\u001b[1;33m[\u001b[0m\u001b[1;36m1\u001b[0m\u001b[1;33m:\u001b[0m\u001b[1;33m]\u001b[0m\u001b[1;33m\u001b[0m\u001b[1;33m\u001b[0m\u001b[0m\n\u001b[1;32m--> 225\u001b[1;33m             \u001b[1;32myield\u001b[0m \u001b[1;32mfrom\u001b[0m \u001b[0mself\u001b[0m\u001b[1;33m.\u001b[0m\u001b[0m_plot_args\u001b[0m\u001b[1;33m(\u001b[0m\u001b[0mthis\u001b[0m\u001b[1;33m,\u001b[0m \u001b[0mkwargs\u001b[0m\u001b[1;33m)\u001b[0m\u001b[1;33m\u001b[0m\u001b[1;33m\u001b[0m\u001b[0m\n\u001b[0m\u001b[0;32m    226\u001b[0m \u001b[1;33m\u001b[0m\u001b[0m\n\u001b[0;32m    227\u001b[0m     \u001b[1;32mdef\u001b[0m \u001b[0mget_next_color\u001b[0m\u001b[1;33m(\u001b[0m\u001b[0mself\u001b[0m\u001b[1;33m)\u001b[0m\u001b[1;33m:\u001b[0m\u001b[1;33m\u001b[0m\u001b[1;33m\u001b[0m\u001b[0m\n",
      "\u001b[1;32m~\\Anaconda3\\lib\\site-packages\\matplotlib\\axes\\_base.py\u001b[0m in \u001b[0;36m_plot_args\u001b[1;34m(self, tup, kwargs)\u001b[0m\n\u001b[0;32m    389\u001b[0m             \u001b[0mx\u001b[0m\u001b[1;33m,\u001b[0m \u001b[0my\u001b[0m \u001b[1;33m=\u001b[0m \u001b[0mindex_of\u001b[0m\u001b[1;33m(\u001b[0m\u001b[0mtup\u001b[0m\u001b[1;33m[\u001b[0m\u001b[1;33m-\u001b[0m\u001b[1;36m1\u001b[0m\u001b[1;33m]\u001b[0m\u001b[1;33m)\u001b[0m\u001b[1;33m\u001b[0m\u001b[1;33m\u001b[0m\u001b[0m\n\u001b[0;32m    390\u001b[0m \u001b[1;33m\u001b[0m\u001b[0m\n\u001b[1;32m--> 391\u001b[1;33m         \u001b[0mx\u001b[0m\u001b[1;33m,\u001b[0m \u001b[0my\u001b[0m \u001b[1;33m=\u001b[0m \u001b[0mself\u001b[0m\u001b[1;33m.\u001b[0m\u001b[0m_xy_from_xy\u001b[0m\u001b[1;33m(\u001b[0m\u001b[0mx\u001b[0m\u001b[1;33m,\u001b[0m \u001b[0my\u001b[0m\u001b[1;33m)\u001b[0m\u001b[1;33m\u001b[0m\u001b[1;33m\u001b[0m\u001b[0m\n\u001b[0m\u001b[0;32m    392\u001b[0m \u001b[1;33m\u001b[0m\u001b[0m\n\u001b[0;32m    393\u001b[0m         \u001b[1;32mif\u001b[0m \u001b[0mself\u001b[0m\u001b[1;33m.\u001b[0m\u001b[0mcommand\u001b[0m \u001b[1;33m==\u001b[0m \u001b[1;34m'plot'\u001b[0m\u001b[1;33m:\u001b[0m\u001b[1;33m\u001b[0m\u001b[1;33m\u001b[0m\u001b[0m\n",
      "\u001b[1;32m~\\Anaconda3\\lib\\site-packages\\matplotlib\\axes\\_base.py\u001b[0m in \u001b[0;36m_xy_from_xy\u001b[1;34m(self, x, y)\u001b[0m\n\u001b[0;32m    268\u001b[0m         \u001b[1;32mif\u001b[0m \u001b[0mx\u001b[0m\u001b[1;33m.\u001b[0m\u001b[0mshape\u001b[0m\u001b[1;33m[\u001b[0m\u001b[1;36m0\u001b[0m\u001b[1;33m]\u001b[0m \u001b[1;33m!=\u001b[0m \u001b[0my\u001b[0m\u001b[1;33m.\u001b[0m\u001b[0mshape\u001b[0m\u001b[1;33m[\u001b[0m\u001b[1;36m0\u001b[0m\u001b[1;33m]\u001b[0m\u001b[1;33m:\u001b[0m\u001b[1;33m\u001b[0m\u001b[1;33m\u001b[0m\u001b[0m\n\u001b[0;32m    269\u001b[0m             raise ValueError(\"x and y must have same first dimension, but \"\n\u001b[1;32m--> 270\u001b[1;33m                              \"have shapes {} and {}\".format(x.shape, y.shape))\n\u001b[0m\u001b[0;32m    271\u001b[0m         \u001b[1;32mif\u001b[0m \u001b[0mx\u001b[0m\u001b[1;33m.\u001b[0m\u001b[0mndim\u001b[0m \u001b[1;33m>\u001b[0m \u001b[1;36m2\u001b[0m \u001b[1;32mor\u001b[0m \u001b[0my\u001b[0m\u001b[1;33m.\u001b[0m\u001b[0mndim\u001b[0m \u001b[1;33m>\u001b[0m \u001b[1;36m2\u001b[0m\u001b[1;33m:\u001b[0m\u001b[1;33m\u001b[0m\u001b[1;33m\u001b[0m\u001b[0m\n\u001b[0;32m    272\u001b[0m             raise ValueError(\"x and y can be no greater than 2-D, but have \"\n",
      "\u001b[1;31mValueError\u001b[0m: x and y must have same first dimension, but have shapes (1,) and (40,)"
     ]
    },
    {
     "data": {
      "image/png": "[encoded data removed]",
      "text/plain": [
       "<Figure size 720x1440 with 2 Axes>"
      ]
     },
     "metadata": {
      "needs_background": "light"
     },
     "output_type": "display_data"
    }
   ],
   "source": [
    "# plotting from multiple x array\n",
    "fig, (ax1, ax2) = plt.subplots(nrows=2, figsize=(10,20))\n",
    "for i in range(3):\n",
    "    y_fit = chi_dataset(out.params, i, x[i])\n",
    "    ax1.plot(x[i], data[i].real, 'o', x[i], y_fit.real, '-')\n",
    "    ax2.plot(x[i], data[i].imag, 'd', x[i], y_fit.imag, '--')\n",
    "plt.show()"
   ]
  },
  {
   "cell_type": "code",
   "execution_count": 211,
   "metadata": {
    "collapsed": false,
    "jupyter": {
     "outputs_hidden": false
    }
   },
   "outputs": [
    {
     "data": {
      "image/png": "[encoded data removed]",
      "text/plain": [
       "<Figure size 720x1440 with 2 Axes>"
      ]
     },
     "metadata": {
      "needs_background": "light"
     },
     "output_type": "display_data"
    }
   ],
   "source": [
    "# plotting from single x array\n",
    "fig, (ax1, ax2) = plt.subplots(nrows=2, figsize=(10,20))\n",
    "for i in range(2):\n",
    "    y_fit = chi_dataset(out.params, i, x)\n",
    "    ax1.plot(x, data[i].real, 'o', x, y_fit.real, '-')\n",
    "    ax2.plot(x, data[i].imag, 'd', x, y_fit.imag, '--')\n",
    "plt.show()"
   ]
  },
  {
   "cell_type": "code",
   "execution_count": 139,
   "metadata": {},
   "outputs": [],
   "source": [
    "def objective_test(params, x, data, func):\n",
    "    \"\"\"Calculate total residual for fits of Gaussians to several data sets.\"\"\"\n",
    "    ndata = data.shape[0]\n",
    "    resid = 0.0*data[:]\n",
    "\n",
    "    resid_c = []\n",
    "    # make residual per data set\n",
    "    for i in range(ndata):\n",
    "        resid[i, :] = data[i, :] - func(params, i, x)\n",
    "        if resid[i].dtype == np.complex:\n",
    "            resid_c.append(resid[i].ravel().view(np.float))\n",
    "#         print(np.shape(resid))\n",
    "    # now flatten this to a 1D array, as minimize() needs\n",
    "    resid_c = np.array(resid_c)\n",
    "    return resid_c.flatten()"
   ]
  },
  {
   "cell_type": "code",
   "execution_count": 140,
   "metadata": {},
   "outputs": [
    {
     "data": {
      "text/plain": [
       "array([-5.73898209e-04,  0.00000000e+00, -1.12166673e-01, -7.81451326e-02,\n",
       "       -2.06468526e-01, -9.73580178e-02, -2.74019682e-01, -7.74544680e-02,\n",
       "       -3.15180838e-01, -3.48838216e-02, -3.32277947e-01,  1.75758945e-02,\n",
       "       -3.26719165e-01,  7.06718688e-02, -3.03313807e-01,  1.18263099e-01,\n",
       "       -2.67777756e-01,  1.56777281e-01, -2.29401679e-01,  1.84635009e-01,\n",
       "       -1.83340327e-01,  2.01704625e-01, -1.39882498e-01,  2.08824575e-01,\n",
       "       -9.68713196e-02,  2.07410402e-01, -6.30369897e-02,  1.99149765e-01,\n",
       "       -2.97659487e-02,  1.85779916e-01, -3.09651972e-03,  1.68937030e-01,\n",
       "        1.88956923e-02,  1.50064492e-01,  3.43677375e-02,  1.30366920e-01,\n",
       "        4.68326860e-02,  1.10797667e-01,  5.44088267e-02,  9.20691665e-02,\n",
       "        5.90998048e-02,  7.46774160e-02,  6.01836489e-02,  5.89338643e-02,\n",
       "        5.55836931e-02,  4.49997660e-02,  5.75602248e-02,  3.29196224e-02,\n",
       "        5.40755194e-02,  2.26515948e-02,  4.93306033e-02,  1.40937573e-02,\n",
       "        4.30292405e-02,  7.10576914e-03,  3.76392612e-02,  1.52603935e-03,\n",
       "        3.52248446e-02, -2.81523840e-03,  3.05062471e-02, -6.08663549e-03,\n",
       "        2.55221598e-02, -8.44901368e-03,  2.17955083e-02, -1.00514231e-02,\n",
       "        1.96974482e-02, -1.10288193e-02,  1.56773680e-02, -1.15011195e-02,\n",
       "        9.22455672e-03, -1.15731997e-02,  8.97990310e-03, -1.13355152e-02,\n",
       "        5.86336662e-03, -1.08651035e-02,  2.40754512e-03, -1.02267890e-02,\n",
       "        4.32271610e-03, -9.47446708e-03,  2.12935581e-03, -8.65238001e-03,\n",
       "       -1.37278961e-03,  0.00000000e+00, -2.27507866e-01, -1.26949067e-01,\n",
       "       -3.78789326e-01, -9.04202532e-02, -4.36113042e-01,  1.29142891e-02,\n",
       "       -4.18542291e-01,  1.21506404e-01, -3.52366730e-01,  2.04316528e-01,\n",
       "       -2.63934046e-01,  2.51673003e-01, -1.76248135e-01,  2.66241173e-01,\n",
       "       -9.95702196e-02,  2.56105557e-01, -3.85064443e-02,  2.30363586e-01,\n",
       "        5.51849025e-03,  1.96836888e-01,  3.69290530e-02,  1.61248174e-01,\n",
       "        5.42844798e-02,  1.27245890e-01,  6.38322874e-02,  9.68130392e-02,\n",
       "        6.54547575e-02,  7.07685310e-02,  6.32291633e-02,  4.92103652e-02,\n",
       "        5.82192305e-02,  3.18456049e-02,  5.23483150e-02,  1.82064164e-02,\n",
       "        4.77751711e-02,  7.77551943e-03,  4.08663721e-02,  4.98350761e-05,\n",
       "        3.27432051e-02, -5.43275869e-03,  2.79097980e-02, -9.08573185e-03,\n",
       "        2.04042961e-02, -1.12743068e-02,  1.44127256e-02, -1.23182497e-02,\n",
       "        1.12320636e-02, -1.24947099e-02,  7.31404584e-03, -1.20405890e-02,\n",
       "        5.90410335e-03, -1.11546769e-02,  1.81015858e-03, -9.99994409e-03,\n",
       "        8.22757506e-04, -8.70625297e-03, -3.20040087e-04, -7.37356076e-03,\n",
       "       -1.44165505e-03, -6.07552713e-03, -4.30190224e-03, -4.86334904e-03,\n",
       "       -2.36244798e-03, -3.76961896e-03, -2.63510919e-03, -2.81202121e-03,\n",
       "       -6.99428106e-04, -1.99672465e-03, -3.10126412e-03, -1.32138010e-03,\n",
       "       -1.33393452e-03, -7.77678530e-04, -3.88078726e-04, -3.53463810e-04,\n",
       "       -2.23191559e-03, -3.44214233e-05, -7.17927413e-04,  1.94618035e-04])"
      ]
     },
     "execution_count": 140,
     "metadata": {},
     "output_type": "execute_result"
    }
   ],
   "source": [
    "objective_test(fit_params, x, data, chi_dataset)"
   ]
  },
  {
   "cell_type": "code",
   "execution_count": 142,
   "metadata": {},
   "outputs": [
    {
     "data": {
      "text/plain": [
       "array([0., 0., 0., 0., 0., 0., 0., 0., 0., 0., 0., 0., 0., 0., 0., 0., 0.,\n",
       "       0., 0., 0., 0., 0., 0., 0., 0., 0., 0., 0., 0., 0., 0., 0., 0., 0.,\n",
       "       0., 0., 0., 0., 0., 0., 0., 0., 0., 0., 0., 0., 0., 0., 0., 0., 0.,\n",
       "       0., 0., 0., 0., 0., 0., 0., 0., 0., 0., 0., 0., 0., 0., 0., 0., 0.,\n",
       "       0., 0., 0., 0., 0., 0., 0., 0., 0., 0., 0., 0., 0., 0., 0., 0., 0.,\n",
       "       0., 0., 0., 0., 0., 0., 0., 0., 0., 0., 0., 0., 0., 0., 0., 0., 0.,\n",
       "       0., 0., 0., 0., 0., 0., 0., 0., 0., 0., 0., 0., 0., 0., 0., 0., 0.,\n",
       "       0., 0., 0., 0., 0., 0., 0., 0., 0., 0., 0., 0., 0., 0., 0., 0., 0.,\n",
       "       0., 0., 0., 0., 0., 0., 0., 0., 0., 0., 0., 0., 0., 0., 0., 0., 0.,\n",
       "       0., 0., 0., 0., 0., 0., 0.])"
      ]
     },
     "execution_count": 142,
     "metadata": {},
     "output_type": "execute_result"
    }
   ],
   "source": [
    "objective_single(fit_params, x, data) - objective_test(fit_params, x, data, chi_dataset)"
   ]
  },
  {
   "cell_type": "code",
   "execution_count": 143,
   "metadata": {},
   "outputs": [
    {
     "data": {
      "text/plain": [
       "odict_items([('ld_1', <Parameter 'ld_1', 20, bounds=[0.0:200]>), ('tg_1', <Parameter 'tg_1', 3, bounds=[0.01:100.0]>), ('f_1', <Parameter 'f_1', value=1 (fixed), bounds=[-inf:inf]>), ('ld_2', <Parameter 'ld_2', 20, bounds=[0.0:200]>), ('tg_2', <Parameter 'tg_2', 3, bounds=[0.01:100.0]>), ('f_2', <Parameter 'f_2', value=2 (fixed), bounds=[-inf:inf]>), ('ld_3', <Parameter 'ld_3', 20, bounds=[0.0:200]>), ('tg_3', <Parameter 'tg_3', 3, bounds=[0.01:100.0]>), ('f_3', <Parameter 'f_3', value=3 (fixed), bounds=[-inf:inf]>)])"
      ]
     },
     "execution_count": 143,
     "metadata": {},
     "output_type": "execute_result"
    }
   ],
   "source": [
    "fit_params.items()"
   ]
  },
  {
   "cell_type": "code",
   "execution_count": 149,
   "metadata": {},
   "outputs": [],
   "source": [
    "import sys\n",
    "import inspect"
   ]
  },
  {
   "cell_type": "code",
   "execution_count": 146,
   "metadata": {},
   "outputs": [
    {
     "name": "stdout",
     "output_type": "stream",
     "text": [
      "yesy\n"
     ]
    }
   ],
   "source": [
    "if sys.version_info >(3,4):\n",
    "    print('yesy')"
   ]
  },
  {
   "cell_type": "code",
   "execution_count": 147,
   "metadata": {},
   "outputs": [
    {
     "data": {
      "text/plain": [
       "sys.version_info(major=3, minor=6, micro=10, releaselevel='final', serial=0)"
      ]
     },
     "execution_count": 147,
     "metadata": {},
     "output_type": "execute_result"
    }
   ],
   "source": [
    "sys.version_info"
   ]
  },
  {
   "cell_type": "code",
   "execution_count": null,
   "metadata": {},
   "outputs": [],
   "source": [
    "def test_func(x, a, b ,c):\n",
    "    def argnames():\n",
    "        "
   ]
  },
  {
   "cell_type": "code",
   "execution_count": 148,
   "metadata": {},
   "outputs": [
    {
     "data": {
      "text/plain": [
       "False"
      ]
     },
     "execution_count": 148,
     "metadata": {},
     "output_type": "execute_result"
    }
   ],
   "source": [
    "hasattr(chi, 'argnames')"
   ]
  },
  {
   "cell_type": "code",
   "execution_count": 150,
   "metadata": {},
   "outputs": [
    {
     "data": {
      "text/plain": [
       "<Signature (x, ld, tg, f)>"
      ]
     },
     "execution_count": 150,
     "metadata": {},
     "output_type": "execute_result"
    }
   ],
   "source": [
    "inspect.signature(chi)"
   ]
  },
  {
   "cell_type": "code",
   "execution_count": 161,
   "metadata": {},
   "outputs": [],
   "source": [
    "pos_args = []\n",
    "kw_args = {}\n",
    "keywords_ = None\n",
    "sig = inspect.signature(chi)\n",
    "\n",
    "for fnam, fpar in sig.parameters.items():\n",
    "    if fpar.kind == fpar.POSITIONAL_OR_KEYWORD:\n",
    "        if fpar.default == fpar.empty:\n",
    "            pos_args.append(fnam)\n",
    "        else:\n",
    "            kw_args[fnam] = fpar.default\n",
    "    elif fpar.kind == fpar.VAR_POSITIONAL:\n",
    "        raise ValueError(\"varargs '*%s' is not supported\" % fnam)"
   ]
  },
  {
   "cell_type": "code",
   "execution_count": 204,
   "metadata": {},
   "outputs": [
    {
     "data": {
      "text/plain": [
       "['ld', 'tg', 'f']"
      ]
     },
     "execution_count": 204,
     "metadata": {},
     "output_type": "execute_result"
    }
   ],
   "source": [
    "pos_args[1:]"
   ]
  },
  {
   "cell_type": "code",
   "execution_count": 160,
   "metadata": {},
   "outputs": [
    {
     "data": {
      "text/plain": [
       "inspect._empty"
      ]
     },
     "execution_count": 160,
     "metadata": {},
     "output_type": "execute_result"
    }
   ],
   "source": [
    "ld = params['ld_%i' % (i+1)]"
   ]
  },
  {
   "cell_type": "code",
   "execution_count": 164,
   "metadata": {},
   "outputs": [
    {
     "data": {
      "text/plain": [
       "'ld'"
      ]
     },
     "execution_count": 164,
     "metadata": {},
     "output_type": "execute_result"
    }
   ],
   "source": [
    "pos_args[1]"
   ]
  },
  {
   "cell_type": "code",
   "execution_count": 169,
   "metadata": {},
   "outputs": [
    {
     "data": {
      "text/plain": [
       "<Parameter 'ld_2', 20, bounds=[0.0:200]>"
      ]
     },
     "execution_count": 169,
     "metadata": {},
     "output_type": "execute_result"
    }
   ],
   "source": [
    "fit_params[pos_args[1] + '_%i' % (i+1)]"
   ]
  },
  {
   "cell_type": "code",
   "execution_count": 191,
   "metadata": {},
   "outputs": [
    {
     "data": {
      "text/html": [
       "<table><tr><th> name </th><th> value </th><th> initial value </th><th> min </th><th> max </th><th> vary </th></tr><tr><td> ld_1 </td><td>        -inf </td><td> None </td><td>        -inf </td><td>         inf </td><td> True </td></tr><tr><td> tg_1 </td><td>        -inf </td><td> None </td><td>        -inf </td><td>         inf </td><td> True </td></tr><tr><td> f_1 </td><td>        -inf </td><td> None </td><td>        -inf </td><td>         inf </td><td> True </td></tr><tr><td> ld_2 </td><td>        -inf </td><td> None </td><td>        -inf </td><td>         inf </td><td> True </td></tr><tr><td> tg_2 </td><td>        -inf </td><td> None </td><td>        -inf </td><td>         inf </td><td> True </td></tr><tr><td> f_2 </td><td>        -inf </td><td> None </td><td>        -inf </td><td>         inf </td><td> True </td></tr></table>"
      ],
      "text/plain": [
       "Parameters([('ld_1', <Parameter 'ld_1', -inf, bounds=[-inf:inf]>),\n",
       "            ('tg_1', <Parameter 'tg_1', -inf, bounds=[-inf:inf]>),\n",
       "            ('f_1', <Parameter 'f_1', -inf, bounds=[-inf:inf]>),\n",
       "            ('ld_2', <Parameter 'ld_2', -inf, bounds=[-inf:inf]>),\n",
       "            ('tg_2', <Parameter 'tg_2', -inf, bounds=[-inf:inf]>),\n",
       "            ('f_2', <Parameter 'f_2', -inf, bounds=[-inf:inf]>)])"
      ]
     },
     "execution_count": 191,
     "metadata": {},
     "output_type": "execute_result"
    }
   ],
   "source": [
    "dum_params"
   ]
  },
  {
   "cell_type": "code",
   "execution_count": 203,
   "metadata": {},
   "outputs": [
    {
     "name": "stdout",
     "output_type": "stream",
     "text": [
      "ld_1\n",
      "tg_1\n",
      "f_1\n",
      "ld_2\n",
      "tg_2\n",
      "f_2\n"
     ]
    },
    {
     "data": {
      "text/html": [
       "<table><tr><th> name </th><th> value </th><th> initial value </th><th> min </th><th> max </th><th> vary </th></tr><tr><td> ld_1 </td><td>  15.0000000 </td><td> 15 </td><td>  0.00000000 </td><td>         inf </td><td> True </td></tr><tr><td> tg_1 </td><td>  0.10000000 </td><td> 0.1 </td><td>  0.00000000 </td><td>         inf </td><td> True </td></tr><tr><td> f_1 </td><td>  2.00000000 </td><td> 2 </td><td>  0.00000000 </td><td>         inf </td><td> False </td></tr><tr><td> ld_2 </td><td>  15.0000000 </td><td> 15 </td><td>  0.00000000 </td><td>         inf </td><td> True </td></tr><tr><td> tg_2 </td><td>  0.10000000 </td><td> 0.1 </td><td>  0.00000000 </td><td>         inf </td><td> True </td></tr><tr><td> f_2 </td><td>  2.00000000 </td><td> 2 </td><td>  0.00000000 </td><td>         inf </td><td> False </td></tr></table>"
      ],
      "text/plain": [
       "Parameters([('ld_1', <Parameter 'ld_1', 15, bounds=[0:inf]>),\n",
       "            ('tg_1', <Parameter 'tg_1', 0.1, bounds=[0:inf]>),\n",
       "            ('f_1', <Parameter 'f_1', value=2 (fixed), bounds=[0:inf]>),\n",
       "            ('ld_2', <Parameter 'ld_2', 15, bounds=[0:inf]>),\n",
       "            ('tg_2', <Parameter 'tg_2', 0.1, bounds=[0:inf]>),\n",
       "            ('f_2', <Parameter 'f_2', value=2 (fixed), bounds=[0:inf]>)])"
      ]
     },
     "execution_count": 203,
     "metadata": {},
     "output_type": "execute_result"
    }
   ],
   "source": [
    "n_params = len(pos_args[1:])\n",
    "n_dat = data.shape[0]\n",
    "\n",
    "dum_params = Parameters()\n",
    "for i in np.arange(n_dat):\n",
    "    for j, p_name in enumerate(pos_args[1:]):\n",
    "        print(p_name + '_%i' % (i+1))\n",
    "        # \n",
    "        if flag == 2:\n",
    "            dum_params.add(p_name + '_%i' % (i+1), value=initial_values[i+j],\n",
    "                           vary=vary_params[i+j], min=bounds[i+j][0],\n",
    "                           max=bounds[i+j][1])\n",
    "        elif flag ==1:\n",
    "            dum_params.add(p_name + '_%i' % (i+1), value=initial_values[j],\n",
    "                           vary=vary_params[j], min=bounds[j][0],\n",
    "                           max=bounds[j][1])\n",
    "        else:\n",
    "            dum_params.add(p_name + '_%i' % (i+1))\n",
    "        \n",
    "dum_params"
   ]
  },
  {
   "cell_type": "code",
   "execution_count": 201,
   "metadata": {},
   "outputs": [
    {
     "name": "stdout",
     "output_type": "stream",
     "text": [
      "One set of parameters\n"
     ]
    }
   ],
   "source": [
    "initial_values = [15, .1, 2]\n",
    "vary_params = [True, True, False]\n",
    "bounds = [(0, None), (0, None), (0, None)]\n",
    "\n",
    "flag = 0\n",
    "lens = [len(initial_values), len(vary_params), len(bounds)]\n",
    "if all(x == n_params * n_dat for x in lens):\n",
    "    print('Individual parameters')\n",
    "    flag = 2\n",
    "elif all (x == n_params for x in lens):\n",
    "    print('One set of parameters')\n",
    "    flag =1\n",
    "else:\n",
    "    print('Inadequate number of initial values, bounds, or parameter variability arguments')"
   ]
  },
  {
   "cell_type": "code",
   "execution_count": 184,
   "metadata": {},
   "outputs": [
    {
     "data": {
      "text/plain": [
       "True"
      ]
     },
     "execution_count": 184,
     "metadata": {},
     "output_type": "execute_result"
    }
   ],
   "source": [
    "lens = [len(initial_values), len(vary_params), len(bounds)]\n",
    "all(x == n_params for x in lens)"
   ]
  },
  {
   "cell_type": "code",
   "execution_count": 247,
   "metadata": {},
   "outputs": [],
   "source": [
    "def dum_func(x, a, b, c):\n",
    "    print(a,b,c)\n",
    "    print(type(x))\n",
    "    print(type(a), type(b), type(c))\n",
    "    return np.exp(-x/a + b) + c\n",
    "    "
   ]
  },
  {
   "cell_type": "code",
   "execution_count": 261,
   "metadata": {},
   "outputs": [],
   "source": [
    "def func_dataset(params, i, x, func):\n",
    "    \"\"\"Calculate Gaussian lineshape from parameters for data set.\"\"\"\n",
    "\n",
    "    args = []\n",
    "    for a in params:\n",
    "        if a.endswith(str(i+1)):\n",
    "            args.append(params[a])\n",
    "#             print(a)\n",
    "    return func(x, *args)"
   ]
  },
  {
   "cell_type": "code",
   "execution_count": 262,
   "metadata": {},
   "outputs": [],
   "source": [
    "def objective_func(params, x, data, func):\n",
    "    \"\"\"Calculate total residual for fits of Gaussians to several data sets.\"\"\"\n",
    "    ndata = data.shape[0]\n",
    "    resid = 0.0*data[:]\n",
    "\n",
    "    resid_c = []\n",
    "    # make residual per data set\n",
    "    for i in range(ndata):\n",
    "#         print(resid[i].shape)\n",
    "        resid[i] = data[i] - func_dataset(params, i, x[i], func)\n",
    "        if resid[i].dtype == np.complex:\n",
    "            resid_c.append(resid[i].ravel().view(np.float))\n",
    "#         print(np.shape(resid))\n",
    "    # now flatten this to a 1D array, as minimize() needs\n",
    "    resid_c = np.array(resid_c)\n",
    "    return np.concatenate(resid_c).ravel()"
   ]
  },
  {
   "cell_type": "code",
   "execution_count": 276,
   "metadata": {},
   "outputs": [
    {
     "data": {
      "text/html": [
       "<h2>Fit Statistics</h2><table><tr><td>fitting method</td><td>leastsq</td><td></td></tr><tr><td># function evals</td><td>383</td><td></td></tr><tr><td># data points</td><td>160</td><td></td></tr><tr><td># variables</td><td>6</td><td></td></tr><tr><td>chi-square</td><td> 8.8784e-05</td><td></td></tr><tr><td>reduced chi-square</td><td> 5.7652e-07</td><td></td></tr><tr><td>Akaike info crit.</td><td>-2292.71621</td><td></td></tr><tr><td>Bayesian info crit.</td><td>-2274.26517</td><td></td></tr></table><h2>Variables</h2><table><tr><th> name </th><th> value </th><th> standard error </th><th> relative error </th><th> initial value </th><th> min </th><th> max </th><th> vary </th></tr><tr><td> ld_1 </td><td>  13.3663231 </td><td>  0.06305188 </td><td> 0.47% </td><td> 20 </td><td>  0.00000000 </td><td>  200.000000 </td><td> True </td></tr><tr><td> tg_1 </td><td>  1.53070239 </td><td>  0.01451917 </td><td> 0.95% </td><td> 3 </td><td>  0.01000000 </td><td>  100.000000 </td><td> True </td></tr><tr><td> f_1 </td><td>  1.00000000 </td><td>  0.00000000 </td><td> 0.00% </td><td> 1 </td><td>        -inf </td><td>         inf </td><td> False </td></tr><tr><td> ld_2 </td><td>  38.3082776 </td><td>  0.38945820 </td><td> 1.02% </td><td> 20 </td><td>  0.00000000 </td><td>  200.000000 </td><td> True </td></tr><tr><td> tg_2 </td><td>  2.82667415 </td><td>  0.05749712 </td><td> 2.03% </td><td> 3 </td><td>  0.01000000 </td><td>  100.000000 </td><td> True </td></tr><tr><td> f_2 </td><td>  2.00000000 </td><td>  0.00000000 </td><td> 0.00% </td><td> 2 </td><td>        -inf </td><td>         inf </td><td> False </td></tr><tr><td> ld_3 </td><td>  30.8299970 </td><td>  0.76499642 </td><td> 2.48% </td><td> 20 </td><td>  0.00000000 </td><td>  200.000000 </td><td> True </td></tr><tr><td> tg_3 </td><td>  3.33412142 </td><td>  0.16548258 </td><td> 4.96% </td><td> 3 </td><td>  0.01000000 </td><td>  100.000000 </td><td> True </td></tr><tr><td> f_3 </td><td>  3.00000000 </td><td>  0.00000000 </td><td> 0.00% </td><td> 3 </td><td>        -inf </td><td>         inf </td><td> False </td></tr></table><h2>Correlations (unreported correlations are < 0.100)</h2><table><tr><td>ld_3</td><td>tg_3</td><td>0.9999</td></tr><tr><td>ld_2</td><td>tg_2</td><td>0.9996</td></tr><tr><td>ld_1</td><td>tg_1</td><td>0.9946</td></tr></table>"
      ],
      "text/plain": [
       "<lmfit.minimizer.MinimizerResult at 0x206c3572ac8>"
      ]
     },
     "execution_count": 276,
     "metadata": {},
     "output_type": "execute_result"
    }
   ],
   "source": [
    "func_dataset(fit_params, 0, x[0], chi)\n",
    "# objective_func(fit_params, x, data, chi)\n",
    "minimize(objective_func, fit_params, args=(x, data, chi))"
   ]
  },
  {
   "cell_type": "code",
   "execution_count": null,
   "metadata": {},
   "outputs": [],
   "source": []
  }
 ],
 "metadata": {
  "kernelspec": {
   "display_name": "Python 3",
   "language": "python",
   "name": "python3"
  },
  "language_info": {
   "codemirror_mode": {
    "name": "ipython",
    "version": 3
   },
   "file_extension": ".py",
   "mimetype": "text/x-python",
   "name": "python",
   "nbconvert_exporter": "python",
   "pygments_lexer": "ipython3",
   "version": "3.6.10"
  }
 },
 "nbformat": 4,
 "nbformat_minor": 4
}
