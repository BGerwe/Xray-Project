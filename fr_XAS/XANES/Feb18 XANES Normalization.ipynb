{
 "cells": [
  {
   "cell_type": "code",
   "execution_count": 1,
   "metadata": {},
   "outputs": [],
   "source": [
    "import sys\n",
    "import glob\n",
    "\n",
    "import pandas as pd\n",
    "import matplotlib.pyplot as plt\n",
    "\n",
    "from larch import io, xafs\n",
    "from larch import Interpreter\n",
    "mylarch = Interpreter()"
   ]
  },
  {
   "cell_type": "code",
   "execution_count": 2,
   "metadata": {},
   "outputs": [],
   "source": [
    "def larch_xafs_normalization(filepath, _larch=None):\n",
    "    \"\"\"\n",
    "    \"\"\"\n",
    "    try:\n",
    "        del group\n",
    "    except:\n",
    "        None\n",
    "    group = io.read_ascii(filepath, labels='col1, col2')\n",
    "    group.path = filepath\n",
    "    group.is_frozen = False\n",
    "    group.datatype = 'xas'\n",
    "    group.plot_xlabel = 'col1'\n",
    "    group.plot_ylabel = 'col2/1.0'\n",
    "    group.xdat = group.data[0, : ]\n",
    "    group.ydat = group.data[1, : ] / 1.0\n",
    "    group.yerr = 1.000000\n",
    "    group.energy = group.xdat\n",
    "    group.mu = group.ydat\n",
    "    xafs.sort_xafs(group, overwrite=True, fix_repeats=True)\n",
    "    filename = filepath.split('\\\\')[-1].replace(' ', '_').replace('-', 'n')\n",
    "    group.filename = filename\n",
    "    group.filenumber = filename.split('_Eta')[0]\n",
    "    group.eta = filename.split('Eta_')[-1].split(' mV')[0]\n",
    "    xafs.pre_edge(group, pre1=-70.00, pre2=-25.00, nvict=0.00, nnorm=1.00, norm1=40.00, norm2=115.00)\n",
    "    group.norm_poly = 1.0*group.norm\n",
    "    group.dnormde=group.dmude/group.edge_step\n",
    "    xafs.autobk(group, rbkg=0.85, kweight=2)\n",
    "    return group"
   ]
  },
  {
   "cell_type": "markdown",
   "metadata": {},
   "source": [
    "## Scratch"
   ]
  },
  {
   "cell_type": "code",
   "execution_count": 39,
   "metadata": {},
   "outputs": [],
   "source": [
    "import json\n",
    "import time\n",
    "import numpy as np\n",
    "\n",
    "from collections import OrderedDict\n",
    "\n",
    "from larch import Group\n",
    "from larch.fitting import Parameter, isParameter\n",
    "from larch.utils.jsonutils import encode4js, decode4js\n",
    "from larch.utils.strutils import fix_varname"
   ]
  },
  {
   "cell_type": "code",
   "execution_count": 59,
   "metadata": {},
   "outputs": [],
   "source": [
    "def dumfn(fname, *args, _larch=None):\n",
    "    expr = getattr(_larch, 'this_expr', 'save(foo)')\n",
    "    expr = expr.replace('\\n', ' ').replace('\\r', ' ')\n",
    "\n",
    "    grouplist = _larch.symtable._sys.saverestore_groups[:]\n",
    "    print(grouplist)\n",
    "    buff = [\"#Larch Save File: 1.0\",\n",
    "            \"#save.date: %s\" % time.strftime('%Y-%m-%d %H:%M:%S'),\n",
    "            \"#save.command: %s\" % expr,\n",
    "            \"#save.nitems:  %i\" % len(args)]\n",
    "\n",
    "    names = []\n",
    "    if expr.startswith('save('):\n",
    "        print('ye')\n",
    "        names = [a.strip() for a in expr[5:-1].split(',')]\n",
    "    try:\n",
    "        names.pop(0)\n",
    "    except:\n",
    "        pass\n",
    "    if len(names) < len(args):\n",
    "        names.extend([\"_unknown_\"]*(len(args) - len(names)))\n",
    "\n",
    "    for name, arg in zip(names, args):\n",
    "        buff.append(\"#=> %s\" % name)\n",
    "        buff.append(json.dumps(encode4js(arg, grouplist=grouplist)))\n",
    "        buff.append(\"\")\n",
    "        with open(fname, \"w\") as fh:\n",
    "            fh.write(\"\\n\".join(buff))"
   ]
  },
  {
   "cell_type": "code",
   "execution_count": 13,
   "metadata": {},
   "outputs": [
    {
     "name": "stdout",
     "output_type": "stream",
     "text": [
      "(<class 'larch.xrf.roi.ROI'>, <class 'larch.xrf.mca.MCA'>) ROI\n",
      "(<class 'larch.xafs.diffkk.diffKKGroup'>, <class 'larch.xafs.feffrunner.FeffRunner'>, <class 'larch.xafs.feffdat.FeffDatFile'>, <class 'larch.xafs.feffdat.FeffPathGroup'>, <class 'larch.xafs.feffit.TransformGroup'>, <class 'larch.xafs.feffit.FeffitDataSet'>) diffKKGroup\n"
     ]
    }
   ],
   "source": [
    "for g in mylarch.symtable._sys.saverestore_groups[:]:\n",
    "    print(g, g[0].__name__)"
   ]
  },
  {
   "cell_type": "code",
   "execution_count": 5,
   "metadata": {},
   "outputs": [
    {
     "ename": "AttributeError",
     "evalue": "'tuple' object has no attribute '__name__'",
     "output_type": "error",
     "traceback": [
      "\u001b[1;31m---------------------------------------------------------------------------\u001b[0m",
      "\u001b[1;31mAttributeError\u001b[0m                            Traceback (most recent call last)",
      "\u001b[1;32m<ipython-input-5-17f8784bba1b>\u001b[0m in \u001b[0;36m<module>\u001b[1;34m\u001b[0m\n\u001b[0;32m     10\u001b[0m \u001b[0mg\u001b[0m \u001b[1;33m=\u001b[0m \u001b[0mGroup\u001b[0m\u001b[1;33m(\u001b[0m\u001b[1;34m'mygroup'\u001b[0m\u001b[1;33m,\u001b[0m \u001b[0mx\u001b[0m\u001b[1;33m=\u001b[0m\u001b[0mx\u001b[0m\u001b[1;33m,\u001b[0m \u001b[0my\u001b[0m\u001b[1;33m=\u001b[0m\u001b[0my\u001b[0m\u001b[1;33m,\u001b[0m \u001b[0mz\u001b[0m\u001b[1;33m=\u001b[0m\u001b[0mz\u001b[0m\u001b[1;33m)\u001b[0m\u001b[1;33m\u001b[0m\u001b[1;33m\u001b[0m\u001b[0m\n\u001b[0;32m     11\u001b[0m \u001b[1;33m\u001b[0m\u001b[0m\n\u001b[1;32m---> 12\u001b[1;33m \u001b[0mio\u001b[0m\u001b[1;33m.\u001b[0m\u001b[0msave\u001b[0m\u001b[1;33m(\u001b[0m\u001b[1;34m'test.lsav'\u001b[0m\u001b[1;33m,\u001b[0m \u001b[0mg\u001b[0m\u001b[1;33m,\u001b[0m \u001b[0m_larch\u001b[0m\u001b[1;33m=\u001b[0m\u001b[0mmylarch\u001b[0m\u001b[1;33m)\u001b[0m\u001b[1;33m\u001b[0m\u001b[1;33m\u001b[0m\u001b[0m\n\u001b[0m",
      "\u001b[1;32m~\\Anaconda3\\envs\\UW\\lib\\site-packages\\larch\\io\\save_restore.py\u001b[0m in \u001b[0;36msave\u001b[1;34m(fname, _larch, *args, **kws)\u001b[0m\n\u001b[0;32m     48\u001b[0m     \u001b[1;32mfor\u001b[0m \u001b[0mname\u001b[0m\u001b[1;33m,\u001b[0m \u001b[0marg\u001b[0m \u001b[1;32min\u001b[0m \u001b[0mzip\u001b[0m\u001b[1;33m(\u001b[0m\u001b[0mnames\u001b[0m\u001b[1;33m,\u001b[0m \u001b[0margs\u001b[0m\u001b[1;33m)\u001b[0m\u001b[1;33m:\u001b[0m\u001b[1;33m\u001b[0m\u001b[1;33m\u001b[0m\u001b[0m\n\u001b[0;32m     49\u001b[0m         \u001b[0mbuff\u001b[0m\u001b[1;33m.\u001b[0m\u001b[0mappend\u001b[0m\u001b[1;33m(\u001b[0m\u001b[1;34m\"#=> %s\"\u001b[0m \u001b[1;33m%\u001b[0m \u001b[0mname\u001b[0m\u001b[1;33m)\u001b[0m\u001b[1;33m\u001b[0m\u001b[1;33m\u001b[0m\u001b[0m\n\u001b[1;32m---> 50\u001b[1;33m         \u001b[0mbuff\u001b[0m\u001b[1;33m.\u001b[0m\u001b[0mappend\u001b[0m\u001b[1;33m(\u001b[0m\u001b[0mjson\u001b[0m\u001b[1;33m.\u001b[0m\u001b[0mdumps\u001b[0m\u001b[1;33m(\u001b[0m\u001b[0mencode4js\u001b[0m\u001b[1;33m(\u001b[0m\u001b[0marg\u001b[0m\u001b[1;33m,\u001b[0m \u001b[0mgrouplist\u001b[0m\u001b[1;33m=\u001b[0m\u001b[0mgrouplist\u001b[0m\u001b[1;33m)\u001b[0m\u001b[1;33m)\u001b[0m\u001b[1;33m)\u001b[0m\u001b[1;33m\u001b[0m\u001b[1;33m\u001b[0m\u001b[0m\n\u001b[0m\u001b[0;32m     51\u001b[0m     \u001b[0mbuff\u001b[0m\u001b[1;33m.\u001b[0m\u001b[0mappend\u001b[0m\u001b[1;33m(\u001b[0m\u001b[1;34m\"\"\u001b[0m\u001b[1;33m)\u001b[0m\u001b[1;33m\u001b[0m\u001b[1;33m\u001b[0m\u001b[0m\n\u001b[0;32m     52\u001b[0m     \u001b[1;32mwith\u001b[0m \u001b[0mopen\u001b[0m\u001b[1;33m(\u001b[0m\u001b[0mfname\u001b[0m\u001b[1;33m,\u001b[0m \u001b[1;34m\"w\"\u001b[0m\u001b[1;33m)\u001b[0m \u001b[1;32mas\u001b[0m \u001b[0mfh\u001b[0m\u001b[1;33m:\u001b[0m\u001b[1;33m\u001b[0m\u001b[1;33m\u001b[0m\u001b[0m\n",
      "\u001b[1;32m~\\Anaconda3\\envs\\UW\\lib\\site-packages\\larch\\utils\\jsonutils.py\u001b[0m in \u001b[0;36mencode4js\u001b[1;34m(obj, grouplist)\u001b[0m\n\u001b[0;32m     23\u001b[0m     \u001b[1;32mif\u001b[0m \u001b[0mgrouplist\u001b[0m \u001b[1;32mis\u001b[0m \u001b[1;32mnot\u001b[0m \u001b[1;32mNone\u001b[0m\u001b[1;33m:\u001b[0m\u001b[1;33m\u001b[0m\u001b[1;33m\u001b[0m\u001b[0m\n\u001b[0;32m     24\u001b[0m         \u001b[1;32mfor\u001b[0m \u001b[0mg\u001b[0m \u001b[1;32min\u001b[0m \u001b[0mgrouplist\u001b[0m\u001b[1;33m:\u001b[0m\u001b[1;33m\u001b[0m\u001b[1;33m\u001b[0m\u001b[0m\n\u001b[1;32m---> 25\u001b[1;33m             \u001b[0m_groups\u001b[0m\u001b[1;33m[\u001b[0m\u001b[0mg\u001b[0m\u001b[1;33m.\u001b[0m\u001b[0m__name__\u001b[0m\u001b[1;33m]\u001b[0m \u001b[1;33m=\u001b[0m \u001b[0mg\u001b[0m\u001b[1;33m\u001b[0m\u001b[1;33m\u001b[0m\u001b[0m\n\u001b[0m\u001b[0;32m     26\u001b[0m \u001b[1;33m\u001b[0m\u001b[0m\n\u001b[0;32m     27\u001b[0m     \u001b[1;32mif\u001b[0m \u001b[0misinstance\u001b[0m\u001b[1;33m(\u001b[0m\u001b[0mobj\u001b[0m\u001b[1;33m,\u001b[0m \u001b[0mnp\u001b[0m\u001b[1;33m.\u001b[0m\u001b[0mndarray\u001b[0m\u001b[1;33m)\u001b[0m\u001b[1;33m:\u001b[0m\u001b[1;33m\u001b[0m\u001b[1;33m\u001b[0m\u001b[0m\n",
      "\u001b[1;31mAttributeError\u001b[0m: 'tuple' object has no attribute '__name__'"
     ]
    }
   ],
   "source": [
    "import larch\n",
    "from larch import Group, Interpreter\n",
    "from larch import io\n",
    "    \n",
    "mylarch = Interpreter()\n",
    "\n",
    "x = [1, 2, 3, 4]\n",
    "y = [0.5, 1, 1, 0.1]\n",
    "z = ['a', 'b', 'c', 'd']\n",
    "g = Group('mygroup', x=x, y=y, z=z)\n",
    "\n",
    "io.save('test.lsav', g, _larch=mylarch)"
   ]
  },
  {
   "cell_type": "code",
   "execution_count": null,
   "metadata": {},
   "outputs": [],
   "source": []
  }
 ],
 "metadata": {
  "kernelspec": {
   "display_name": "Python 3",
   "language": "python",
   "name": "python3"
  },
  "language_info": {
   "codemirror_mode": {
    "name": "ipython",
    "version": 3
   },
   "file_extension": ".py",
   "mimetype": "text/x-python",
   "name": "python",
   "nbconvert_exporter": "python",
   "pygments_lexer": "ipython3",
   "version": "3.7.7"
  }
 },
 "nbformat": 4,
 "nbformat_minor": 4
}
