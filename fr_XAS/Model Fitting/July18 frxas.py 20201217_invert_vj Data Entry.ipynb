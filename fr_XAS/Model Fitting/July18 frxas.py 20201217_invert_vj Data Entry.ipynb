{
 "cells": [
  {
   "cell_type": "code",
   "execution_count": 1,
   "metadata": {},
   "outputs": [],
   "source": [
    "import sys, re, csv\n",
    "import traceback\n",
    "sys.path.insert(0, r'C:\\Users\\shadd\\OneDrive\\Documents\\Python\\frxas.py')\n",
    "import glob\n",
    "import numpy as np\n",
    "from numpy import fft\n",
    "import pandas as pd\n",
    "\n",
    "import matplotlib.pyplot as plt\n",
    "\n",
    "from frxas import time_domain, models, hdf5_io\n",
    "from lmfit import fit_report\n",
    "%reload_ext autoreload\n",
    "%autoreload 2"
   ]
  },
  {
   "cell_type": "markdown",
   "metadata": {},
   "source": [
    "### In variable names 'g' is gas index, and 'f' is frequency index. Ex: g2_f1_dict contains all the harmonic coefficients of data collected in the 2nd gas condition and the first frequency."
   ]
  },
  {
   "cell_type": "code",
   "execution_count": 2,
   "metadata": {},
   "outputs": [
    {
     "name": "stdout",
     "output_type": "stream",
     "text": [
      "21\n"
     ]
    }
   ],
   "source": [
    "g1_f1_files = glob.glob('..\\\\July2018 Data Fits\\\\1% O2\\\\20201217_invert_vj\\\\0.25 Hz 150 mV P[0-9]*_Ir.h5')\n",
    "# g1_f2_files = glob.glob('..\\\\July2018 Data Fits\\\\1% O2\\\\20201211_processed\\\\1 Hz 150 mV P[0-9]*_Ir.h5')\n",
    "g1_f1_dict = {}\n",
    "for f_name in g1_f1_files:\n",
    "    file = hdf5_io.load_time_domain_fit(f_name[:-3])\n",
    "    suffix = f_name.split('mV ')[-1].split('_')[0][1:]\n",
    "    g1_f1_dict = hdf5_io.extract_time_domain_fit(file, suffix, harmonics=4, fit_dict=g1_f1_dict)\n",
    "    \n",
    "print(len(list(g1_f1_dict['positions'].values())))"
   ]
  },
  {
   "cell_type": "code",
   "execution_count": 3,
   "metadata": {},
   "outputs": [
    {
     "name": "stdout",
     "output_type": "stream",
     "text": [
      "20\n"
     ]
    }
   ],
   "source": [
    "g1_f2_files = glob.glob('..\\\\July2018 Data Fits\\\\1% O2\\\\20201217_invert_vj\\\\1 Hz 150 mV P[0-9]*_Ir.h5')\n",
    "# g1_f2_files = glob.glob('..\\\\July2018 Data Fits\\\\1% O2\\\\20201211_processed\\\\1 Hz 150 mV P[0-9]*_Ir.h5')\n",
    "g1_f2_dict = {}\n",
    "for f_name in g1_f2_files:\n",
    "    file = hdf5_io.load_time_domain_fit(f_name[:-3])\n",
    "    suffix = f_name.split('mV ')[-1].split('_')[0][1:]\n",
    "    g1_f2_dict = hdf5_io.extract_time_domain_fit(file, suffix, harmonics=4, fit_dict=g1_f2_dict)\n",
    "\n",
    "print(len(list(g1_f2_dict['positions'].values())))"
   ]
  },
  {
   "cell_type": "code",
   "execution_count": 4,
   "metadata": {},
   "outputs": [
    {
     "name": "stdout",
     "output_type": "stream",
     "text": [
      "21\n"
     ]
    }
   ],
   "source": [
    "g1_f3_files = glob.glob('..\\\\July2018 Data Fits\\\\1% O2\\\\20201217_invert_vj\\\\4 Hz 150 mV P[0-9]*_Ir.h5')\n",
    "# g1_f2_files = glob.glob('..\\\\July2018 Data Fits\\\\1% O2\\\\20201211_processed\\\\1 Hz 150 mV P[0-9]*_Ir.h5')\n",
    "g1_f3_dict = {}\n",
    "for f_name in g1_f3_files:\n",
    "    file = hdf5_io.load_time_domain_fit(f_name[:-3])\n",
    "    suffix = f_name.split('mV ')[-1].split('_')[0][1:]\n",
    "    g1_f3_dict = hdf5_io.extract_time_domain_fit(file, suffix, harmonics=4, fit_dict=g1_f3_dict)\n",
    "\n",
    "print(len(list(g1_f3_dict['positions'].values())))"
   ]
  },
  {
   "cell_type": "code",
   "execution_count": 5,
   "metadata": {},
   "outputs": [
    {
     "name": "stdout",
     "output_type": "stream",
     "text": [
      "33\n"
     ]
    }
   ],
   "source": [
    "g2_f1_files = glob.glob('..\\\\July2018 Data Fits\\\\10% O2\\\\20201217_invert_vj\\\\0.25 Hz 150 mV P[0-9]*_Ir.h5')\n",
    "# g1_f2_files = glob.glob('..\\\\July2018 Data Fits\\\\1% O2\\\\20201211_processed\\\\1 Hz 150 mV P[0-9]*_Ir.h5')\n",
    "g2_f1_dict = {}\n",
    "for f_name in g2_f1_files:\n",
    "    file = hdf5_io.load_time_domain_fit(f_name[:-3])\n",
    "    suffix = f_name.split('mV ')[-1].split('_')[0][1:]\n",
    "    g2_f1_dict = hdf5_io.extract_time_domain_fit(file, suffix, harmonics=4, fit_dict=g2_f1_dict)\n",
    "\n",
    "print(len(list(g2_f1_dict['positions'].values())))"
   ]
  },
  {
   "cell_type": "code",
   "execution_count": 6,
   "metadata": {},
   "outputs": [
    {
     "name": "stdout",
     "output_type": "stream",
     "text": [
      "24\n"
     ]
    }
   ],
   "source": [
    "g2_f2_files = glob.glob('..\\\\July2018 Data Fits\\\\10% O2\\\\20201217_invert_vj\\\\1 Hz 150 mV P[0-9]*_Ir.h5')\n",
    "# g1_f2_files = glob.glob('..\\\\July2018 Data Fits\\\\1% O2\\\\20201211_processed\\\\1 Hz 150 mV P[0-9]*_Ir.h5')\n",
    "g2_f2_dict = {}\n",
    "for f_name in g2_f2_files:\n",
    "    file = hdf5_io.load_time_domain_fit(f_name[:-3])\n",
    "    suffix = f_name.split('mV ')[-1].split('_')[0][1:]\n",
    "    g2_f2_dict = hdf5_io.extract_time_domain_fit(file, suffix, harmonics=4, fit_dict=g2_f2_dict)\n",
    "\n",
    "print(len(list(g2_f2_dict['positions'].values())))"
   ]
  },
  {
   "cell_type": "code",
   "execution_count": 7,
   "metadata": {},
   "outputs": [
    {
     "name": "stdout",
     "output_type": "stream",
     "text": [
      "13\n"
     ]
    }
   ],
   "source": [
    "g2_f3_files = glob.glob('..\\\\July2018 Data Fits\\\\10% O2\\\\20201217_invert_vj\\\\5 Hz 150 mV P[0-9]*_Ir.h5')\n",
    "# g1_f2_files = glob.glob('..\\\\July2018 Data Fits\\\\1% O2\\\\20201211_processed\\\\1 Hz 150 mV P[0-9]*_Ir.h5')\n",
    "g2_f3_dict = {}\n",
    "for f_name in g2_f3_files:\n",
    "    file = hdf5_io.load_time_domain_fit(f_name[:-3])\n",
    "    suffix = f_name.split('mV ')[-1].split('_')[0][1:]\n",
    "    g2_f3_dict = hdf5_io.extract_time_domain_fit(file, suffix, harmonics=4, fit_dict=g2_f3_dict)\n",
    "\n",
    "print(len(list(g2_f3_dict['positions'].values())))"
   ]
  },
  {
   "cell_type": "code",
   "execution_count": 8,
   "metadata": {},
   "outputs": [
    {
     "name": "stdout",
     "output_type": "stream",
     "text": [
      "9\n"
     ]
    }
   ],
   "source": [
    "g3_f1_files = glob.glob('..\\\\July2018 Data Fits\\\\100% O2\\\\20201217_invert_vj\\\\0.5 Hz 150 mV P[0-9]*_Ir.h5')\n",
    "# g1_f2_files = glob.glob('..\\\\July2018 Data Fits\\\\1% O2\\\\20201211_processed\\\\1 Hz 150 mV P[0-9]*_Ir.h5')\n",
    "g3_f1_dict = {}\n",
    "for f_name in g3_f1_files:\n",
    "    file = hdf5_io.load_time_domain_fit(f_name[:-3])\n",
    "    suffix = f_name.split('mV ')[-1].split('_')[0][1:]\n",
    "    g3_f1_dict = hdf5_io.extract_time_domain_fit(file, suffix, harmonics=4, fit_dict=g3_f1_dict)\n",
    "\n",
    "print(len(list(g3_f1_dict['positions'].values())))"
   ]
  },
  {
   "cell_type": "code",
   "execution_count": 9,
   "metadata": {},
   "outputs": [
    {
     "name": "stdout",
     "output_type": "stream",
     "text": [
      "18\n"
     ]
    }
   ],
   "source": [
    "g3_f2_files = glob.glob('..\\\\July2018 Data Fits\\\\100% O2\\\\20201217_invert_vj\\\\8 Hz 150 mV P[0-9]*_Ir.h5')\n",
    "# g1_f2_files = glob.glob('..\\\\July2018 Data Fits\\\\1% O2\\\\20201211_processed\\\\1 Hz 150 mV P[0-9]*_Ir.h5')\n",
    "g3_f2_dict = {}\n",
    "for f_name in g3_f2_files:\n",
    "    file = hdf5_io.load_time_domain_fit(f_name[:-3])\n",
    "    suffix = f_name.split('mV ')[-1].split('_')[0][1:]\n",
    "    g3_f2_dict = hdf5_io.extract_time_domain_fit(file, suffix, harmonics=4, fit_dict=g3_f2_dict)\n",
    "\n",
    "print(len(list(g3_f2_dict['positions'].values())))"
   ]
  },
  {
   "cell_type": "markdown",
   "metadata": {},
   "source": [
    "### DC Profiles"
   ]
  },
  {
   "cell_type": "code",
   "execution_count": 10,
   "metadata": {},
   "outputs": [],
   "source": [
    "direc = 'G:\\\\My Drive\\\\UW Research\\\\fr-XAS July 2018\\\\Data\\\\XANES+Line Scans\\\\1% O2'\n",
    "\n",
    "dc_1_n150 = pd.read_csv(direc + '\\\\1%_n150mV.txt', sep='\\t')\n",
    "dc_1_p150 = pd.read_csv(direc + '\\\\1%_p150mV.txt', sep='\\t')\n",
    "\n",
    "direc = 'G:\\\\My Drive\\\\UW Research\\\\fr-XAS July 2018\\\\Data\\\\XANES+Line Scans\\\\10% O2'\n",
    "\n",
    "dc_10_n150 = pd.read_csv(direc + '\\\\10%_n150mV.txt', sep='\\t')\n",
    "dc_10_p150 = pd.read_csv(direc + '\\\\10%_p150mV.txt', sep='\\t')\n",
    "\n",
    "direc = 'G:\\\\My Drive\\\\UW Research\\\\fr-XAS July 2018\\\\Data\\\\XANES+Line Scans\\\\100% O2'\n",
    "\n",
    "dc_100_n150 = pd.read_csv(direc + '\\\\100%_n150mV.txt', sep='\\t')\n",
    "dc_100_p100 = pd.read_csv(direc + '\\\\100%_p100mV.txt', sep='\\t')"
   ]
  },
  {
   "cell_type": "code",
   "execution_count": 11,
   "metadata": {},
   "outputs": [
    {
     "name": "stdout",
     "output_type": "stream",
     "text": [
      "200    0.0\n",
      "Name: z, dtype: float64\n"
     ]
    },
    {
     "data": {
      "text/plain": [
       "(50.0, 90.0)"
      ]
     },
     "execution_count": 11,
     "metadata": {},
     "output_type": "execute_result"
    },
    {
     "data": {
      "image/png": "[encoded data removed]",
      "text/plain": [
       "<Figure size 432x288 with 1 Axes>"
      ]
     },
     "metadata": {
      "needs_background": "light"
     },
     "output_type": "display_data"
    }
   ],
   "source": [
    "pos = dc_1_n150.z\n",
    "negs = (dc_1_n150.bias / dc_1_n150.ocv) - 1\n",
    "posis = (dc_1_p150.bias / dc_1_p150.ocv) - 1\n",
    "means = (negs - posis) / 2\n",
    "\n",
    "plt.plot(pos, negs, '-x')\n",
    "plt.plot(pos, posis, '-x')\n",
    "plt.plot(pos, means, '-x')\n",
    "# plt.plot(hdf5_io.dict_vals_to_array(g1_f0_dict['positions']), hdf5_io.dict_vals_to_array(g1_f0_dict['h1_re']))\n",
    "print(pos.where(pos==0).dropna())\n",
    "plt.xlim(50, 90)\n",
    "# plt.ylim(-.025, .04)"
   ]
  },
  {
   "cell_type": "markdown",
   "metadata": {},
   "source": [
    "### Take out some outliers in 1%O2 data"
   ]
  },
  {
   "cell_type": "code",
   "execution_count": 12,
   "metadata": {},
   "outputs": [
    {
     "name": "stdout",
     "output_type": "stream",
     "text": [
      "263    63\n",
      "264    64\n",
      "265    65\n",
      "266    66\n",
      "267    67\n",
      "268    68\n",
      "269    69\n",
      "270    70\n",
      "271    71\n",
      "272    72\n",
      "273    73\n",
      "274    74\n",
      "275    75\n",
      "276    76\n",
      "277    77\n",
      "278    78\n",
      "279    79\n",
      "280    80\n",
      "281    81\n",
      "282    82\n",
      "Name: z, dtype: int64\n"
     ]
    }
   ],
   "source": [
    "drop_inds = list(range(263, 283))\n",
    "# drop_inds.append(278)\n",
    "# drop_inds.append(280)\n",
    "# drop_inds.append(282)\n",
    "print(pos[drop_inds])\n",
    "dc_1_n150 = dc_1_n150.drop(drop_inds)\n",
    "dc_1_p150 = dc_1_p150.drop(drop_inds)"
   ]
  },
  {
   "cell_type": "code",
   "execution_count": 13,
   "metadata": {},
   "outputs": [
    {
     "data": {
      "text/plain": [
       "(50.0, 90.0)"
      ]
     },
     "execution_count": 13,
     "metadata": {},
     "output_type": "execute_result"
    },
    {
     "data": {
      "image/png": "[encoded data removed]",
      "text/plain": [
       "<Figure size 432x288 with 1 Axes>"
      ]
     },
     "metadata": {
      "needs_background": "light"
     },
     "output_type": "display_data"
    }
   ],
   "source": [
    "pos = dc_1_n150.z\n",
    "negs = (dc_1_n150.bias / dc_1_n150.ocv) - 1\n",
    "posis = (dc_1_p150.bias / dc_1_p150.ocv) - 1\n",
    "means = (negs - posis) / 2\n",
    "\n",
    "plt.plot(pos, negs, '-x')\n",
    "plt.plot(pos, posis, '-x')\n",
    "plt.plot(pos, means, '-x')\n",
    "# plt.plot(hdf5_io.dict_vals_to_array(g1_f0_dict['positions']), hdf5_io.dict_vals_to_array(g1_f0_dict['h1_re']))\n",
    "\n",
    "plt.xlim(50, 90)\n",
    "# plt.ylim(-.025, .04)"
   ]
  },
  {
   "cell_type": "markdown",
   "metadata": {},
   "source": [
    "### Now 10% O2 data"
   ]
  },
  {
   "cell_type": "code",
   "execution_count": 14,
   "metadata": {},
   "outputs": [
    {
     "name": "stdout",
     "output_type": "stream",
     "text": [
      "148    0.0\n",
      "Name: z, dtype: float64\n"
     ]
    },
    {
     "data": {
      "text/plain": [
       "(50.0, 90.0)"
      ]
     },
     "execution_count": 14,
     "metadata": {},
     "output_type": "execute_result"
    },
    {
     "data": {
      "image/png": "[encoded data removed]",
      "text/plain": [
       "<Figure size 432x288 with 1 Axes>"
      ]
     },
     "metadata": {
      "needs_background": "light"
     },
     "output_type": "display_data"
    }
   ],
   "source": [
    "pos = dc_10_n150.z\n",
    "negs = (dc_10_n150.bias / dc_10_n150.ocv) - 1\n",
    "posis = (dc_10_p150.bias / dc_10_p150.ocv) - 1\n",
    "means = (negs - posis) / 2\n",
    "\n",
    "plt.plot(pos, negs, '-x')\n",
    "plt.plot(pos, posis, '-x')\n",
    "plt.plot(pos, means, '-x')\n",
    "# plt.plot(hdf5_io.dict_vals_to_array(g1_f0_dict['positions']), hdf5_io.dict_vals_to_array(g1_f0_dict['h1_re']))\n",
    "print(pos.where(pos==0).dropna())\n",
    "plt.xlim(50, 90)\n",
    "# plt.ylim(-.025, .04)"
   ]
  },
  {
   "cell_type": "markdown",
   "metadata": {},
   "source": [
    "### Take out some outliers in 10%O2 data"
   ]
  },
  {
   "cell_type": "code",
   "execution_count": 15,
   "metadata": {},
   "outputs": [
    {
     "name": "stdout",
     "output_type": "stream",
     "text": [
      "216    68\n",
      "217    69\n",
      "218    70\n",
      "219    71\n",
      "220    72\n",
      "221    73\n",
      "222    74\n",
      "223    75\n",
      "224    76\n",
      "225    77\n",
      "226    78\n",
      "227    79\n",
      "228    80\n",
      "Name: z, dtype: int64\n"
     ]
    }
   ],
   "source": [
    "drop_inds = list(range(216, 229))\n",
    "print(pos[drop_inds])\n",
    "dc_10_n150 = dc_10_n150.drop(drop_inds)\n",
    "dc_10_p150 = dc_10_p150.drop(drop_inds)"
   ]
  },
  {
   "cell_type": "code",
   "execution_count": 16,
   "metadata": {},
   "outputs": [
    {
     "data": {
      "text/plain": [
       "(50.0, 90.0)"
      ]
     },
     "execution_count": 16,
     "metadata": {},
     "output_type": "execute_result"
    },
    {
     "data": {
      "image/png": "[encoded data removed]",
      "text/plain": [
       "<Figure size 432x288 with 1 Axes>"
      ]
     },
     "metadata": {
      "needs_background": "light"
     },
     "output_type": "display_data"
    }
   ],
   "source": [
    "pos = dc_10_n150.z\n",
    "negs = (dc_10_n150.bias / dc_10_n150.ocv) - 1\n",
    "posis = (dc_10_p150.bias / dc_10_p150.ocv) - 1\n",
    "means = (negs - posis) / 2\n",
    "\n",
    "plt.plot(pos, negs, '-x')\n",
    "plt.plot(pos, posis, '-x')\n",
    "plt.plot(pos, means, '-x')\n",
    "# plt.plot(hdf5_io.dict_vals_to_array(g1_f0_dict['positions']), hdf5_io.dict_vals_to_array(g1_f0_dict['h1_re']))\n",
    "\n",
    "plt.xlim(50, 90)\n",
    "# plt.ylim(-.025, .04)"
   ]
  },
  {
   "cell_type": "markdown",
   "metadata": {},
   "source": [
    "### Now 100% O2 data"
   ]
  },
  {
   "cell_type": "code",
   "execution_count": 17,
   "metadata": {},
   "outputs": [
    {
     "name": "stdout",
     "output_type": "stream",
     "text": [
      "98    0.0\n",
      "Name: z, dtype: float64\n"
     ]
    },
    {
     "data": {
      "text/plain": [
       "(65.0, 95.0)"
      ]
     },
     "execution_count": 17,
     "metadata": {},
     "output_type": "execute_result"
    },
    {
     "data": {
      "image/png": "[encoded data removed]",
      "text/plain": [
       "<Figure size 432x288 with 1 Axes>"
      ]
     },
     "metadata": {
      "needs_background": "light"
     },
     "output_type": "display_data"
    }
   ],
   "source": [
    "pos = dc_100_n150.z\n",
    "negs = (dc_100_n150.bias / dc_100_n150.ocv) - 1\n",
    "posis = (dc_100_p100.bias / dc_100_p100.ocv) - 1\n",
    "means = (negs - posis*1.5) / 2\n",
    "\n",
    "plt.plot(pos, negs, '-x')\n",
    "plt.plot(pos, posis, '-x')\n",
    "plt.plot(pos, means, '-x')\n",
    "# plt.plot(hdf5_io.dict_vals_to_array(g1_f0_dict['positions']), hdf5_io.dict_vals_to_array(g1_f0_dict['h1_re']))\n",
    "print(pos.where(pos==0).dropna())\n",
    "plt.xlim(65, 95)\n",
    "# plt.ylim(-.025, .04)"
   ]
  },
  {
   "cell_type": "markdown",
   "metadata": {},
   "source": [
    "### Take out some outliers in 100% O2 data"
   ]
  },
  {
   "cell_type": "code",
   "execution_count": 18,
   "metadata": {},
   "outputs": [
    {
     "name": "stdout",
     "output_type": "stream",
     "text": [
      "174    76\n",
      "175    77\n",
      "176    78\n",
      "177    79\n",
      "178    80\n",
      "179    81\n",
      "180    82\n",
      "181    83\n",
      "182    84\n",
      "183    85\n",
      "184    86\n",
      "Name: z, dtype: int64\n"
     ]
    }
   ],
   "source": [
    "drop_inds = list(range(174, 185))\n",
    "print(pos[drop_inds])\n",
    "dc_100_n150 = dc_100_n150.drop(drop_inds)\n",
    "dc_100_p100 = dc_100_p100.drop(drop_inds)"
   ]
  },
  {
   "cell_type": "code",
   "execution_count": 19,
   "metadata": {},
   "outputs": [
    {
     "data": {
      "text/plain": [
       "(50.0, 95.0)"
      ]
     },
     "execution_count": 19,
     "metadata": {},
     "output_type": "execute_result"
    },
    {
     "data": {
      "image/png": "[encoded data removed]",
      "text/plain": [
       "<Figure size 432x288 with 1 Axes>"
      ]
     },
     "metadata": {
      "needs_background": "light"
     },
     "output_type": "display_data"
    }
   ],
   "source": [
    "pos = dc_100_n150.z\n",
    "negs = (dc_100_n150.bias / dc_100_n150.ocv) - 1\n",
    "posis = (dc_100_p100.bias / dc_100_p100.ocv) - 1\n",
    "means = (negs - posis) / 2\n",
    "\n",
    "plt.plot(pos, negs, '-x')\n",
    "plt.plot(pos, posis, '-x')\n",
    "plt.plot(pos, means, '-x')\n",
    "# plt.plot(hdf5_io.dict_vals_to_array(g1_f0_dict['positions']), hdf5_io.dict_vals_to_array(g1_f0_dict['h1_re']))\n",
    "\n",
    "plt.xlim(50, 95)\n",
    "# plt.ylim(-.025, .04)"
   ]
  },
  {
   "cell_type": "markdown",
   "metadata": {},
   "source": [
    "### We'll make dicts of DC data with the same format as osciallatory data"
   ]
  },
  {
   "cell_type": "code",
   "execution_count": 20,
   "metadata": {},
   "outputs": [],
   "source": [
    "g1_f0_dict = hdf5_io.extract_DC_profile(dc_1_n150, harmonics=4, pos_df=dc_1_p150)\n",
    "g2_f0_dict = hdf5_io.extract_DC_profile(dc_10_n150, harmonics=4, pos_df=dc_10_p150)\n",
    "g3_f0_dict = hdf5_io.extract_DC_profile(dc_100_n150, harmonics=4, pos_df=dc_100_p100)"
   ]
  },
  {
   "cell_type": "markdown",
   "metadata": {},
   "source": [
    "### Finally, create HDF5 file to store all the profiles."
   ]
  },
  {
   "cell_type": "code",
   "execution_count": 21,
   "metadata": {},
   "outputs": [],
   "source": [
    "po2s = ['1%_O2', '10%_O2', '100%_O2']\n",
    "hdf5_io.create_frxas_profile_hdf5('..\\\\Model Fitting\\\\July18_20201217_invert_vj', po2s)"
   ]
  },
  {
   "cell_type": "code",
   "execution_count": 22,
   "metadata": {},
   "outputs": [],
   "source": [
    "po2s = ['1%_O2', '10%_O2', '100%_O2']\n",
    "f1 = hdf5_io.open_hdf5('..\\\\Model Fitting\\\\July18_20201217_invert_vj')"
   ]
  },
  {
   "cell_type": "code",
   "execution_count": 23,
   "metadata": {},
   "outputs": [
    {
     "name": "stdout",
     "output_type": "stream",
     "text": [
      "Added Harmonic 1 to 0.01% 0.25 Hz\n",
      "Added Harmonic 2 to 0.01% 0.25 Hz\n",
      "Added Harmonic 3 to 0.01% 0.25 Hz\n",
      "Added Harmonic 4 to 0.01% 0.25 Hz\n",
      "Added Harmonic 1 to 0.01% 1 Hz\n",
      "Added Harmonic 2 to 0.01% 1 Hz\n",
      "Added Harmonic 3 to 0.01% 1 Hz\n",
      "Added Harmonic 4 to 0.01% 1 Hz\n",
      "Added Harmonic 1 to 0.01% 4 Hz\n",
      "Added Harmonic 2 to 0.01% 4 Hz\n",
      "Added Harmonic 3 to 0.01% 4 Hz\n",
      "Added Harmonic 4 to 0.01% 4 Hz\n",
      "Added Harmonic 1 to 0.01% 0 Hz\n",
      "Added Harmonic 2 to 0.01% 0 Hz\n",
      "Added Harmonic 3 to 0.01% 0 Hz\n",
      "Added Harmonic 4 to 0.01% 0 Hz\n"
     ]
    }
   ],
   "source": [
    "# 1% O2 data\n",
    "harmonics = 4\n",
    "g_freqs = [0.25, 1, 4, 0]\n",
    "g_dicts = [g1_f1_dict, g1_f2_dict, g1_f3_dict, g1_f0_dict]\n",
    "po2 = po2s[0]\n",
    "for f, g_dict in enumerate(g_dicts):\n",
    "    sort_ind = hdf5_io.dict_vals_to_array(g_dict['positions']).argsort()\n",
    "    positions = hdf5_io.dict_vals_to_array(g_dict['positions'])[sort_ind]\n",
    "    ir_avgs = hdf5_io.dict_vals_to_array(g_dict['ir_avg'])[sort_ind]\n",
    "    for k in range(1, harmonics+1):\n",
    "        re_vals = hdf5_io.dict_vals_to_array(g_dict[f'h{k}_re'])[sort_ind]\n",
    "        im_vals = hdf5_io.dict_vals_to_array(g_dict[f'h{k}_im'])[sort_ind]\n",
    "        data = np.array([re_vals, im_vals])\n",
    "        hdf5_io.add_frxas_profile(f1, po2, g_freqs[f], positions, data,\n",
    "                                  harmonic=k, ir_avgs=ir_avgs)"
   ]
  },
  {
   "cell_type": "code",
   "execution_count": 24,
   "metadata": {},
   "outputs": [
    {
     "name": "stdout",
     "output_type": "stream",
     "text": [
      "Added Harmonic 1 to 0.1% 0.25 Hz\n",
      "Added Harmonic 2 to 0.1% 0.25 Hz\n",
      "Added Harmonic 3 to 0.1% 0.25 Hz\n",
      "Added Harmonic 4 to 0.1% 0.25 Hz\n",
      "Added Harmonic 1 to 0.1% 1 Hz\n",
      "Added Harmonic 2 to 0.1% 1 Hz\n",
      "Added Harmonic 3 to 0.1% 1 Hz\n",
      "Added Harmonic 4 to 0.1% 1 Hz\n",
      "Added Harmonic 1 to 0.1% 5 Hz\n",
      "Added Harmonic 2 to 0.1% 5 Hz\n",
      "Added Harmonic 3 to 0.1% 5 Hz\n",
      "Added Harmonic 4 to 0.1% 5 Hz\n",
      "Added Harmonic 1 to 0.1% 0 Hz\n",
      "Added Harmonic 2 to 0.1% 0 Hz\n",
      "Added Harmonic 3 to 0.1% 0 Hz\n",
      "Added Harmonic 4 to 0.1% 0 Hz\n"
     ]
    }
   ],
   "source": [
    "# 10% O2 data\n",
    "harmonics = 4\n",
    "g_freqs = [0.25, 1, 5, 0]\n",
    "g_dicts = [g2_f1_dict, g2_f2_dict, g2_f3_dict, g2_f0_dict]\n",
    "po2 = po2s[1]\n",
    "for f, g_dict in enumerate(g_dicts):\n",
    "    sort_ind = hdf5_io.dict_vals_to_array(g_dict['positions']).argsort()\n",
    "    positions = hdf5_io.dict_vals_to_array(g_dict['positions'])[sort_ind]\n",
    "    ir_avgs = hdf5_io.dict_vals_to_array(g_dict['ir_avg'])[sort_ind]\n",
    "    for k in range(1, harmonics+1):\n",
    "        re_vals = hdf5_io.dict_vals_to_array(g_dict[f'h{k}_re'])[sort_ind]\n",
    "        im_vals = hdf5_io.dict_vals_to_array(g_dict[f'h{k}_im'])[sort_ind]\n",
    "        data = np.array([re_vals, im_vals])\n",
    "        hdf5_io.add_frxas_profile(f1, po2, g_freqs[f], positions, data,\n",
    "                                  harmonic=k, ir_avgs=ir_avgs)"
   ]
  },
  {
   "cell_type": "code",
   "execution_count": 25,
   "metadata": {},
   "outputs": [
    {
     "name": "stdout",
     "output_type": "stream",
     "text": [
      "Added Harmonic 1 to 1.0% 0.5 Hz\n",
      "Added Harmonic 2 to 1.0% 0.5 Hz\n",
      "Added Harmonic 3 to 1.0% 0.5 Hz\n",
      "Added Harmonic 4 to 1.0% 0.5 Hz\n",
      "Added Harmonic 1 to 1.0% 8 Hz\n",
      "Added Harmonic 2 to 1.0% 8 Hz\n",
      "Added Harmonic 3 to 1.0% 8 Hz\n",
      "Added Harmonic 4 to 1.0% 8 Hz\n",
      "Added Harmonic 1 to 1.0% 0 Hz\n",
      "Added Harmonic 2 to 1.0% 0 Hz\n",
      "Added Harmonic 3 to 1.0% 0 Hz\n",
      "Added Harmonic 4 to 1.0% 0 Hz\n"
     ]
    }
   ],
   "source": [
    "# 100% O2 data\n",
    "harmonics = 4\n",
    "g_freqs = [0.5, 8, 0]\n",
    "g_dicts = [g3_f1_dict, g3_f2_dict, g3_f0_dict]\n",
    "po2 = po2s[2]\n",
    "for f, g_dict in enumerate(g_dicts):\n",
    "    sort_ind = hdf5_io.dict_vals_to_array(g_dict['positions']).argsort()\n",
    "    positions = hdf5_io.dict_vals_to_array(g_dict['positions'])[sort_ind]\n",
    "    ir_avgs = hdf5_io.dict_vals_to_array(g_dict['ir_avg'])[sort_ind]\n",
    "    for k in range(1, harmonics+1):\n",
    "        re_vals = hdf5_io.dict_vals_to_array(g_dict[f'h{k}_re'])[sort_ind]\n",
    "        im_vals = hdf5_io.dict_vals_to_array(g_dict[f'h{k}_im'])[sort_ind]\n",
    "        data = np.array([re_vals, im_vals])\n",
    "        hdf5_io.add_frxas_profile(f1, po2, g_freqs[f], positions,\n",
    "                                  data, harmonic=k, ir_avgs=ir_avgs)"
   ]
  },
  {
   "cell_type": "code",
   "execution_count": 26,
   "metadata": {},
   "outputs": [],
   "source": [
    "f1.close()"
   ]
  },
  {
   "cell_type": "code",
   "execution_count": 28,
   "metadata": {},
   "outputs": [],
   "source": [
    "# Adding some exp conditions\n",
    "f1 = hdf5_io.open_hdf5('..\\\\Model Fitting\\\\July18_20201217_invert_vj')\n",
    "\n",
    "f1['1%_O2'].attrs['Gas'] = 0.01\n",
    "f1['1%_O2/0.25_Hz'].attrs['Start_Index'] = 4\n",
    "f1['1%_O2/1_Hz'].attrs['Start_Index'] = 2\n",
    "f1['1%_O2/4_Hz'].attrs['Start_Index'] = 2\n",
    "f1['1%_O2/0_Hz'].attrs['Start_Index'] = 199\n",
    "\n",
    "f1['10%_O2'].attrs['Gas'] = 0.10\n",
    "f1['10%_O2/0.25_Hz'].attrs['Start_Index'] = 4\n",
    "f1['10%_O2/1_Hz'].attrs['Start_Index'] = 6\n",
    "f1['10%_O2/5_Hz'].attrs['Start_Index'] = 0\n",
    "f1['10%_O2/0_Hz'].attrs['Start_Index'] = 147\n",
    "\n",
    "f1['100%_O2'].attrs['Gas'] = 1\n",
    "f1['100%_O2/0.5_Hz'].attrs['Start_Index'] = 1\n",
    "f1['100%_O2/8_Hz'].attrs['Start_Index'] = 2\n",
    "f1['100%_O2/0_Hz'].attrs['Start_Index'] = 97\n",
    "\n",
    "f1.close()"
   ]
  },
  {
   "cell_type": "markdown",
   "metadata": {},
   "source": [
    "# Old "
   ]
  },
  {
   "cell_type": "markdown",
   "metadata": {},
   "source": [
    "### Constructing postion dicts to add into profile files later"
   ]
  },
  {
   "cell_type": "code",
   "execution_count": 6,
   "metadata": {},
   "outputs": [],
   "source": [
    "direc = r'E:\\\\UW Research\\\\fr-XAS July 2018\\\\Data\\\\1% O2\\\\0.25 Hz 150 mV'\n",
    "all_files = glob.glob(direc + '\\\\P[0-9]*')\n",
    "all_files.sort(key=sortfunc)\n",
    "locs = [427,428,429,430,431,432,433,434,438,447,457,452,462,469,472,475,480,483,485,497,585]\n",
    "Pos1_0_25Hz = {}\n",
    "for loc, file in zip(locs,all_files):\n",
    "    point = file.split('\\\\')[-1]\n",
    "    Pos1_0_25Hz[point]=loc\n",
    "\n",
    "f0 = open('..\\\\July2018 Data Fits\\\\1% O2\\\\20201211_processed\\\\0.25 Hz Positions.csv', 'w+', newline='')\n",
    "f = csv.writer(f0)\n",
    "for key, val in Pos1_0_25Hz.items():\n",
    "    f.writerow([key, val])\n",
    "f0.close()"
   ]
  },
  {
   "cell_type": "code",
   "execution_count": 7,
   "metadata": {},
   "outputs": [],
   "source": [
    "# The files for \"15-2\" fuck up everything about sorting the list so that I don't have to rearrange the locs list. super annoying.\n",
    "points = ['1','2','3','4','5','6','7','8','9','10','11','12','13','14','16','17','18','19']\n",
    "locs = [431,432,433,434,435,436,437,438,439,443,450,453,458,463,475,484,543,465]\n",
    "Pos1_1Hz = {}\n",
    "for loc, point in zip(locs,points):\n",
    "    Pos1_1Hz[point]=loc\n",
    "\n",
    "f0 = open('..\\\\July2018 Data Fits\\\\1% O2\\\\20201211_processed\\\\1 Hz Positions.csv', 'w+', newline='')\n",
    "f = csv.writer(f0)\n",
    "for key, val in Pos1_1Hz.items():\n",
    "    f.writerow([key, val])\n",
    "f0.close()"
   ]
  },
  {
   "cell_type": "code",
   "execution_count": 8,
   "metadata": {},
   "outputs": [],
   "source": [
    "direc = r'D:\\\\UW Research\\\\fr-XAS July 2018\\\\Data\\\\1% O2\\\\4 Hz 150 mV'\n",
    "all_files = glob.glob(direc + '\\\\P[0-9]*')\n",
    "all_files.sort(key=sortfunc)\n",
    "locs = [433,434,435,436,437,438,431,432,439,440,441,442,443,444,445,447,449,480,446,451,444]\n",
    "Pos1_4Hz = {}\n",
    "for loc, file in zip(locs,all_files):\n",
    "    point = file.split('\\\\')[-1]\n",
    "    Pos1_4Hz[point]=loc\n",
    "\n",
    "f0 = open('..\\\\July2018 Data Fits\\\\1% O2\\\\20201211_processed\\\\4 Hz Positions.csv', 'w+', newline='')\n",
    "f = csv.writer(f0)\n",
    "for key, val in Pos1_4Hz.items():\n",
    "    f.writerow([key, val])\n",
    "f0.close()"
   ]
  },
  {
   "cell_type": "code",
   "execution_count": 9,
   "metadata": {},
   "outputs": [],
   "source": [
    "# The files for \"13-2\" and \"21-2\" fuck up everything about sorting the list so that I don't have to rearrange the locs list. super annoying.\n",
    "points = ['1','2','3','4','5','6','7','8','9','10','11','12','14','15','13-2','16','17','18','19','20','22','21-2','23','24','25','26','27','28','29','30','31','32','33']\n",
    "locs = [408,409,410,411,412,413,414,417,420,423,415,426,432,435,429,443,451,459,467,475,495,485,454,457,462,465,448,445,427,437,421,418,416]\n",
    "Pos10_0_25Hz = {}\n",
    "for loc, point in zip(locs,points):\n",
    "    Pos10_0_25Hz[point]=loc\n",
    "\n",
    "f0 = open('..\\\\July2018 Data Fits\\\\10% O2\\\\20201211_processed\\\\0.25 Hz Positions.csv', 'w+', newline='')\n",
    "f = csv.writer(f0)\n",
    "for key, val in Pos10_0_25Hz.items():\n",
    "    f.writerow([key, val])\n",
    "f0.close()"
   ]
  },
  {
   "cell_type": "code",
   "execution_count": 10,
   "metadata": {},
   "outputs": [],
   "source": [
    "direc = r'D:\\\\UW Research\\\\fr-XAS July 2018\\\\Data\\\\10% O2\\\\1 Hz 150 mV'\n",
    "all_files = glob.glob(direc + '\\\\P[0-9]*')\n",
    "all_files.sort(key=sortfunc)\n",
    "locs = [408,409,410,411,412,413,414,415,416,417,419,421,423,425,427,429,432,435,438,440,442,439,444,454]\n",
    "Pos10_1Hz = {}\n",
    "for loc, file in zip(locs,all_files):\n",
    "    point = file.split('\\\\')[-1]\n",
    "    Pos10_1Hz[point]=loc\n",
    "\n",
    "f0 = open('..\\\\July2018 Data Fits\\\\10% O2\\\\20201211_processed\\\\1 Hz Positions.csv', 'w+', newline='')\n",
    "f = csv.writer(f0)\n",
    "for key, val in Pos10_1Hz.items():\n",
    "    f.writerow([key, val])\n",
    "f0.close()"
   ]
  },
  {
   "cell_type": "code",
   "execution_count": 11,
   "metadata": {},
   "outputs": [],
   "source": [
    "direc = r'D:\\\\UW Research\\\\fr-XAS July 2018\\\\Data\\\\10% O2\\\\5 Hz 150 mV'\n",
    "all_files = glob.glob(direc + '\\\\P[0-9]*')\n",
    "all_files.sort(key=sortfunc)\n",
    "locs = [412,414,416,418,420,422,424,426,428,430,432,434,444]\n",
    "Pos10_5Hz = {}\n",
    "for loc, file in zip(locs,all_files):\n",
    "    point = file.split('\\\\')[-1]\n",
    "    Pos10_5Hz[point]=loc\n",
    "\n",
    "f0 = open('..\\\\July2018 Data Fits\\\\10% O2\\\\20201211_processed\\\\5 Hz Positions.csv', 'w+', newline='')\n",
    "f = csv.writer(f0)\n",
    "for key, val in Pos10_5Hz.items():\n",
    "    f.writerow([key, val])\n",
    "f0.close()"
   ]
  },
  {
   "cell_type": "code",
   "execution_count": 12,
   "metadata": {},
   "outputs": [],
   "source": [
    "direc = r'D:\\\\UW Research\\\\fr-XAS July 2018\\\\Data\\\\100% O2\\\\0.5 Hz 150 mV'\n",
    "all_files = glob.glob(direc + '\\\\P[0-9]*')\n",
    "all_files.sort(key=sortfunc)\n",
    "locs = [419,419.5,420,422,424,427,446,460,438]\n",
    "Pos100_0_5Hz = {}\n",
    "for loc, file in zip(locs,all_files):\n",
    "    point = file.split('\\\\')[-1]\n",
    "    Pos100_0_5Hz[point]=loc\n",
    "\n",
    "f0 = open('..\\\\July2018 Data Fits\\\\100% O2\\\\20201211_processed\\\\0.5 Hz Positions.csv', 'w+', newline='')\n",
    "f = csv.writer(f0)\n",
    "for key, val in Pos100_0_5Hz.items():\n",
    "    f.writerow([key, val])\n",
    "f0.close()"
   ]
  },
  {
   "cell_type": "code",
   "execution_count": 13,
   "metadata": {},
   "outputs": [],
   "source": [
    "direc = r'D:\\\\UW Research\\\\fr-XAS July 2018\\\\Data\\\\100% O2\\\\8 Hz 150 mV'\n",
    "all_files = glob.glob(direc + '\\\\P[0-9]*')\n",
    "all_files.sort(key=sortfunc)\n",
    "locs = [418.5,419,419.5,420,420.5,421,421.5,422,422.5,423,425,427,429,430,425.5,428,424,485]\n",
    "Pos100_8Hz = {}\n",
    "for loc, file in zip(locs,all_files):\n",
    "    point = file.split('\\\\')[-1]\n",
    "    Pos100_8Hz[point]=loc\n",
    "\n",
    "f0 = open('..\\\\July2018 Data Fits\\\\100% O2\\\\20201211_processed\\\\8 Hz Positions.csv', 'w+', newline='')\n",
    "f = csv.writer(f0)\n",
    "for key, val in Pos100_8Hz.items():\n",
    "    f.writerow([key, val])\n",
    "f0.close()"
   ]
  },
  {
   "cell_type": "markdown",
   "metadata": {},
   "source": [
    "## Reading in time domain fit reports\n",
    "### 1% O2"
   ]
  },
  {
   "cell_type": "code",
   "execution_count": 14,
   "metadata": {},
   "outputs": [],
   "source": [
    "harmonics = 4\n",
    "\n",
    "re_dict, im_dict = {}, {}\n",
    "\n",
    "for i in range(1, harmonics+1):\n",
    "    re_dict[f'h{i}'] = []\n",
    "    im_dict[f'h{i}'] = []"
   ]
  },
  {
   "cell_type": "code",
   "execution_count": 36,
   "metadata": {},
   "outputs": [
    {
     "name": "stdout",
     "output_type": "stream",
     "text": [
      "..\\July2018 Data Fits\\1% O2\\20201211_processed\\0.25 Hz 150 mV P1_Ir.h5\n",
      "..\\July2018 Data Fits\\1% O2\\20201211_processed\\0.25 Hz 150 mV P2_Ir.h5\n",
      "..\\July2018 Data Fits\\1% O2\\20201211_processed\\0.25 Hz 150 mV P3_Ir.h5\n",
      "..\\July2018 Data Fits\\1% O2\\20201211_processed\\0.25 Hz 150 mV P4_Ir.h5\n",
      "..\\July2018 Data Fits\\1% O2\\20201211_processed\\0.25 Hz 150 mV P5_Ir.h5\n",
      "..\\July2018 Data Fits\\1% O2\\20201211_processed\\0.25 Hz 150 mV P6_Ir.h5\n",
      "..\\July2018 Data Fits\\1% O2\\20201211_processed\\0.25 Hz 150 mV P7_Ir.h5\n",
      "..\\July2018 Data Fits\\1% O2\\20201211_processed\\0.25 Hz 150 mV P8_Ir.h5\n",
      "..\\July2018 Data Fits\\1% O2\\20201211_processed\\0.25 Hz 150 mV P9_Ir.h5\n",
      "..\\July2018 Data Fits\\1% O2\\20201211_processed\\0.25 Hz 150 mV P10_Ir.h5\n",
      "..\\July2018 Data Fits\\1% O2\\20201211_processed\\0.25 Hz 150 mV P11_Ir.h5\n",
      "..\\July2018 Data Fits\\1% O2\\20201211_processed\\0.25 Hz 150 mV P12_Ir.h5\n",
      "..\\July2018 Data Fits\\1% O2\\20201211_processed\\0.25 Hz 150 mV P13_Ir.h5\n",
      "..\\July2018 Data Fits\\1% O2\\20201211_processed\\0.25 Hz 150 mV P14_Ir.h5\n",
      "..\\July2018 Data Fits\\1% O2\\20201211_processed\\0.25 Hz 150 mV P15_Ir.h5\n",
      "..\\July2018 Data Fits\\1% O2\\20201211_processed\\0.25 Hz 150 mV P16_Ir.h5\n",
      "..\\July2018 Data Fits\\1% O2\\20201211_processed\\0.25 Hz 150 mV P17_Ir.h5\n",
      "..\\July2018 Data Fits\\1% O2\\20201211_processed\\0.25 Hz 150 mV P18_Ir.h5\n",
      "..\\July2018 Data Fits\\1% O2\\20201211_processed\\0.25 Hz 150 mV P19_Ir.h5\n",
      "..\\July2018 Data Fits\\1% O2\\20201211_processed\\0.25 Hz 150 mV P20_Ir.h5\n",
      "..\\July2018 Data Fits\\1% O2\\20201211_processed\\0.25 Hz 150 mV P21_Ir.h5\n"
     ]
    }
   ],
   "source": [
    "Pos1_0_25Hz = np.genfromtxt('..\\\\July2018 Data Fits\\\\1% O2\\\\20201211_processed\\\\0.25 Hz Positions.csv', delimiter=',')[:,1]\n",
    "Re1_0_25Hz_H1, Im1_0_25Hz_H1 = [], []\n",
    "Re1_0_25Hz_H2, Im1_0_25Hz_H2 = [], []\n",
    "Re1_0_25Hz_H3, Im1_0_25Hz_H3 = [], []\n",
    "Re1_0_25Hz_H4, Im1_0_25Hz_H4 = [], []\n",
    "all_files = glob.glob('..\\\\July2018 Data Fits\\\\1% O2\\\\20201211_processed\\\\0.25 Hz 150 mV P[0-9]*_Ir.h5')\n",
    "all_files.sort(key=sortfunc2)\n",
    "for file in all_files:\n",
    "    print(file)\n",
    "    dum = hdf5_io.load_time_domain_fit(file[:-3])\n",
    "    Re1_0_25Hz_H1.append(dum.params['h1_re_comp'].value)\n",
    "    Im1_0_25Hz_H1.append(dum.params['h1_im_comp'].value)\n",
    "    Re1_0_25Hz_H2.append(dum.params['h2_re_comp'].value)\n",
    "    Im1_0_25Hz_H2.append(dum.params['h2_im_comp'].value)\n",
    "    Re1_0_25Hz_H3.append(dum.params['h3_re_comp'].value)\n",
    "    Im1_0_25Hz_H3.append(dum.params['h3_im_comp'].value)\n",
    "    Re1_0_25Hz_H4.append(dum.params['h4_re_comp'].value)\n",
    "    Im1_0_25Hz_H4.append(dum.params['h4_im_comp'].value)\n",
    "\n",
    "Re1_0_25Hz_H1 = sort_by_pos(Re1_0_25Hz_H1, Pos1_0_25Hz)\n",
    "Im1_0_25Hz_H1 = sort_by_pos(Im1_0_25Hz_H1, Pos1_0_25Hz)\n",
    "Re1_0_25Hz_H2 = sort_by_pos(Re1_0_25Hz_H2, Pos1_0_25Hz)\n",
    "Im1_0_25Hz_H2 = sort_by_pos(Im1_0_25Hz_H2, Pos1_0_25Hz)\n",
    "Re1_0_25Hz_H3 = sort_by_pos(Re1_0_25Hz_H3, Pos1_0_25Hz)\n",
    "Im1_0_25Hz_H3 = sort_by_pos(Im1_0_25Hz_H3, Pos1_0_25Hz)\n",
    "Re1_0_25Hz_H4 = sort_by_pos(Re1_0_25Hz_H4, Pos1_0_25Hz)\n",
    "Im1_0_25Hz_H4 = sort_by_pos(Im1_0_25Hz_H4, Pos1_0_25Hz)\n",
    "Pos1_0_25Hz = sort_by_pos(Pos1_0_25Hz, Pos1_0_25Hz)"
   ]
  },
  {
   "cell_type": "code",
   "execution_count": 38,
   "metadata": {},
   "outputs": [
    {
     "name": "stdout",
     "output_type": "stream",
     "text": [
      "July2018 Data Fits\\1% O2\\1 Hz 150 mV P1_Ir.h5\n",
      "July2018 Data Fits\\1% O2\\1 Hz 150 mV P2_Ir.h5\n",
      "July2018 Data Fits\\1% O2\\1 Hz 150 mV P3_Ir.h5\n",
      "July2018 Data Fits\\1% O2\\1 Hz 150 mV P4_Ir.h5\n",
      "July2018 Data Fits\\1% O2\\1 Hz 150 mV P5_Ir.h5\n",
      "July2018 Data Fits\\1% O2\\1 Hz 150 mV P6_Ir.h5\n",
      "July2018 Data Fits\\1% O2\\1 Hz 150 mV P7_Ir.h5\n",
      "July2018 Data Fits\\1% O2\\1 Hz 150 mV P8_Ir.h5\n",
      "July2018 Data Fits\\1% O2\\1 Hz 150 mV P9_Ir.h5\n",
      "July2018 Data Fits\\1% O2\\1 Hz 150 mV P10_Ir.h5\n",
      "July2018 Data Fits\\1% O2\\1 Hz 150 mV P11_Ir.h5\n",
      "July2018 Data Fits\\1% O2\\1 Hz 150 mV P12_Ir.h5\n",
      "July2018 Data Fits\\1% O2\\1 Hz 150 mV P13_Ir.h5\n",
      "July2018 Data Fits\\1% O2\\1 Hz 150 mV P14_Ir.h5\n",
      "July2018 Data Fits\\1% O2\\1 Hz 150 mV P16_Ir.h5\n",
      "July2018 Data Fits\\1% O2\\1 Hz 150 mV P17_Ir.h5\n",
      "July2018 Data Fits\\1% O2\\1 Hz 150 mV P18_Ir.h5\n",
      "July2018 Data Fits\\1% O2\\1 Hz 150 mV P19_Ir.h5\n"
     ]
    }
   ],
   "source": [
    "Pos1_1Hz = np.genfromtxt('..\\\\July2018 Data Fits\\\\1% O2\\\\20201211_processed\\\\1 Hz Positions.csv', delimiter=',')[:,1]\n",
    "Re1_1Hz_H1, Im1_1Hz_H1 = [], []\n",
    "Re1_1Hz_H2, Im1_1Hz_H2 = [], []\n",
    "Re1_1Hz_H3, Im1_1Hz_H3 = [], []\n",
    "Re1_1Hz_H4, Im1_1Hz_H4 = [], []\n",
    "points = ['1','2','3','4','5','6','7','8','9','10','11','12','13','14','16','17','18','19']\n",
    "for point in points:\n",
    "    print(f'July2018 Data Fits\\\\1% O2\\\\1 Hz 150 mV P{point}_Ir.h5')\n",
    "    dum = hdf5_io.load_time_domain_fit(f'..\\\\July2018 Data Fits\\\\1% O2\\\\20201211_processed\\\\1 Hz 150 mV P{point}_Ir')\n",
    "    Re1_1Hz_H1.append(dum.params['h1_re_comp'].value)\n",
    "    Im1_1Hz_H1.append(dum.params['h1_im_comp'].value)\n",
    "    Re1_1Hz_H2.append(dum.params['h2_re_comp'].value)\n",
    "    Im1_1Hz_H2.append(dum.params['h2_im_comp'].value)\n",
    "    Re1_1Hz_H3.append(dum.params['h3_re_comp'].value)\n",
    "    Im1_1Hz_H3.append(dum.params['h3_im_comp'].value)\n",
    "    Re1_1Hz_H4.append(dum.params['h4_re_comp'].value)\n",
    "    Im1_1Hz_H4.append(dum.params['h4_im_comp'].value)\n",
    "\n",
    "Re1_1Hz_H1 = sort_by_pos(Re1_1Hz_H1, Pos1_1Hz)\n",
    "Im1_1Hz_H1 = sort_by_pos(Im1_1Hz_H1, Pos1_1Hz)\n",
    "Re1_1Hz_H2 = sort_by_pos(Re1_1Hz_H2, Pos1_1Hz)\n",
    "Im1_1Hz_H2 = sort_by_pos(Im1_1Hz_H2, Pos1_1Hz)\n",
    "Re1_1Hz_H3 = sort_by_pos(Re1_1Hz_H3, Pos1_1Hz)\n",
    "Im1_1Hz_H3 = sort_by_pos(Im1_1Hz_H3, Pos1_1Hz)\n",
    "Re1_1Hz_H4 = sort_by_pos(Re1_1Hz_H4, Pos1_1Hz)\n",
    "Im1_1Hz_H4 = sort_by_pos(Im1_1Hz_H4, Pos1_1Hz)\n",
    "Pos1_1Hz = sort_by_pos(Pos1_1Hz, Pos1_1Hz)"
   ]
  },
  {
   "cell_type": "code",
   "execution_count": 40,
   "metadata": {},
   "outputs": [
    {
     "name": "stdout",
     "output_type": "stream",
     "text": [
      "..\\July2018 Data Fits\\1% O2\\20201211_processed\\4 Hz 150 mV P1_Ir.h5\n",
      "..\\July2018 Data Fits\\1% O2\\20201211_processed\\4 Hz 150 mV P2_Ir.h5\n",
      "..\\July2018 Data Fits\\1% O2\\20201211_processed\\4 Hz 150 mV P3_Ir.h5\n",
      "..\\July2018 Data Fits\\1% O2\\20201211_processed\\4 Hz 150 mV P4_Ir.h5\n",
      "..\\July2018 Data Fits\\1% O2\\20201211_processed\\4 Hz 150 mV P5_Ir.h5\n",
      "..\\July2018 Data Fits\\1% O2\\20201211_processed\\4 Hz 150 mV P6_Ir.h5\n",
      "..\\July2018 Data Fits\\1% O2\\20201211_processed\\4 Hz 150 mV P7_Ir.h5\n",
      "..\\July2018 Data Fits\\1% O2\\20201211_processed\\4 Hz 150 mV P8_Ir.h5\n",
      "..\\July2018 Data Fits\\1% O2\\20201211_processed\\4 Hz 150 mV P9_Ir.h5\n",
      "..\\July2018 Data Fits\\1% O2\\20201211_processed\\4 Hz 150 mV P10_Ir.h5\n",
      "..\\July2018 Data Fits\\1% O2\\20201211_processed\\4 Hz 150 mV P11_Ir.h5\n",
      "..\\July2018 Data Fits\\1% O2\\20201211_processed\\4 Hz 150 mV P12_Ir.h5\n",
      "..\\July2018 Data Fits\\1% O2\\20201211_processed\\4 Hz 150 mV P13_Ir.h5\n",
      "..\\July2018 Data Fits\\1% O2\\20201211_processed\\4 Hz 150 mV P14_Ir.h5\n",
      "..\\July2018 Data Fits\\1% O2\\20201211_processed\\4 Hz 150 mV P15_Ir.h5\n",
      "..\\July2018 Data Fits\\1% O2\\20201211_processed\\4 Hz 150 mV P16_Ir.h5\n",
      "..\\July2018 Data Fits\\1% O2\\20201211_processed\\4 Hz 150 mV P17_Ir.h5\n",
      "..\\July2018 Data Fits\\1% O2\\20201211_processed\\4 Hz 150 mV P18_Ir.h5\n",
      "..\\July2018 Data Fits\\1% O2\\20201211_processed\\4 Hz 150 mV P19_Ir.h5\n",
      "..\\July2018 Data Fits\\1% O2\\20201211_processed\\4 Hz 150 mV P20_Ir.h5\n",
      "..\\July2018 Data Fits\\1% O2\\20201211_processed\\4 Hz 150 mV P21_Ir.h5\n"
     ]
    }
   ],
   "source": [
    "Pos1_4Hz = np.genfromtxt('..\\\\July2018 Data Fits\\\\1% O2\\\\20201211_processed\\\\4 Hz Positions.csv', delimiter=',')[:,1]\n",
    "Re1_4Hz_H1, Im1_4Hz_H1 = [], []\n",
    "Re1_4Hz_H2, Im1_4Hz_H2 = [], []\n",
    "Re1_4Hz_H3, Im1_4Hz_H3 = [], []\n",
    "Re1_4Hz_H4, Im1_4Hz_H4 = [], []\n",
    "all_files = glob.glob('..\\\\July2018 Data Fits\\\\1% O2\\\\20201211_processed\\\\4 Hz 150 mV P[0-9]*_Ir.h5')\n",
    "all_files.sort(key=sortfunc2)\n",
    "for file in all_files:\n",
    "    print(file)\n",
    "    dum = hdf5_io.load_time_domain_fit(file[:-3])\n",
    "    Re1_4Hz_H1.append(dum.params['h1_re_comp'].value)\n",
    "    Im1_4Hz_H1.append(dum.params['h1_im_comp'].value)\n",
    "    Re1_4Hz_H2.append(dum.params['h2_re_comp'].value)\n",
    "    Im1_4Hz_H2.append(dum.params['h2_im_comp'].value)\n",
    "    Re1_4Hz_H3.append(dum.params['h3_re_comp'].value)\n",
    "    Im1_4Hz_H3.append(dum.params['h3_im_comp'].value)\n",
    "    Re1_4Hz_H4.append(dum.params['h4_re_comp'].value)\n",
    "    Im1_4Hz_H4.append(dum.params['h4_im_comp'].value)\n",
    "    \n",
    "Re1_4Hz_H1 = sort_by_pos(Re1_4Hz_H1, Pos1_4Hz)\n",
    "Im1_4Hz_H1 = sort_by_pos(Im1_4Hz_H1, Pos1_4Hz)\n",
    "Re1_4Hz_H2 = sort_by_pos(Re1_4Hz_H2, Pos1_4Hz)\n",
    "Im1_4Hz_H2 = sort_by_pos(Im1_4Hz_H2, Pos1_4Hz)\n",
    "Re1_4Hz_H3 = sort_by_pos(Re1_4Hz_H3, Pos1_4Hz)\n",
    "Im1_4Hz_H3 = sort_by_pos(Im1_4Hz_H3, Pos1_4Hz)\n",
    "Re1_4Hz_H4 = sort_by_pos(Re1_4Hz_H4, Pos1_4Hz)\n",
    "Im1_4Hz_H4 = sort_by_pos(Im1_4Hz_H4, Pos1_4Hz)\n",
    "Pos1_4Hz = sort_by_pos(Pos1_4Hz, Pos1_4Hz)"
   ]
  },
  {
   "cell_type": "markdown",
   "metadata": {},
   "source": [
    "### 10% O2"
   ]
  },
  {
   "cell_type": "code",
   "execution_count": 42,
   "metadata": {},
   "outputs": [
    {
     "name": "stdout",
     "output_type": "stream",
     "text": [
      "July2018 Data Fits\\10% O2\\0.25 Hz 150 mV P1_Ir.h5\n",
      "July2018 Data Fits\\10% O2\\0.25 Hz 150 mV P2_Ir.h5\n",
      "July2018 Data Fits\\10% O2\\0.25 Hz 150 mV P3_Ir.h5\n",
      "July2018 Data Fits\\10% O2\\0.25 Hz 150 mV P4_Ir.h5\n",
      "July2018 Data Fits\\10% O2\\0.25 Hz 150 mV P5_Ir.h5\n",
      "July2018 Data Fits\\10% O2\\0.25 Hz 150 mV P6_Ir.h5\n",
      "July2018 Data Fits\\10% O2\\0.25 Hz 150 mV P7_Ir.h5\n",
      "July2018 Data Fits\\10% O2\\0.25 Hz 150 mV P8_Ir.h5\n",
      "July2018 Data Fits\\10% O2\\0.25 Hz 150 mV P9_Ir.h5\n",
      "July2018 Data Fits\\10% O2\\0.25 Hz 150 mV P10_Ir.h5\n",
      "July2018 Data Fits\\10% O2\\0.25 Hz 150 mV P11_Ir.h5\n",
      "July2018 Data Fits\\10% O2\\0.25 Hz 150 mV P12_Ir.h5\n",
      "July2018 Data Fits\\10% O2\\0.25 Hz 150 mV P14_Ir.h5\n",
      "July2018 Data Fits\\10% O2\\0.25 Hz 150 mV P15_Ir.h5\n",
      "July2018 Data Fits\\10% O2\\0.25 Hz 150 mV P13-2_Ir.h5\n",
      "July2018 Data Fits\\10% O2\\0.25 Hz 150 mV P16_Ir.h5\n",
      "July2018 Data Fits\\10% O2\\0.25 Hz 150 mV P17_Ir.h5\n",
      "July2018 Data Fits\\10% O2\\0.25 Hz 150 mV P18_Ir.h5\n",
      "July2018 Data Fits\\10% O2\\0.25 Hz 150 mV P19_Ir.h5\n",
      "July2018 Data Fits\\10% O2\\0.25 Hz 150 mV P20_Ir.h5\n",
      "July2018 Data Fits\\10% O2\\0.25 Hz 150 mV P22_Ir.h5\n",
      "July2018 Data Fits\\10% O2\\0.25 Hz 150 mV P21-2_Ir.h5\n",
      "July2018 Data Fits\\10% O2\\0.25 Hz 150 mV P23_Ir.h5\n",
      "July2018 Data Fits\\10% O2\\0.25 Hz 150 mV P24_Ir.h5\n",
      "July2018 Data Fits\\10% O2\\0.25 Hz 150 mV P25_Ir.h5\n",
      "July2018 Data Fits\\10% O2\\0.25 Hz 150 mV P26_Ir.h5\n",
      "July2018 Data Fits\\10% O2\\0.25 Hz 150 mV P27_Ir.h5\n",
      "July2018 Data Fits\\10% O2\\0.25 Hz 150 mV P28_Ir.h5\n",
      "July2018 Data Fits\\10% O2\\0.25 Hz 150 mV P29_Ir.h5\n",
      "July2018 Data Fits\\10% O2\\0.25 Hz 150 mV P30_Ir.h5\n",
      "July2018 Data Fits\\10% O2\\0.25 Hz 150 mV P31_Ir.h5\n",
      "July2018 Data Fits\\10% O2\\0.25 Hz 150 mV P32_Ir.h5\n",
      "July2018 Data Fits\\10% O2\\0.25 Hz 150 mV P33_Ir.h5\n",
      "33\n"
     ]
    }
   ],
   "source": [
    "Pos10_0_25Hz = np.genfromtxt('..\\\\July2018 Data Fits\\\\10% O2\\\\20201211_processed\\\\0.25 Hz Positions.csv', delimiter=',')[:,1]\n",
    "Re10_0_25Hz_H1, Im10_0_25Hz_H1 = [], []\n",
    "Re10_0_25Hz_H2, Im10_0_25Hz_H2 = [], []\n",
    "Re10_0_25Hz_H3, Im10_0_25Hz_H3 = [], []\n",
    "Re10_0_25Hz_H4, Im10_0_25Hz_H4 = [], []\n",
    "points = ['1','2','3','4','5','6','7','8','9','10','11','12','14','15','13-2','16','17','18','19','20','22','21-2','23','24','25','26','27','28','29','30','31','32','33']\n",
    "for point in points:\n",
    "    print(f'July2018 Data Fits\\\\10% O2\\\\0.25 Hz 150 mV P{point}_Ir.h5')\n",
    "    dum = hdf5_io.load_time_domain_fit(f'..\\\\July2018 Data Fits\\\\10% O2\\\\20201211_processed\\\\0.25 Hz 150 mV P{point}_Ir')\n",
    "    Re10_0_25Hz_H1.append(dum.params['h1_re_comp'].value)\n",
    "    Im10_0_25Hz_H1.append(dum.params['h1_im_comp'].value)\n",
    "    Re10_0_25Hz_H2.append(dum.params['h2_re_comp'].value)\n",
    "    Im10_0_25Hz_H2.append(dum.params['h2_im_comp'].value)\n",
    "    Re10_0_25Hz_H3.append(dum.params['h3_re_comp'].value)\n",
    "    Im10_0_25Hz_H3.append(dum.params['h3_im_comp'].value)\n",
    "    Re10_0_25Hz_H4.append(dum.params['h4_re_comp'].value)\n",
    "    Im10_0_25Hz_H4.append(dum.params['h4_im_comp'].value)\n",
    "    \n",
    "Re10_0_25Hz_H1 = sort_by_pos(Re10_0_25Hz_H1, Pos10_0_25Hz)\n",
    "Im10_0_25Hz_H1 = sort_by_pos(Im10_0_25Hz_H1, Pos10_0_25Hz)\n",
    "Re10_0_25Hz_H2 = sort_by_pos(Re10_0_25Hz_H2, Pos10_0_25Hz)\n",
    "Im10_0_25Hz_H2 = sort_by_pos(Im10_0_25Hz_H2, Pos10_0_25Hz)\n",
    "Re10_0_25Hz_H3 = sort_by_pos(Re10_0_25Hz_H3, Pos10_0_25Hz)\n",
    "Im10_0_25Hz_H3 = sort_by_pos(Im10_0_25Hz_H3, Pos10_0_25Hz)\n",
    "Re10_0_25Hz_H4 = sort_by_pos(Re10_0_25Hz_H4, Pos10_0_25Hz)\n",
    "Im10_0_25Hz_H4 = sort_by_pos(Im10_0_25Hz_H4, Pos10_0_25Hz)\n",
    "print(len(Re10_0_25Hz_H1))\n",
    "Pos10_0_25Hz = sort_by_pos(Pos10_0_25Hz, Pos10_0_25Hz)"
   ]
  },
  {
   "cell_type": "code",
   "execution_count": 44,
   "metadata": {},
   "outputs": [
    {
     "name": "stdout",
     "output_type": "stream",
     "text": [
      "..\\July2018 Data Fits\\10% O2\\20201211_processed\\1 Hz 150 mV P1_Ir.h5\n",
      "..\\July2018 Data Fits\\10% O2\\20201211_processed\\1 Hz 150 mV P2_Ir.h5\n",
      "..\\July2018 Data Fits\\10% O2\\20201211_processed\\1 Hz 150 mV P3_Ir.h5\n",
      "..\\July2018 Data Fits\\10% O2\\20201211_processed\\1 Hz 150 mV P4_Ir.h5\n",
      "..\\July2018 Data Fits\\10% O2\\20201211_processed\\1 Hz 150 mV P5_Ir.h5\n",
      "..\\July2018 Data Fits\\10% O2\\20201211_processed\\1 Hz 150 mV P6_Ir.h5\n",
      "..\\July2018 Data Fits\\10% O2\\20201211_processed\\1 Hz 150 mV P7_Ir.h5\n",
      "..\\July2018 Data Fits\\10% O2\\20201211_processed\\1 Hz 150 mV P8_Ir.h5\n",
      "..\\July2018 Data Fits\\10% O2\\20201211_processed\\1 Hz 150 mV P9_Ir.h5\n",
      "..\\July2018 Data Fits\\10% O2\\20201211_processed\\1 Hz 150 mV P10_Ir.h5\n",
      "..\\July2018 Data Fits\\10% O2\\20201211_processed\\1 Hz 150 mV P11_Ir.h5\n",
      "..\\July2018 Data Fits\\10% O2\\20201211_processed\\1 Hz 150 mV P12_Ir.h5\n",
      "..\\July2018 Data Fits\\10% O2\\20201211_processed\\1 Hz 150 mV P13_Ir.h5\n",
      "..\\July2018 Data Fits\\10% O2\\20201211_processed\\1 Hz 150 mV P14_Ir.h5\n",
      "..\\July2018 Data Fits\\10% O2\\20201211_processed\\1 Hz 150 mV P15_Ir.h5\n",
      "..\\July2018 Data Fits\\10% O2\\20201211_processed\\1 Hz 150 mV P16_Ir.h5\n",
      "..\\July2018 Data Fits\\10% O2\\20201211_processed\\1 Hz 150 mV P17_Ir.h5\n",
      "..\\July2018 Data Fits\\10% O2\\20201211_processed\\1 Hz 150 mV P18_Ir.h5\n",
      "..\\July2018 Data Fits\\10% O2\\20201211_processed\\1 Hz 150 mV P19_Ir.h5\n",
      "..\\July2018 Data Fits\\10% O2\\20201211_processed\\1 Hz 150 mV P20_Ir.h5\n",
      "..\\July2018 Data Fits\\10% O2\\20201211_processed\\1 Hz 150 mV P21_Ir.h5\n",
      "..\\July2018 Data Fits\\10% O2\\20201211_processed\\1 Hz 150 mV P22_Ir.h5\n",
      "..\\July2018 Data Fits\\10% O2\\20201211_processed\\1 Hz 150 mV P23_Ir.h5\n",
      "..\\July2018 Data Fits\\10% O2\\20201211_processed\\1 Hz 150 mV P24_Ir.h5\n"
     ]
    }
   ],
   "source": [
    "Pos10_1Hz = np.genfromtxt('..\\\\July2018 Data Fits\\\\10% O2\\\\20201211_processed\\\\1 Hz Positions.csv', delimiter=',')[:,1]\n",
    "Re10_1Hz_H1, Im10_1Hz_H1 = [], []\n",
    "Re10_1Hz_H2, Im10_1Hz_H2 = [], []\n",
    "Re10_1Hz_H3, Im10_1Hz_H3 = [], []\n",
    "Re10_1Hz_H4, Im10_1Hz_H4 = [], []\n",
    "all_files = glob.glob('..\\\\July2018 Data Fits\\\\10% O2\\\\20201211_processed\\\\1 Hz 150 mV P[0-9]*_Ir.h5')\n",
    "all_files.sort(key=sortfunc2)\n",
    "for file in all_files:\n",
    "    print(file)\n",
    "    dum = hdf5_io.load_time_domain_fit(file[:-3])\n",
    "    Re10_1Hz_H1.append(dum.params['h1_re_comp'].value)\n",
    "    Im10_1Hz_H1.append(dum.params['h1_im_comp'].value)\n",
    "    Re10_1Hz_H2.append(dum.params['h2_re_comp'].value)\n",
    "    Im10_1Hz_H2.append(dum.params['h2_im_comp'].value)\n",
    "    Re10_1Hz_H3.append(dum.params['h3_re_comp'].value)\n",
    "    Im10_1Hz_H3.append(dum.params['h3_im_comp'].value)\n",
    "    Re10_1Hz_H4.append(dum.params['h4_re_comp'].value)\n",
    "    Im10_1Hz_H4.append(dum.params['h4_im_comp'].value)\n",
    "    \n",
    "Re10_1Hz_H1 = sort_by_pos(Re10_1Hz_H1, Pos10_1Hz)\n",
    "Im10_1Hz_H1 = sort_by_pos(Im10_1Hz_H1, Pos10_1Hz)\n",
    "Re10_1Hz_H2 = sort_by_pos(Re10_1Hz_H2, Pos10_1Hz)\n",
    "Im10_1Hz_H2 = sort_by_pos(Im10_1Hz_H2, Pos10_1Hz)\n",
    "Re10_1Hz_H3 = sort_by_pos(Re10_1Hz_H3, Pos10_1Hz)\n",
    "Im10_1Hz_H3 = sort_by_pos(Im10_1Hz_H3, Pos10_1Hz)\n",
    "Re10_1Hz_H4 = sort_by_pos(Re10_1Hz_H4, Pos10_1Hz)\n",
    "Im10_1Hz_H4 = sort_by_pos(Im10_1Hz_H4, Pos10_1Hz)\n",
    "Pos10_1Hz = sort_by_pos(Pos10_1Hz, Pos10_1Hz)"
   ]
  },
  {
   "cell_type": "code",
   "execution_count": 45,
   "metadata": {},
   "outputs": [
    {
     "name": "stdout",
     "output_type": "stream",
     "text": [
      "..\\July2018 Data Fits\\10% O2\\20201211_processed\\5 Hz 150 mV P1_Ir.h5\n",
      "..\\July2018 Data Fits\\10% O2\\20201211_processed\\5 Hz 150 mV P2_Ir.h5\n",
      "..\\July2018 Data Fits\\10% O2\\20201211_processed\\5 Hz 150 mV P3_Ir.h5\n",
      "..\\July2018 Data Fits\\10% O2\\20201211_processed\\5 Hz 150 mV P4_Ir.h5\n",
      "..\\July2018 Data Fits\\10% O2\\20201211_processed\\5 Hz 150 mV P5_Ir.h5\n",
      "..\\July2018 Data Fits\\10% O2\\20201211_processed\\5 Hz 150 mV P6_Ir.h5\n",
      "..\\July2018 Data Fits\\10% O2\\20201211_processed\\5 Hz 150 mV P7_Ir.h5\n",
      "..\\July2018 Data Fits\\10% O2\\20201211_processed\\5 Hz 150 mV P8_Ir.h5\n",
      "..\\July2018 Data Fits\\10% O2\\20201211_processed\\5 Hz 150 mV P9_Ir.h5\n",
      "..\\July2018 Data Fits\\10% O2\\20201211_processed\\5 Hz 150 mV P10_Ir.h5\n",
      "..\\July2018 Data Fits\\10% O2\\20201211_processed\\5 Hz 150 mV P11_Ir.h5\n",
      "..\\July2018 Data Fits\\10% O2\\20201211_processed\\5 Hz 150 mV P12_Ir.h5\n",
      "..\\July2018 Data Fits\\10% O2\\20201211_processed\\5 Hz 150 mV P13_Ir.h5\n"
     ]
    }
   ],
   "source": [
    "Pos10_5Hz = np.genfromtxt('..\\\\July2018 Data Fits\\\\10% O2\\\\20201211_processed\\\\5 Hz Positions.csv', delimiter=',')[:,1]\n",
    "Re10_5Hz_H1, Im10_5Hz_H1 = [], []\n",
    "Re10_5Hz_H2, Im10_5Hz_H2 = [], []\n",
    "Re10_5Hz_H3, Im10_5Hz_H3 = [], []\n",
    "Re10_5Hz_H4, Im10_5Hz_H4 = [], []\n",
    "all_files = glob.glob('..\\\\July2018 Data Fits\\\\10% O2\\\\20201211_processed\\\\5 Hz 150 mV P[0-9]*_Ir.h5')\n",
    "all_files.sort(key=sortfunc2)\n",
    "for file in all_files:\n",
    "    print(file)\n",
    "    dum = hdf5_io.load_time_domain_fit(file[:-3])\n",
    "    Re10_5Hz_H1.append(dum.params['h1_re_comp'].value)\n",
    "    Im10_5Hz_H1.append(dum.params['h1_im_comp'].value)\n",
    "    Re10_5Hz_H2.append(dum.params['h2_re_comp'].value)\n",
    "    Im10_5Hz_H2.append(dum.params['h2_im_comp'].value)\n",
    "    Re10_5Hz_H3.append(dum.params['h3_re_comp'].value)\n",
    "    Im10_5Hz_H3.append(dum.params['h3_im_comp'].value)\n",
    "    Re10_5Hz_H4.append(dum.params['h4_re_comp'].value)\n",
    "    Im10_5Hz_H4.append(dum.params['h4_im_comp'].value)\n",
    "    \n",
    "Re10_5Hz_H1 = sort_by_pos(Re10_5Hz_H1, Pos10_5Hz)\n",
    "Im10_5Hz_H1 = sort_by_pos(Im10_5Hz_H1, Pos10_5Hz)\n",
    "Re10_5Hz_H2 = sort_by_pos(Re10_5Hz_H2, Pos10_5Hz)\n",
    "Im10_5Hz_H2 = sort_by_pos(Im10_5Hz_H2, Pos10_5Hz)\n",
    "Re10_5Hz_H3 = sort_by_pos(Re10_5Hz_H3, Pos10_5Hz)\n",
    "Im10_5Hz_H3 = sort_by_pos(Im10_5Hz_H3, Pos10_5Hz)\n",
    "Re10_5Hz_H4 = sort_by_pos(Re10_5Hz_H4, Pos10_5Hz)\n",
    "Im10_5Hz_H4 = sort_by_pos(Im10_5Hz_H4, Pos10_5Hz)\n",
    "Pos10_5Hz = sort_by_pos(Pos10_5Hz, Pos10_5Hz)"
   ]
  },
  {
   "cell_type": "markdown",
   "metadata": {},
   "source": [
    "### 100% O2"
   ]
  },
  {
   "cell_type": "code",
   "execution_count": 47,
   "metadata": {},
   "outputs": [
    {
     "name": "stdout",
     "output_type": "stream",
     "text": [
      "..\\July2018 Data Fits\\100% O2\\20201211_processed\\0.5 Hz 150 mV P1_Ir.h5\n",
      "..\\July2018 Data Fits\\100% O2\\20201211_processed\\0.5 Hz 150 mV P2_Ir.h5\n",
      "..\\July2018 Data Fits\\100% O2\\20201211_processed\\0.5 Hz 150 mV P3_Ir.h5\n",
      "..\\July2018 Data Fits\\100% O2\\20201211_processed\\0.5 Hz 150 mV P4_Ir.h5\n",
      "..\\July2018 Data Fits\\100% O2\\20201211_processed\\0.5 Hz 150 mV P5_Ir.h5\n",
      "..\\July2018 Data Fits\\100% O2\\20201211_processed\\0.5 Hz 150 mV P6_Ir.h5\n",
      "..\\July2018 Data Fits\\100% O2\\20201211_processed\\0.5 Hz 150 mV P7_Ir.h5\n",
      "..\\July2018 Data Fits\\100% O2\\20201211_processed\\0.5 Hz 150 mV P8_Ir.h5\n",
      "..\\July2018 Data Fits\\100% O2\\20201211_processed\\0.5 Hz 150 mV P9_Ir.h5\n"
     ]
    }
   ],
   "source": [
    "Pos100_0_5Hz = np.genfromtxt('..\\\\July2018 Data Fits\\\\100% O2\\\\20201211_processed\\\\0.5 Hz Positions.csv', delimiter=',')[:,1]\n",
    "Re100_0_5Hz_H1, Im100_0_5Hz_H1 = [], []\n",
    "Re100_0_5Hz_H2, Im100_0_5Hz_H2 = [], []\n",
    "Re100_0_5Hz_H3, Im100_0_5Hz_H3 = [], []\n",
    "Re100_0_5Hz_H4, Im100_0_5Hz_H4 = [], []\n",
    "all_files = glob.glob('..\\\\July2018 Data Fits\\\\100% O2\\\\20201211_processed\\\\0.5 Hz 150 mV P[0-9]*_Ir.h5')\n",
    "all_files.sort(key=sortfunc2)\n",
    "for file in all_files:\n",
    "    print(file)\n",
    "    dum = hdf5_io.load_time_domain_fit(file[:-3])\n",
    "    Re100_0_5Hz_H1.append(dum.params['h1_re_comp'].value)\n",
    "    Im100_0_5Hz_H1.append(dum.params['h1_im_comp'].value)\n",
    "    Re100_0_5Hz_H2.append(dum.params['h2_re_comp'].value)\n",
    "    Im100_0_5Hz_H2.append(dum.params['h2_im_comp'].value)\n",
    "    Re100_0_5Hz_H3.append(dum.params['h3_re_comp'].value)\n",
    "    Im100_0_5Hz_H3.append(dum.params['h3_im_comp'].value)\n",
    "    Re100_0_5Hz_H4.append(dum.params['h4_re_comp'].value)\n",
    "    Im100_0_5Hz_H4.append(dum.params['h4_im_comp'].value)\n",
    "    \n",
    "Re100_0_5Hz_H1 = sort_by_pos(Re100_0_5Hz_H1, Pos100_0_5Hz)\n",
    "Im100_0_5Hz_H1 = sort_by_pos(Im100_0_5Hz_H1, Pos100_0_5Hz)\n",
    "Re100_0_5Hz_H2 = sort_by_pos(Re100_0_5Hz_H2, Pos100_0_5Hz)\n",
    "Im100_0_5Hz_H2 = sort_by_pos(Im100_0_5Hz_H2, Pos100_0_5Hz)\n",
    "Re100_0_5Hz_H3 = sort_by_pos(Re100_0_5Hz_H3, Pos100_0_5Hz)\n",
    "Im100_0_5Hz_H3 = sort_by_pos(Im100_0_5Hz_H3, Pos100_0_5Hz)\n",
    "Re100_0_5Hz_H4 = sort_by_pos(Re100_0_5Hz_H4, Pos100_0_5Hz)\n",
    "Im100_0_5Hz_H4 = sort_by_pos(Im100_0_5Hz_H4, Pos100_0_5Hz)\n",
    "Pos100_0_5Hz = sort_by_pos(Pos100_0_5Hz, Pos100_0_5Hz)"
   ]
  },
  {
   "cell_type": "code",
   "execution_count": 48,
   "metadata": {},
   "outputs": [
    {
     "name": "stdout",
     "output_type": "stream",
     "text": [
      "..\\July2018 Data Fits\\100% O2\\20201211_processed\\8 Hz 150 mV P1_Ir.h5\n",
      "..\\July2018 Data Fits\\100% O2\\20201211_processed\\8 Hz 150 mV P2_Ir.h5\n",
      "..\\July2018 Data Fits\\100% O2\\20201211_processed\\8 Hz 150 mV P3_Ir.h5\n",
      "..\\July2018 Data Fits\\100% O2\\20201211_processed\\8 Hz 150 mV P4_Ir.h5\n",
      "..\\July2018 Data Fits\\100% O2\\20201211_processed\\8 Hz 150 mV P5_Ir.h5\n",
      "..\\July2018 Data Fits\\100% O2\\20201211_processed\\8 Hz 150 mV P6_Ir.h5\n",
      "..\\July2018 Data Fits\\100% O2\\20201211_processed\\8 Hz 150 mV P7_Ir.h5\n",
      "..\\July2018 Data Fits\\100% O2\\20201211_processed\\8 Hz 150 mV P8_Ir.h5\n",
      "..\\July2018 Data Fits\\100% O2\\20201211_processed\\8 Hz 150 mV P9_Ir.h5\n",
      "..\\July2018 Data Fits\\100% O2\\20201211_processed\\8 Hz 150 mV P10_Ir.h5\n",
      "..\\July2018 Data Fits\\100% O2\\20201211_processed\\8 Hz 150 mV P11_Ir.h5\n",
      "..\\July2018 Data Fits\\100% O2\\20201211_processed\\8 Hz 150 mV P12_Ir.h5\n",
      "..\\July2018 Data Fits\\100% O2\\20201211_processed\\8 Hz 150 mV P13_Ir.h5\n",
      "..\\July2018 Data Fits\\100% O2\\20201211_processed\\8 Hz 150 mV P14_Ir.h5\n",
      "..\\July2018 Data Fits\\100% O2\\20201211_processed\\8 Hz 150 mV P15_Ir.h5\n",
      "..\\July2018 Data Fits\\100% O2\\20201211_processed\\8 Hz 150 mV P16_Ir.h5\n",
      "..\\July2018 Data Fits\\100% O2\\20201211_processed\\8 Hz 150 mV P17_Ir.h5\n",
      "..\\July2018 Data Fits\\100% O2\\20201211_processed\\8 Hz 150 mV P18_Ir.h5\n"
     ]
    }
   ],
   "source": [
    "Pos100_8Hz = np.genfromtxt('..\\\\July2018 Data Fits\\\\100% O2\\\\20201211_processed\\\\8 Hz Positions.csv', delimiter=',')[:,1]\n",
    "Re100_8Hz_H1, Im100_8Hz_H1 = [], []\n",
    "Re100_8Hz_H2, Im100_8Hz_H2 = [], []\n",
    "Re100_8Hz_H3, Im100_8Hz_H3 = [], []\n",
    "Re100_8Hz_H4, Im100_8Hz_H4 = [], []\n",
    "all_files = glob.glob('..\\\\July2018 Data Fits\\\\100% O2\\\\20201211_processed\\\\8 Hz 150 mV P[0-9]*_Ir.h5')\n",
    "all_files.sort(key=sortfunc2)\n",
    "for file in all_files:\n",
    "    print(file)\n",
    "    dum = hdf5_io.load_time_domain_fit(file[:-3])\n",
    "    Re100_8Hz_H1.append(dum.params['h1_re_comp'].value)\n",
    "    Im100_8Hz_H1.append(dum.params['h1_im_comp'].value)\n",
    "    Re100_8Hz_H2.append(dum.params['h2_re_comp'].value)\n",
    "    Im100_8Hz_H2.append(dum.params['h2_im_comp'].value)\n",
    "    Re100_8Hz_H3.append(dum.params['h3_re_comp'].value)\n",
    "    Im100_8Hz_H3.append(dum.params['h3_im_comp'].value)\n",
    "    Re100_8Hz_H4.append(dum.params['h4_re_comp'].value)\n",
    "    Im100_8Hz_H4.append(dum.params['h4_im_comp'].value)\n",
    "    \n",
    "Re100_8Hz_H1 = sort_by_pos(Re100_8Hz_H1, Pos100_8Hz)\n",
    "Im100_8Hz_H1 = sort_by_pos(Im100_8Hz_H1, Pos100_8Hz)\n",
    "Re100_8Hz_H2 = sort_by_pos(Re100_8Hz_H2, Pos100_8Hz)\n",
    "Im100_8Hz_H2 = sort_by_pos(Im100_8Hz_H2, Pos100_8Hz)\n",
    "Re100_8Hz_H3 = sort_by_pos(Re100_8Hz_H3, Pos100_8Hz)\n",
    "Im100_8Hz_H3 = sort_by_pos(Im100_8Hz_H3, Pos100_8Hz)\n",
    "Re100_8Hz_H4 = sort_by_pos(Re100_8Hz_H4, Pos100_8Hz)\n",
    "Im100_8Hz_H4 = sort_by_pos(Im100_8Hz_H4, Pos100_8Hz)\n",
    "Pos100_8Hz = sort_by_pos(Pos100_8Hz, Pos100_8Hz)"
   ]
  },
  {
   "cell_type": "code",
   "execution_count": null,
   "metadata": {},
   "outputs": [],
   "source": []
  }
 ],
 "metadata": {
  "kernelspec": {
   "display_name": "Python 3",
   "language": "python",
   "name": "python3"
  },
  "language_info": {
   "codemirror_mode": {
    "name": "ipython",
    "version": 3
   },
   "file_extension": ".py",
   "mimetype": "text/x-python",
   "name": "python",
   "nbconvert_exporter": "python",
   "pygments_lexer": "ipython3",
   "version": "3.7.7"
  }
 },
 "nbformat": 4,
 "nbformat_minor": 4
}
