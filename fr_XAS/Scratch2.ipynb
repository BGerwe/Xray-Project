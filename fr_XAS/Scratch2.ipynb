{
 "cells": [
  {
   "cell_type": "code",
   "execution_count": 44,
   "metadata": {},
   "outputs": [],
   "source": [
    "import numpy as np\n",
    "import pandas as pd\n",
    "import glob\n",
    "import os\n",
    "import cmath\n",
    "from decimal import *\n",
    "from matplotlib import pyplot as plt\n",
    "%reload_ext autoreload\n",
    "%autoreload 2"
   ]
  },
  {
   "cell_type": "code",
   "execution_count": 93,
   "metadata": {},
   "outputs": [],
   "source": [
    "#These will eventually be input variables \n",
    "P='P1' \n",
    "A=1\n",
    "path=r'G:/My Drive/UW Research/fr-XAS October 2018/Data/1% O2/0.5 Hz'\n",
    "initfile=0\n",
    "finfile=2\n",
    "filestr=str(P + ' '+str('%.3f'%float(A))+ ' '+\"*0*.txt\")\n",
    "# filestr"
   ]
  },
  {
   "cell_type": "code",
   "execution_count": 95,
   "metadata": {},
   "outputs": [
    {
     "name": "stdout",
     "output_type": "stream",
     "text": [
      "1\n",
      "(4, 252000, 1) [0.20588935]\n",
      "2\n",
      "(4, 252000, 2) [0.20588935 0.15928144]\n",
      "3\n",
      "(4, 252000, 3) [0.20588935 0.15928144 0.11842144]\n",
      "4\n",
      "(4, 252000, 4) [0.20588935 0.15928144 0.11842144 0.07606199]\n",
      "5\n",
      "(4, 252000, 5) [0.20588935 0.15928144 0.11842144 0.07606199 0.03713879]\n"
     ]
    },
    {
     "data": {
      "text/plain": [
       "239.99880761999998"
      ]
     },
     "execution_count": 95,
     "metadata": {},
     "output_type": "execute_result"
    }
   ],
   "source": [
    "%autoreload\n",
    "Ampa=np.r_[1:6]\n",
    "Xrayraw=False\n",
    "import datain\n",
    "data=[]\n",
    "for n in Ampa:\n",
    "    if n == 1:\n",
    "        print(n)\n",
    "        data=np.array(datain.getdata(P,n,path,initfile,finfile,False,Xrayraw))\n",
    "        print(np.shape(data),data[2,525])\n",
    "    else:\n",
    "        print(n)\n",
    "        data=np.concatenate((data,datain.getdata(P,n,path,initfile,finfile,False,Xrayraw)),axis=2)\n",
    "        print(np.shape(data),data[2,525])\n",
    "if Xrayraw==True:\n",
    "    Io=data[0,:,:]\n",
    "    If=data[1,:,:]\n",
    "    J=data[2,:,:]\n",
    "    V=data[3,:,:]\n",
    "    t=data[4,:,:]\n",
    "    Ir=If/Io\n",
    "    dt=t[1,0]\n",
    "else:\n",
    "    Ir=data[0,:,:]\n",
    "    J=data[1,:,:]\n",
    "    V=data[2,:,:]\n",
    "    t=data[3,:,:]\n",
    "    dt=t[1,0]\n",
    "Ns=V[:,0].size\n",
    "t[-1,0]"
   ]
  },
  {
   "cell_type": "code",
   "execution_count": 104,
   "metadata": {},
   "outputs": [
    {
     "data": {
      "text/plain": [
       "239.99880761999998"
      ]
     },
     "execution_count": 104,
     "metadata": {},
     "output_type": "execute_result"
    }
   ],
   "source": [
    "Ns=V[:,0].size\n",
    "t[-1,0]"
   ]
  },
  {
   "cell_type": "code",
   "execution_count": 114,
   "metadata": {},
   "outputs": [
    {
     "name": "stdout",
     "output_type": "stream",
     "text": [
      "0.19931272134526823 -1.5654663926613661 (0.001062318646968624-0.19930989029435756j)\n",
      "0.5000005000005001\n"
     ]
    }
   ],
   "source": [
    "Vfft=np.fft.fftshift(np.fft.fft(V[:,0])/(Ns/2))\n",
    "Jfft=np.fft.fftshift(np.fft.fft(J[:,0])/(Ns/2))\n",
    "Ifft=np.fft.fftshift(np.fft.fft(Ir[:,0])/(Ns/2))\n",
    "freq=np.fft.fftshift(np.fft.fftfreq(Ns,dt))\n",
    "\n",
    "bin1=fftbin(0.5, freq,t,\"Real\",0)\n",
    "\n",
    "print(np.abs(Vfft[bin1]),np.angle(Vfft[bin1]),Vfft[bin1])\n",
    "print(freq[bin1])"
   ]
  },
  {
   "cell_type": "code",
   "execution_count": 109,
   "metadata": {},
   "outputs": [
    {
     "name": "stdout",
     "output_type": "stream",
     "text": [
      "126000 0.0 126120 0.5000005000005001\n"
     ]
    }
   ],
   "source": [
    "Ns=np.size(t,0)\n",
    "1/t[1,0]\n",
    "freq2=np.fft.fftshift(np.fft.fftfreq(Ns,dt))\n",
    "print(int(np.size(freq2,0)/2),freq2[int(np.size(freq2,0)/2)],fftbin(0.5,freq,t,\"Real\",0), freq[fftbin(0.5,freq,t,\"Real\",0)])"
   ]
  },
  {
   "cell_type": "code",
   "execution_count": 107,
   "metadata": {},
   "outputs": [],
   "source": [
    "def P2R(radii, angles):\n",
    "    return radii * np.exp(1j*angles)\n",
    "\n",
    "def fftbin(freqin,freqlist, t, FFTtype, harmonic):\n",
    "    tmeas=np.ceil(t[-1,0])\n",
    "    Ns=np.size(t,0)\n",
    "    fs=1/t[1,0]\n",
    "    if FFTtype==\"Real\" or FFTtype==\"Imag\":\n",
    "        bin=int(np.size(freqlist)/2+freqin*tmeas)\n",
    "        mid=np.size(freqlist)/2\n",
    "        return bin\n",
    "        \n",
    "    "
   ]
  },
  {
   "cell_type": "code",
   "execution_count": 92,
   "metadata": {},
   "outputs": [
    {
     "data": {
      "text/plain": [
       "21020"
      ]
     },
     "execution_count": 92,
     "metadata": {},
     "output_type": "execute_result"
    }
   ],
   "source": [
    "fftbin(0.5,freq,t,\"Real\",0)"
   ]
  },
  {
   "cell_type": "code",
   "execution_count": 115,
   "metadata": {},
   "outputs": [
    {
     "name": "stdout",
     "output_type": "stream",
     "text": [
      "0.19931272134526823 -0.11409092527407494 (0.1980169269858442-0.022690471946158256j)\n"
     ]
    }
   ],
   "source": [
    "Vpol=[]\n",
    "Vang=np.angle(Vfft)\n",
    "Jang=np.angle(Jfft)\n",
    "Iang=np.angle(Ifft)\n",
    "\n",
    "Vmag=np.abs(Vfft)\n",
    "Jmag=np.abs(Jfft)\n",
    "Imag=np.abs(Ifft)\n",
    "\n",
    "Vang2=Vang-Vang[-20]\n",
    "Jang2=Jang-Vang[-20]\n",
    "Iang2=Iang-Vang[-20]\n",
    "\n",
    "Vfft2=P2R(Vmag,Vang2)\n",
    "Jfft2=P2R(Jmag,Jang2)\n",
    "Ifft2=P2R(Imag,Iang2)\n",
    "##Should write function to phase adjust. Include option for harmonics adjustment too(?)\n",
    "print(np.abs(Vfft2[bin1]),np.angle(Vfft2[bin1]),Vfft2[bin1])"
   ]
  },
  {
   "cell_type": "code",
   "execution_count": 32,
   "metadata": {},
   "outputs": [
    {
     "name": "stdout",
     "output_type": "stream",
     "text": [
      "(2.760427929709159e-06+5.055369168452429e-05j) (5.062900063490349e-05+0j) [5.06290006e-05 5.06290006e-05]\n",
      "(-0.0002048995635192746+0.00011946865218338709j) (0.00010811927673616881+0.00021110853128888964j) [0.00023718 0.00023718]\n",
      "(0.0001531865472780521-0.0002928205102468336j) (-0.0002840328110377065-0.00016892404133871954j) [0.00033047 0.00033047]\n"
     ]
    }
   ],
   "source": [
    "print(Vfft[120],Vfft2[120],np.abs([Vfft[120],Vfft2[120]]))\n",
    "print(Jfft[120],Jfft2[120],np.abs([Jfft[120],Jfft2[120]]))\n",
    "print(Ifft[120],Ifft2[120],np.abs([Ifft[120],Ifft2[120]]))"
   ]
  },
  {
   "cell_type": "code",
   "execution_count": 408,
   "metadata": {},
   "outputs": [
    {
     "name": "stdout",
     "output_type": "stream",
     "text": [
      "-1.5654663926613661\n",
      "-1.2337790006640572\n",
      "1.4939701108041392\n"
     ]
    }
   ],
   "source": [
    "print(Vang[120])\n",
    "print(Jang[120])\n",
    "print(Iang[120])\n",
    "np.ex"
   ]
  },
  {
   "cell_type": "raw",
   "metadata": {},
   "source": []
  },
  {
   "cell_type": "code",
   "execution_count": 60,
   "metadata": {},
   "outputs": [
    {
     "data": {
      "image/png": "[encoded data removed]",
      "text/plain": [
       "<Figure size 468x648 with 3 Axes>"
      ]
     },
     "metadata": {
      "needs_background": "light"
     },
     "output_type": "display_data"
    }
   ],
   "source": [
    "fig=plt.figure(figsize=(6.5,9))\n",
    "ax1 = fig.add_subplot(311)\n",
    "# ax1.plot(t[:,1],V[:,1],t[:,0],J[:,0])\n",
    "ax1.plot(freq,Vfft.real,freq,Vfft2.real)\n",
    "#ax1.set_xlim(-3,3)\n",
    "ax1.set_ylim(-.21,.21)\n",
    "\n",
    "if Xrayraw==True:   \n",
    "    ax2=fig.add_subplot(312)\n",
    "    ax2.plot(t,Io,t,If,t,Ir)\n",
    "else:\n",
    "    ax2=fig.add_subplot(312)\n",
    "    ax2.plot(t,Ir)\n",
    "\n",
    "ax3=fig.add_subplot(313)\n",
    "ax3.plot(freq,np.abs(Vfft),freq,np.abs(Vfft2),freq,Vfft.real,freq,Vfft2.real)\n",
    "ax3.set_xlim(0.1,3)\n",
    "ax3.set_ylim(0,.008)\n",
    "plt.show()"
   ]
  },
  {
   "cell_type": "code",
   "execution_count": 37,
   "metadata": {},
   "outputs": [
    {
     "data": {
      "text/plain": [
       "39900"
      ]
     },
     "execution_count": 37,
     "metadata": {},
     "output_type": "execute_result"
    }
   ],
   "source": [
    "np.size(freq)"
   ]
  },
  {
   "cell_type": "code",
   "execution_count": 384,
   "metadata": {},
   "outputs": [
    {
     "name": "stdout",
     "output_type": "stream",
     "text": [
      "0.5000005000005001 0.1592814435 0.04186600690340944\n"
     ]
    },
    {
     "data": {
      "text/plain": [
       "0.2628429651531218"
      ]
     },
     "execution_count": 384,
     "metadata": {},
     "output_type": "execute_result"
    }
   ],
   "source": [
    "print(freq[120],V[525,1],np.abs(Vfft[120]))\n",
    "abs(Vfft[120])/V[525,1]"
   ]
  },
  {
   "cell_type": "code",
   "execution_count": 162,
   "metadata": {},
   "outputs": [
    {
     "name": "stdout",
     "output_type": "stream",
     "text": [
      "0.00095238 0.030860654562079527 39.99996\n"
     ]
    }
   ],
   "source": [
    "print(dt,np.sqrt(dt),dt*V[:,0].size)"
   ]
  },
  {
   "cell_type": "code",
   "execution_count": 171,
   "metadata": {},
   "outputs": [
    {
     "data": {
      "text/plain": [
       "204.93901531919198"
      ]
     },
     "execution_count": 171,
     "metadata": {},
     "output_type": "execute_result"
    }
   ],
   "source": [
    "np.sqrt(V[:,0].size)"
   ]
  },
  {
   "cell_type": "code",
   "execution_count": 205,
   "metadata": {},
   "outputs": [
    {
     "data": {
      "text/plain": [
       "524.996020491516"
      ]
     },
     "execution_count": 205,
     "metadata": {},
     "output_type": "execute_result"
    }
   ],
   "source": [
    "freq[int(V[:,0].size/2)-1]"
   ]
  },
  {
   "cell_type": "code",
   "execution_count": 202,
   "metadata": {},
   "outputs": [
    {
     "data": {
      "text/plain": [
       "116550.0"
      ]
     },
     "execution_count": 202,
     "metadata": {},
     "output_type": "execute_result"
    }
   ],
   "source": [
    "V[:,0].size/2"
   ]
  },
  {
   "cell_type": "code",
   "execution_count": 207,
   "metadata": {},
   "outputs": [
    {
     "data": {
      "text/plain": [
       "525.000525000525"
      ]
     },
     "execution_count": 207,
     "metadata": {},
     "output_type": "execute_result"
    }
   ],
   "source": [
    "1/(2*dt)"
   ]
  },
  {
   "cell_type": "code",
   "execution_count": 248,
   "metadata": {},
   "outputs": [
    {
     "data": {
      "text/plain": [
       "array([221.99882562, 221.99882562, 221.99882562, 221.99882562,\n",
       "       221.99882562])"
      ]
     },
     "execution_count": 248,
     "metadata": {},
     "output_type": "execute_result"
    }
   ],
   "source": [
    "t[-1]"
   ]
  },
  {
   "cell_type": "code",
   "execution_count": 263,
   "metadata": {},
   "outputs": [
    {
     "data": {
      "text/plain": [
       "121"
      ]
     },
     "execution_count": 263,
     "metadata": {},
     "output_type": "execute_result"
    }
   ],
   "source": [
    "filestr=str(P + ' ' + str('%.3f'%float(1)) + ' '+ \"*.txt\")\n",
    "#Making array of strings to help pandas find all data files\n",
    "# for a single measured amplitude and location (point)\n",
    "all_files=glob.glob(os.path.join(path,P, filestr))\n",
    "all_files\n",
    "len(all_files)"
   ]
  },
  {
   "cell_type": "code",
   "execution_count": 284,
   "metadata": {},
   "outputs": [
    {
     "data": {
      "text/plain": [
       "250.99800796022265"
      ]
     },
     "execution_count": 284,
     "metadata": {},
     "output_type": "execute_result"
    }
   ],
   "source": [
    "np.sqrt(V[:,0].size)/2"
   ]
  },
  {
   "cell_type": "code",
   "execution_count": 287,
   "metadata": {},
   "outputs": [
    {
     "name": "stdout",
     "output_type": "stream",
     "text": [
      "12 ms ± 1.37 ms per loop (mean ± std. dev. of 7 runs, 100 loops each)\n"
     ]
    }
   ],
   "source": [
    "%%timeit [-n]\n",
    "Vfft=np.fft.fft(V[:,1])/(V[:,0].size/2)"
   ]
  },
  {
   "cell_type": "code",
   "execution_count": 381,
   "metadata": {},
   "outputs": [
    {
     "name": "stdout",
     "output_type": "stream",
     "text": [
      "15.1 ms ± 4.57 ms per loop (mean ± std. dev. of 7 runs, 100 loops each)\n"
     ]
    }
   ],
   "source": [
    "%%timeit [-n]\n",
    "Vfft=np.fft.fft(Ir[:,0])/ns"
   ]
  },
  {
   "cell_type": "code",
   "execution_count": 289,
   "metadata": {},
   "outputs": [],
   "source": [
    "ns=V[:,0].size/2"
   ]
  },
  {
   "cell_type": "code",
   "execution_count": 347,
   "metadata": {},
   "outputs": [
    {
     "name": "stdout",
     "output_type": "stream",
     "text": [
      "0.1594757843185224 -0.1594757843185224 (252000,)\n"
     ]
    }
   ],
   "source": [
    "Vfft.size\n",
    "print(Vfft[-120].imag,Vfft[120].imag,np.shape(Vfft))"
   ]
  },
  {
   "cell_type": "code",
   "execution_count": 370,
   "metadata": {},
   "outputs": [
    {
     "data": {
      "text/plain": [
       "(0.00081105666507623-0.1594757843185224j)"
      ]
     },
     "execution_count": 370,
     "metadata": {},
     "output_type": "execute_result"
    }
   ],
   "source": [
    "Vfft_fi=np.zeros((1,Vfft.size))\n",
    "Vfft_fi=Vfft_fi+1j*Vfft_fi\n",
    "Vfft_fi[0,-120]=np.complex(Vfft[-120].real,Vfft[-120].imag)\n",
    "Vfft_fi[0,120]=np.complex(Vfft[120].real,Vfft[120].imag)\n",
    "Vfft_fi[0,120]"
   ]
  },
  {
   "cell_type": "code",
   "execution_count": 372,
   "metadata": {},
   "outputs": [
    {
     "name": "stdout",
     "output_type": "stream",
     "text": [
      "(252000,) (252000,)\n"
     ]
    }
   ],
   "source": [
    "Vifft=np.fft.ifft(Vfft_fi)*ns\n",
    "Vifft.resize(V[:,0].size)\n",
    "\n",
    "\n",
    "print(np.shape(Vifft),np.shape(V[:,0]))"
   ]
  },
  {
   "cell_type": "code",
   "execution_count": 380,
   "metadata": {},
   "outputs": [
    {
     "data": {
      "image/png": "[encoded data removed]",
      "text/plain": [
       "<Figure size 468x432 with 1 Axes>"
      ]
     },
     "metadata": {
      "needs_background": "light"
     },
     "output_type": "display_data"
    }
   ],
   "source": [
    "fig=plt.figure(figsize=(6.5,6))\n",
    "ax1 = fig.add_subplot(111)\n",
    "ax1.plot(t[:,1],Vifft)\n",
    "ax1.set_xlim(0,4)\n",
    "\n",
    "plt.show()"
   ]
  },
  {
   "cell_type": "code",
   "execution_count": 119,
   "metadata": {},
   "outputs": [
    {
     "name": "stdout",
     "output_type": "stream",
     "text": [
      "(2100, 10)\n"
     ]
    }
   ],
   "source": [
    "all_files=glob.glob(os.path.join(path,P, filestr))\n",
    "data3=pd.concat((pd.read_csv(f,delimiter='\\t') for f in all_files[initfile:finfile]),axis=1)\n",
    "print(data3.shape)"
   ]
  },
  {
   "cell_type": "code",
   "execution_count": 120,
   "metadata": {},
   "outputs": [
    {
     "name": "stdout",
     "output_type": "stream",
     "text": [
      "(2100, 10)\n"
     ]
    }
   ],
   "source": [
    "print(data3.shape)\n",
    "datadum=np.array(data3)"
   ]
  },
  {
   "cell_type": "code",
   "execution_count": 115,
   "metadata": {},
   "outputs": [
    {
     "name": "stdout",
     "output_type": "stream",
     "text": [
      "<class 'pandas.core.frame.DataFrame'>\n"
     ]
    },
    {
     "data": {
      "text/plain": [
       "array([[0.        , 0.0047619 , 0.0095238 , ..., 0.        , 0.        ,\n",
       "        0.        ],\n",
       "       [0.00095238, 0.00571428, 0.01047618, ..., 0.        , 0.        ,\n",
       "        0.        ],\n",
       "       [0.00190476, 0.00666666, 0.01142856, ..., 0.        , 0.        ,\n",
       "        0.        ],\n",
       "       [0.00285714, 0.00761904, 0.01238094, ..., 0.        , 0.        ,\n",
       "        0.        ],\n",
       "       [0.00380952, 0.00857142, 0.01333332, ..., 0.        , 0.        ,\n",
       "        0.        ]])"
      ]
     },
     "execution_count": 115,
     "metadata": {},
     "output_type": "execute_result"
    }
   ],
   "source": [
    "\n",
    "print(type(data))\n",
    "datadum.resize(5,21000)\n",
    "datadum"
   ]
  },
  {
   "cell_type": "code",
   "execution_count": 129,
   "metadata": {},
   "outputs": [
    {
     "name": "stdout",
     "output_type": "stream",
     "text": [
      "[0.        0.3999996 0.7999992 1.1999988 1.5999984] [1.9904742  1.99142658 1.99237896 1.99333134 1.99428372 1.9952361\n",
      " 1.99618848 1.99714086 1.99809324 1.99904562]\n"
     ]
    }
   ],
   "source": [
    "print(datadum.reshape((5,4200),order=\"C\")[0:10,0], datadum[2090:2105,5])"
   ]
  },
  {
   "cell_type": "code",
   "execution_count": 74,
   "metadata": {},
   "outputs": [
    {
     "data": {
      "text/plain": [
       "(50, 2100)"
      ]
     },
     "execution_count": 74,
     "metadata": {},
     "output_type": "execute_result"
    }
   ],
   "source": [
    "np.shape(datadum)"
   ]
  },
  {
   "cell_type": "code",
   "execution_count": 111,
   "metadata": {},
   "outputs": [
    {
     "data": {
      "text/html": [
       "<div>\n",
       "<style scoped>\n",
       "    .dataframe tbody tr th:only-of-type {\n",
       "        vertical-align: middle;\n",
       "    }\n",
       "\n",
       "    .dataframe tbody tr th {\n",
       "        vertical-align: top;\n",
       "    }\n",
       "\n",
       "    .dataframe thead th {\n",
       "        text-align: right;\n",
       "    }\n",
       "</style>\n",
       "<table border=\"1\" class=\"dataframe\">\n",
       "  <thead>\n",
       "    <tr style=\"text-align: right;\">\n",
       "      <th></th>\n",
       "      <th>0</th>\n",
       "      <th>1</th>\n",
       "      <th>2</th>\n",
       "      <th>3</th>\n",
       "      <th>4</th>\n",
       "      <th>5</th>\n",
       "      <th>6</th>\n",
       "      <th>7</th>\n",
       "      <th>8</th>\n",
       "      <th>9</th>\n",
       "      <th>...</th>\n",
       "      <th>2090</th>\n",
       "      <th>2091</th>\n",
       "      <th>2092</th>\n",
       "      <th>2093</th>\n",
       "      <th>2094</th>\n",
       "      <th>2095</th>\n",
       "      <th>2096</th>\n",
       "      <th>2097</th>\n",
       "      <th>2098</th>\n",
       "      <th>2099</th>\n",
       "    </tr>\n",
       "  </thead>\n",
       "  <tbody>\n",
       "    <tr>\n",
       "      <th>3623309474.7705244000</th>\n",
       "      <td>0.000000</td>\n",
       "      <td>0.000952</td>\n",
       "      <td>0.001905</td>\n",
       "      <td>0.002857</td>\n",
       "      <td>0.003810</td>\n",
       "      <td>0.004762</td>\n",
       "      <td>0.005714</td>\n",
       "      <td>0.006667</td>\n",
       "      <td>0.007619</td>\n",
       "      <td>0.008571</td>\n",
       "      <td>...</td>\n",
       "      <td>NaN</td>\n",
       "      <td>NaN</td>\n",
       "      <td>NaN</td>\n",
       "      <td>NaN</td>\n",
       "      <td>NaN</td>\n",
       "      <td>NaN</td>\n",
       "      <td>NaN</td>\n",
       "      <td>NaN</td>\n",
       "      <td>NaN</td>\n",
       "      <td>NaN</td>\n",
       "    </tr>\n",
       "    <tr>\n",
       "      <th>Frequency</th>\n",
       "      <td>-0.401468</td>\n",
       "      <td>-0.417904</td>\n",
       "      <td>-0.423153</td>\n",
       "      <td>-0.440338</td>\n",
       "      <td>-0.440901</td>\n",
       "      <td>-0.435151</td>\n",
       "      <td>-0.438151</td>\n",
       "      <td>-0.431277</td>\n",
       "      <td>-0.439088</td>\n",
       "      <td>-0.454336</td>\n",
       "      <td>...</td>\n",
       "      <td>-0.441588</td>\n",
       "      <td>-0.447462</td>\n",
       "      <td>-0.454899</td>\n",
       "      <td>-0.457399</td>\n",
       "      <td>-0.450337</td>\n",
       "      <td>-0.446900</td>\n",
       "      <td>-0.440026</td>\n",
       "      <td>-0.441276</td>\n",
       "      <td>-0.447462</td>\n",
       "      <td>-0.451399</td>\n",
       "    </tr>\n",
       "    <tr>\n",
       "      <th>0.500001</th>\n",
       "      <td>1.330313</td>\n",
       "      <td>1.367109</td>\n",
       "      <td>1.392847</td>\n",
       "      <td>1.514667</td>\n",
       "      <td>1.426832</td>\n",
       "      <td>1.423895</td>\n",
       "      <td>1.411776</td>\n",
       "      <td>1.441138</td>\n",
       "      <td>1.366172</td>\n",
       "      <td>1.503422</td>\n",
       "      <td>...</td>\n",
       "      <td>1.412276</td>\n",
       "      <td>1.440013</td>\n",
       "      <td>1.495113</td>\n",
       "      <td>1.491740</td>\n",
       "      <td>1.476621</td>\n",
       "      <td>1.453132</td>\n",
       "      <td>1.444199</td>\n",
       "      <td>1.395908</td>\n",
       "      <td>1.474310</td>\n",
       "      <td>1.427644</td>\n",
       "    </tr>\n",
       "    <tr>\n",
       "      <th>Amplitude</th>\n",
       "      <td>-0.008987</td>\n",
       "      <td>-0.020176</td>\n",
       "      <td>-0.003298</td>\n",
       "      <td>0.005266</td>\n",
       "      <td>0.008829</td>\n",
       "      <td>0.014205</td>\n",
       "      <td>0.008079</td>\n",
       "      <td>0.014268</td>\n",
       "      <td>0.009704</td>\n",
       "      <td>0.019956</td>\n",
       "      <td>...</td>\n",
       "      <td>0.017268</td>\n",
       "      <td>0.000953</td>\n",
       "      <td>0.018519</td>\n",
       "      <td>0.011892</td>\n",
       "      <td>0.006579</td>\n",
       "      <td>0.002078</td>\n",
       "      <td>0.007766</td>\n",
       "      <td>0.013955</td>\n",
       "      <td>0.007892</td>\n",
       "      <td>-0.002235</td>\n",
       "    </tr>\n",
       "    <tr>\n",
       "      <th>0.200000</th>\n",
       "      <td>-0.008095</td>\n",
       "      <td>-0.020215</td>\n",
       "      <td>-0.002472</td>\n",
       "      <td>0.001714</td>\n",
       "      <td>0.002651</td>\n",
       "      <td>0.003963</td>\n",
       "      <td>-0.000847</td>\n",
       "      <td>0.007775</td>\n",
       "      <td>0.005026</td>\n",
       "      <td>0.009524</td>\n",
       "      <td>...</td>\n",
       "      <td>-0.004346</td>\n",
       "      <td>-0.002159</td>\n",
       "      <td>0.001152</td>\n",
       "      <td>-0.003346</td>\n",
       "      <td>-0.003971</td>\n",
       "      <td>-0.006220</td>\n",
       "      <td>-0.004971</td>\n",
       "      <td>-0.000972</td>\n",
       "      <td>-0.005596</td>\n",
       "      <td>-0.018966</td>\n",
       "    </tr>\n",
       "    <tr>\n",
       "      <th>3623309476.7705224000</th>\n",
       "      <td>NaN</td>\n",
       "      <td>NaN</td>\n",
       "      <td>NaN</td>\n",
       "      <td>NaN</td>\n",
       "      <td>NaN</td>\n",
       "      <td>NaN</td>\n",
       "      <td>NaN</td>\n",
       "      <td>NaN</td>\n",
       "      <td>NaN</td>\n",
       "      <td>NaN</td>\n",
       "      <td>...</td>\n",
       "      <td>1.990474</td>\n",
       "      <td>1.991427</td>\n",
       "      <td>1.992379</td>\n",
       "      <td>1.993331</td>\n",
       "      <td>1.994284</td>\n",
       "      <td>1.995236</td>\n",
       "      <td>1.996188</td>\n",
       "      <td>1.997141</td>\n",
       "      <td>1.998093</td>\n",
       "      <td>1.999046</td>\n",
       "    </tr>\n",
       "  </tbody>\n",
       "</table>\n",
       "<p>6 rows × 4200 columns</p>\n",
       "</div>"
      ],
      "text/plain": [
       "                            0         1         2         3         4     \\\n",
       "3623309474.7705244000   0.000000  0.000952  0.001905  0.002857  0.003810   \n",
       " Frequency             -0.401468 -0.417904 -0.423153 -0.440338 -0.440901   \n",
       " 0.500001               1.330313  1.367109  1.392847  1.514667  1.426832   \n",
       " Amplitude             -0.008987 -0.020176 -0.003298  0.005266  0.008829   \n",
       " 0.200000              -0.008095 -0.020215 -0.002472  0.001714  0.002651   \n",
       "3623309476.7705224000        NaN       NaN       NaN       NaN       NaN   \n",
       "\n",
       "                            5         6         7         8         9     \\\n",
       "3623309474.7705244000   0.004762  0.005714  0.006667  0.007619  0.008571   \n",
       " Frequency             -0.435151 -0.438151 -0.431277 -0.439088 -0.454336   \n",
       " 0.500001               1.423895  1.411776  1.441138  1.366172  1.503422   \n",
       " Amplitude              0.014205  0.008079  0.014268  0.009704  0.019956   \n",
       " 0.200000               0.003963 -0.000847  0.007775  0.005026  0.009524   \n",
       "3623309476.7705224000        NaN       NaN       NaN       NaN       NaN   \n",
       "\n",
       "                          ...         2090      2091      2092      2093  \\\n",
       "3623309474.7705244000     ...          NaN       NaN       NaN       NaN   \n",
       " Frequency                ...    -0.441588 -0.447462 -0.454899 -0.457399   \n",
       " 0.500001                 ...     1.412276  1.440013  1.495113  1.491740   \n",
       " Amplitude                ...     0.017268  0.000953  0.018519  0.011892   \n",
       " 0.200000                 ...    -0.004346 -0.002159  0.001152 -0.003346   \n",
       "3623309476.7705224000     ...     1.990474  1.991427  1.992379  1.993331   \n",
       "\n",
       "                            2094      2095      2096      2097      2098  \\\n",
       "3623309474.7705244000        NaN       NaN       NaN       NaN       NaN   \n",
       " Frequency             -0.450337 -0.446900 -0.440026 -0.441276 -0.447462   \n",
       " 0.500001               1.476621  1.453132  1.444199  1.395908  1.474310   \n",
       " Amplitude              0.006579  0.002078  0.007766  0.013955  0.007892   \n",
       " 0.200000              -0.003971 -0.006220 -0.004971 -0.000972 -0.005596   \n",
       "3623309476.7705224000   1.994284  1.995236  1.996188  1.997141  1.998093   \n",
       "\n",
       "                            2099  \n",
       "3623309474.7705244000        NaN  \n",
       " Frequency             -0.451399  \n",
       " 0.500001               1.427644  \n",
       " Amplitude             -0.002235  \n",
       " 0.200000              -0.018966  \n",
       "3623309476.7705224000   1.999046  \n",
       "\n",
       "[6 rows x 4200 columns]"
      ]
     },
     "execution_count": 111,
     "metadata": {},
     "output_type": "execute_result"
    }
   ],
   "source": [
    "data3"
   ]
  },
  {
   "cell_type": "code",
   "execution_count": null,
   "metadata": {},
   "outputs": [],
   "source": []
  }
 ],
 "metadata": {
  "kernelspec": {
   "display_name": "Python 3",
   "language": "python",
   "name": "python3"
  },
  "language_info": {
   "codemirror_mode": {
    "name": "ipython",
    "version": 3
   },
   "file_extension": ".py",
   "mimetype": "text/x-python",
   "name": "python",
   "nbconvert_exporter": "python",
   "pygments_lexer": "ipython3",
   "version": "3.7.4"
  }
 },
 "nbformat": 4,
 "nbformat_minor": 4
}
