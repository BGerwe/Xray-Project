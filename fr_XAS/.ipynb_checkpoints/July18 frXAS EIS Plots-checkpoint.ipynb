{
 "cells": [
  {
   "cell_type": "code",
   "execution_count": 1,
   "metadata": {},
   "outputs": [],
   "source": [
    "import numpy as np\n",
    "import pandas as pd\n",
    "import matplotlib as mpl\n",
    "import matplotlib.pyplot as plt\n",
    "# import glob\n",
    "from os import path"
   ]
  },
  {
   "cell_type": "code",
   "execution_count": 2,
   "metadata": {},
   "outputs": [],
   "source": [
    "fpath=r'G:\\My Drive\\UW Research\\fr-XAS July 2018\\Data\\Versastat'\n",
    "\n",
    "file_str1=fpath+r'\\1% O2 EIS OCV.csv'\n",
    "if path.exists(file_str1):\n",
    "    data1=np.array(pd.read_csv(file_str1,delimiter=',',engine='python',usecols=[9,10,11,12,13,14,15,16],\n",
    "                        skip_blank_lines=True).dropna(how='all'))\n",
    "    labels=list('1% O2')\n",
    "\n",
    "file_str2=fpath+r'\\10% O2 EIS OCV.csv'\n",
    "if path.exists(file_str2):\n",
    "    data2=np.array(pd.read_csv(file_str2,delimiter=',',engine='python',usecols=[9,10,11,12,13,14,15,16],\n",
    "                        skip_blank_lines=True).dropna(how='all'))\n",
    "    labels.append('10% O2')\n",
    "\n",
    "file_str3=fpath+r'\\100% O2 EIS OCV.csv'\n",
    "if path.exists(file_str3):\n",
    "    data3=np.array(pd.read_csv(file_str3,delimiter=',',engine='python',usecols=[9,10,11,12,13,14,15,16],\n",
    "                        skip_blank_lines=True).dropna(how='all'))\n",
    "    labels.append('100% O2')\n"
   ]
  },
  {
   "cell_type": "code",
   "execution_count": 50,
   "metadata": {},
   "outputs": [
    {
     "data": {
      "image/png": "[encoded data removed]",
      "text/plain": [
       "<Figure size 432x432 with 1 Axes>"
      ]
     },
     "metadata": {
      "needs_background": "light"
     },
     "output_type": "display_data"
    }
   ],
   "source": [
    "fig=plt.figure(figsize=(6,6))\n",
    "\n",
    "# 1% O2 highlight points\n",
    "filled1=np.array([[data1[40,5],data1[45,5],data1[50,5]],\n",
    "                 [-data1[40,6],-data1[45,6],-data1[50,6]]]).T\n",
    "\n",
    "filled2=np.array([[data2[43,5],data2[50,5],data2[56,5]],\n",
    "                 [-data2[43,6],-data2[50,6],-data2[56,6]]]).T\n",
    "\n",
    "filled3=np.array([[data3[37,5],data3[48,5]],\n",
    "                 [-data3[37,6],-data3[48,6]]]).T\n",
    "\n",
    "\n",
    "ax1=fig.add_axes([.1, .1, .8, .8])\n",
    "ax1.plot(data1[:,5],-data1[:,6],color=(0,0,0),marker='o',mfc=(1,1,1),linestyle='',label='1% $O_2$')\n",
    "ax1.plot(data2[:,5],-data2[:,6],color=(1,0,0),marker='s',mfc=(1,1,1),linestyle='',label='10% $O_2$')\n",
    "ax1.plot(data3[:,5],-data3[:,6],color=(0,0,1),marker='^',mfc=(1,1,1),linestyle='',label='100% $O_2$')\n",
    "ax1.legend()\n",
    "ax1.plot(filled1[:,0],filled1[:,1],color=(0,0,0),marker='o',mfc=(0,0,0),linestyle='',zorder=4)\n",
    "ax1.plot(filled2[:,0],filled2[:,1],color=(1,0,0),marker='s',mfc=(1,0,0),linestyle='',zorder=5)\n",
    "ax1.plot(filled3[:,0],filled3[:,1],color=(0,0,1),marker='^',mfc=(0,0,1),linestyle='',zorder=6)\n",
    "\n",
    "\n",
    "ax1.set(xlim=[0,1600],ylim=[0, 1600])\n",
    "\n",
    "\n",
    "plt.show()\n",
    "# plt.savefig('EIS fig test.png',dpi=300,format='png',bbox_inches='tight')"
   ]
  },
  {
   "cell_type": "code",
   "execution_count": null,
   "metadata": {},
   "outputs": [],
   "source": []
  }
 ],
 "metadata": {
  "kernelspec": {
   "display_name": "Python 3",
   "language": "python",
   "name": "python3"
  },
  "language_info": {
   "codemirror_mode": {
    "name": "ipython",
    "version": 3
   },
   "file_extension": ".py",
   "mimetype": "text/x-python",
   "name": "python",
   "nbconvert_exporter": "python",
   "pygments_lexer": "ipython3",
   "version": "3.6.6"
  }
 },
 "nbformat": 4,
 "nbformat_minor": 2
}
