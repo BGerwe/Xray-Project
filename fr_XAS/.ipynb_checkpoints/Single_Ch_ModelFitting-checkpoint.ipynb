{
 "cells": [
  {
   "cell_type": "code",
   "execution_count": 1,
   "metadata": {},
   "outputs": [],
   "source": [
    "import numpy as np\n",
    "import frXAS_Analysis as frXAS\n",
    "\n",
    "%reload_ext autoreload\n",
    "%autoreload 2"
   ]
  },
  {
   "cell_type": "code",
   "execution_count": 2,
   "metadata": {},
   "outputs": [],
   "source": [
    "# Some data from July 2018 \"Ir avg normalized\" fits from fr-XAS_View LabVIEW program\n",
    "Po2 = ('1', '10', '100')\n",
    "direc = 'July2018 Data Fits\\Ir avg normalized'\n",
    "\n",
    "#1% O2 0.25 Hz Data\n",
    "Pos1_0_25Hz = np.genfromtxt(direc + '\\Pos1_0_25Hz.txt', delimiter=', ')\n",
    "Re1_0_25Hz = np.genfromtxt(direc + '\\Re1_0_25Hz.txt', delimiter=', ')\n",
    "Im1_0_25Hz = np.genfromtxt(direc + '\\Im1_0_25Hz.txt', delimiter=', ')\n",
    "\n",
    "#1% O2 1 Hz Data\n",
    "Pos1_1Hz = np.genfromtxt(direc + '\\Pos1_1Hz.txt', delimiter=', ')\n",
    "Re1_1Hz = np.genfromtxt(direc + '\\Re1_1Hz.txt', delimiter=', ')\n",
    "Im1_1Hz = np.genfromtxt(direc + '\\Im1_1Hz.txt', delimiter=', ')\n",
    "\n",
    "#1% O2 4 Hz Data\n",
    "Pos1_4Hz = np.genfromtxt(direc + '\\Pos1_4Hz.txt', delimiter=', ')\n",
    "Re1_4Hz = np.genfromtxt(direc + '\\Re1_4Hz.txt', delimiter=', ')\n",
    "Im1_4Hz = np.genfromtxt(direc + '\\Im1_4Hz.txt', delimiter=', ')\n",
    "\n",
    "#10% O2 0.25 Hz Data\n",
    "Pos10_0_25Hz = np.genfromtxt(direc + '\\Pos10_0_25Hz.txt', delimiter=', ')\n",
    "Re10_0_25Hz = np.genfromtxt(direc + '\\Re10_0_25Hz.txt', delimiter=', ')\n",
    "Im10_0_25Hz = np.genfromtxt(direc + '\\Im10_0_25Hz.txt', delimiter=', ')\n",
    "\n",
    "#10% O2 1 Hz Data\n",
    "Pos10_1Hz = np.genfromtxt(direc + '\\Pos10_1Hz.txt', delimiter=', ')\n",
    "Re10_1Hz = np.genfromtxt(direc + '\\Re10_1Hz.txt', delimiter=', ')\n",
    "Im10_1Hz = np.genfromtxt(direc + '\\Im10_1Hz.txt', delimiter=', ')\n",
    "\n",
    "#10% O2 5 Hz Data\n",
    "Pos10_5Hz = np.genfromtxt(direc + '\\Pos10_5Hz.txt', delimiter=', ')\n",
    "Re10_5Hz = np.genfromtxt(direc + '\\Re10_5Hz.txt', delimiter=', ')\n",
    "Im10_5Hz = np.genfromtxt(direc + '\\Im10_5Hz.txt', delimiter=', ')\n",
    "\n",
    "#100% O2 0.5 Hz Data\n",
    "Pos100_0_5Hz = np.genfromtxt(direc + '\\Pos100_0_5Hz.txt', delimiter=', ')\n",
    "Re100_0_5Hz = np.genfromtxt(direc + '\\Re100_0_5Hz.txt', delimiter=', ')\n",
    "Im100_0_5Hz = np.genfromtxt(direc + '\\Im100_0_5Hz.txt', delimiter=', ')\n",
    "\n",
    "#100% O2 8 Hz Data\n",
    "Pos100_8Hz = np.genfromtxt(direc + '\\Pos100_8Hz.txt', delimiter=', ')\n",
    "Re100_8Hz = np.genfromtxt(direc + '\\Re100_8Hz.txt', delimiter=', ')\n",
    "Im100_8Hz = np.genfromtxt(direc + '\\Im100_8Hz.txt', delimiter=', ')"
   ]
  },
  {
   "cell_type": "code",
   "execution_count": 3,
   "metadata": {},
   "outputs": [],
   "source": [
    "frXAS.create_Exp_File(\"July18_frXAS\", Po2, Temp=700)"
   ]
  },
  {
   "cell_type": "code",
   "execution_count": 4,
   "metadata": {},
   "outputs": [
    {
     "data": {
      "text/plain": [
       "<KeysViewHDF5 ['1%_O2', '10%_O2', '100%_O2']>"
      ]
     },
     "execution_count": 4,
     "metadata": {},
     "output_type": "execute_result"
    }
   ],
   "source": [
    "f1 = frXAS.open_Exp_File('July18_frXAS')\n",
    "f1.keys()"
   ]
  },
  {
   "cell_type": "code",
   "execution_count": 5,
   "metadata": {},
   "outputs": [
    {
     "name": "stdout",
     "output_type": "stream",
     "text": [
      "/1%_O2/0.25_Hz (3, 21)\n",
      "/1%_O2/1_Hz (3, 18)\n",
      "/1%_O2/4_Hz (3, 20)\n",
      "/10%_O2/0.25_Hz (3, 31)\n",
      "/10%_O2/1_Hz (3, 24)\n",
      "/10%_O2/5_Hz (3, 13)\n",
      "/100%_O2/0.25_Hz (3, 9)\n",
      "/100%_O2/4_Hz (3, 18)\n"
     ]
    }
   ],
   "source": [
    "frXAS.add_frXAS_Profile(f1, Po2[0], 0.25, np.array([Pos1_0_25Hz,Re1_0_25Hz,Im1_0_25Hz]))\n",
    "frXAS.add_frXAS_Profile(f1, Po2[0], 1, np.array([Pos1_1Hz,Re1_1Hz,Im1_1Hz]))\n",
    "frXAS.add_frXAS_Profile(f1, Po2[0], 4, np.array([Pos1_4Hz,Re1_4Hz,Im1_4Hz]))\n",
    "\n",
    "frXAS.add_frXAS_Profile(f1, Po2[1], 0.25, np.array([Pos10_0_25Hz,Re10_0_25Hz,Im10_0_25Hz]))\n",
    "frXAS.add_frXAS_Profile(f1, Po2[1], 1, np.array([Pos10_1Hz,Re10_1Hz,Im10_1Hz]))\n",
    "frXAS.add_frXAS_Profile(f1, Po2[1], 5, np.array([Pos10_5Hz,Re10_5Hz,Im10_5Hz]))\n",
    "\n",
    "frXAS.add_frXAS_Profile(f1, Po2[2], 0.25, np.array([Pos100_0_5Hz,Re100_0_5Hz,Im100_0_5Hz]))\n",
    "frXAS.add_frXAS_Profile(f1, Po2[2], 4, np.array([Pos100_8Hz,Re100_8Hz,Im100_8Hz]))\n",
    "\n",
    "frXAS.print_data_shapes(f1)\n",
    "\n",
    "f1.close()"
   ]
  },
  {
   "cell_type": "code",
   "execution_count": null,
   "metadata": {},
   "outputs": [],
   "source": []
  }
 ],
 "metadata": {
  "kernelspec": {
   "display_name": "Python 3",
   "language": "python",
   "name": "python3"
  },
  "language_info": {
   "codemirror_mode": {
    "name": "ipython",
    "version": 3
   },
   "file_extension": ".py",
   "mimetype": "text/x-python",
   "name": "python",
   "nbconvert_exporter": "python",
   "pygments_lexer": "ipython3",
   "version": "3.7.4"
  }
 },
 "nbformat": 4,
 "nbformat_minor": 4
}
